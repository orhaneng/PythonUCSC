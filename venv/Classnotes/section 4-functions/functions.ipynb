{
 "cells": [
  {
   "cell_type": "markdown",
   "metadata": {},
   "source": [
    "In this notebook we will discuss:\n",
    "1. Functions\n",
    "2. Arguments and outputs\n",
    "3. default argument\n",
    "4. keyword based arguments"
   ]
  },
  {
   "cell_type": "code",
   "execution_count": null,
   "metadata": {
    "scrolled": true
   },
   "outputs": [],
   "source": [
    "'''\n",
    "Syntax for function\n",
    "def name_of_the_function(list of arguments):\n",
    "    statements that need to be executed\n",
    "    return value\n",
    "\n",
    "'''\n",
    "\n",
    "def increment(a):\n",
    "    b = a+1\n",
    "    print('The increment value is : %d' %b)\n",
    "    return b\n",
    "\n",
    "print(increment(20)) # calling the function and passing a required argument."
   ]
  },
  {
   "cell_type": "code",
   "execution_count": null,
   "metadata": {},
   "outputs": [],
   "source": [
    "# Scope of variables that are is local to the function. \n",
    "\n",
    "'''\n",
    "The variable b does not exist outside the function.  \n",
    "So we will get NameError exception.\n",
    "'''\n",
    "\n",
    "def increment(a):\n",
    "    b = a+1\n",
    "    print('The increment value is : %d' %b)\n",
    "    return b\n",
    "\n",
    "print(increment(20)) # calling the function and passing a required argument. \n",
    "#print(b)"
   ]
  },
  {
   "cell_type": "code",
   "execution_count": null,
   "metadata": {},
   "outputs": [],
   "source": [
    "# A function can take multiple inputs\n",
    "def increment(a,incr):\n",
    "    c = a+incr\n",
    "    print('The value of a is: %d' %a)\n",
    "    return c\n",
    "\n",
    "print(increment(3,10)) # calling the function and passing two required arguments. \n",
    "# 10 will be assigned to a and \n",
    "# 3 will be assigned to incr. So these are called positional arguments."
   ]
  },
  {
   "cell_type": "code",
   "execution_count": null,
   "metadata": {},
   "outputs": [],
   "source": [
    "def increment(a,incr):\n",
    "    c = a+incr\n",
    "    return (c,a,incr)\n",
    "    # returning multiple values as a tuple\n",
    "print(increment(10,3))"
   ]
  },
  {
   "cell_type": "code",
   "execution_count": null,
   "metadata": {},
   "outputs": [],
   "source": [
    "# Specifying default values\n",
    "def increment(a,incr=1):\n",
    "    a = a+incr\n",
    "    return a\n",
    "\n",
    "print(increment(3)) # for this the incr will default to 1\n",
    "print(increment(3,4)) \n",
    "# here the incr is assigned a value of 4 which overrides the default value"
   ]
  },
  {
   "cell_type": "code",
   "execution_count": null,
   "metadata": {},
   "outputs": [],
   "source": [
    "def increment(a=4,incr1=1):\n",
    "    print('The value of a is :%d' %a)\n",
    "    a = a+incr1\n",
    "    return a\n",
    "\n",
    "print(increment(a=6,incr1=2)) # 2 keyword arguments"
   ]
  },
  {
   "cell_type": "code",
   "execution_count": null,
   "metadata": {},
   "outputs": [],
   "source": [
    "print(increment(incr1=2,a=3))\n",
    "# Unlike positional arguments, order is not important for keyword arguments."
   ]
  },
  {
   "cell_type": "code",
   "execution_count": null,
   "metadata": {},
   "outputs": [],
   "source": [
    "print(increment(10,incr1=5)) # if you assign a value for a keyword argument \n",
    "# then other arguments to its right should also be assigned values."
   ]
  },
  {
   "cell_type": "code",
   "execution_count": null,
   "metadata": {},
   "outputs": [],
   "source": [
    "print(increment(a=10,5)) # This will generate a Syntax error"
   ]
  },
  {
   "cell_type": "code",
   "execution_count": null,
   "metadata": {},
   "outputs": [],
   "source": [
    "print(increment(5,incr1=2))\n",
    "# if you assign a value for a keyword argument \n",
    "# then other keyword arguments to its right should also be assigned values."
   ]
  },
  {
   "cell_type": "code",
   "execution_count": null,
   "metadata": {},
   "outputs": [],
   "source": [
    "print(type(increment))\n",
    "print(increment)"
   ]
  },
  {
   "cell_type": "markdown",
   "metadata": {},
   "source": [
    "Mutable and Immutable objects in Python - Mutable objects can be changed in place that means we can change their content without changing their identity. Whereas immutable objects cannot be changed in place. \n",
    "\n",
    "Mutable objects:\n",
    "    \n",
    "    Set\n",
    "    \n",
    "    List\n",
    "    \n",
    "    Dictionary\n",
    "    \n",
    "Immutable objects:\n",
    "    \n",
    "    String\n",
    "    \n",
    "    Integer\n",
    "    \n",
    "    Float\n",
    "    \n",
    "    Tuple\n",
    "    \n",
    "    bool"
   ]
  },
  {
   "cell_type": "code",
   "execution_count": null,
   "metadata": {},
   "outputs": [],
   "source": [
    "a = 10\n",
    "b = a\n",
    "print(a, id(a))\n",
    "print(b, id(b))\n",
    "b = b + 11\n",
    "print(a, id(a))\n",
    "print(b, id(b))"
   ]
  },
  {
   "cell_type": "code",
   "execution_count": null,
   "metadata": {},
   "outputs": [],
   "source": [
    "C = [12, 14]\n",
    "D = C\n",
    "print(C, id(C))\n",
    "print(D, id(D))\n",
    "D.append(-12)\n",
    "print(C, id(C))\n",
    "print(D, id(D))"
   ]
  },
  {
   "cell_type": "markdown",
   "metadata": {},
   "source": [
    "### Pass-by-value and pass-by-reference\n",
    "\n",
    "http://stackoverflow.com/questions/986006/how-do-i-pass-a-variable-by-reference"
   ]
  },
  {
   "cell_type": "code",
   "execution_count": null,
   "metadata": {},
   "outputs": [],
   "source": [
    "def myfunc(b):# b is an int\n",
    "    b = b*2\n",
    "    print(\"b = \", b)\n",
    "    return b\n",
    "a = 2\n",
    "myfunc(a)\n",
    "print(\"a = \", a)"
   ]
  },
  {
   "cell_type": "code",
   "execution_count": null,
   "metadata": {},
   "outputs": [],
   "source": [
    "def myfunc(b):# b is a TUPLE that is completely replaced\n",
    "    b = (4, 5, 6,)\n",
    "    print(\"b = \", b)\n",
    "    return b\n",
    "a = (1,2,3)\n",
    "myfunc(a)\n",
    "print(\"a = \", a)"
   ]
  },
  {
   "cell_type": "code",
   "execution_count": null,
   "metadata": {},
   "outputs": [],
   "source": [
    "def myfunc(b):# b is a list that is completely replaced\n",
    "    b = [4,5,6]\n",
    "    print(\"b = \", b)\n",
    "    return b\n",
    "a = [1,2,3]\n",
    "myfunc(a)\n",
    "print(\"a = \", a)"
   ]
  },
  {
   "cell_type": "code",
   "execution_count": null,
   "metadata": {},
   "outputs": [],
   "source": [
    "def myfunc(b):# b is a LIST that is modified inline\n",
    "    b.append(4)\n",
    "    print(\"b = \", b)\n",
    "    return b\n",
    "a = [1,2,3]\n",
    "myfunc(a)\n",
    "print(\"a = \", a)"
   ]
  },
  {
   "cell_type": "code",
   "execution_count": null,
   "metadata": {},
   "outputs": [],
   "source": [
    "def myfunc(b):# b is a LIST that is modified inline\n",
    "    b = b[:] \n",
    "    # Creating a deepcopy will solve the problem of pass by reference\n",
    "    b.append(4)\n",
    "    print(\"b = \", b)\n",
    "    return b\n",
    "a = [1,2,3]\n",
    "myfunc(a)\n",
    "print(\"a = \", a)"
   ]
  },
  {
   "cell_type": "code",
   "execution_count": null,
   "metadata": {},
   "outputs": [],
   "source": [
    "'''\n",
    "Summary of pass-by-value and pass-by-reference\n",
    "'''"
   ]
  },
  {
   "cell_type": "markdown",
   "metadata": {},
   "source": [
    "<img src=\"http://i.stack.imgur.com/hKDcu.png = 70*70\">"
   ]
  },
  {
   "cell_type": "code",
   "execution_count": null,
   "metadata": {},
   "outputs": [],
   "source": [
    "'''\n",
    "In-class activity\n",
    "\n",
    "1) Create a function called squared which takes \n",
    "a list called mylist and returns another list \n",
    "where the elements are square of mylist. \n",
    "\n",
    "2) Create another function that takes mylist \n",
    "and returns a dictionary where the \n",
    "key is the input and the value is the square of the input. \n",
    "'''\n",
    "mylist = [2, -7, 10]"
   ]
  },
  {
   "cell_type": "code",
   "execution_count": null,
   "metadata": {},
   "outputs": [],
   "source": [
    "# args and kwargs helps to supply variable number of arguments to a \n",
    "# function. Inside the function, args is of type tuple.\n",
    "def args_example(*args):\n",
    "    print(args, type(args))\n",
    "    for i in args:\n",
    "        print(i)\n",
    "        \n",
    "args_example(-10)\n",
    "args_example(1,2,3)"
   ]
  },
  {
   "cell_type": "code",
   "execution_count": null,
   "metadata": {},
   "outputs": [],
   "source": [
    "# kwargs is a dictionary, with the dictionary key being the variable \n",
    "# name and dictionary value is the value of that variable\n",
    "def kwargs_example(**kwargs):\n",
    "    print(kwargs, type(kwargs))\n",
    "    \n",
    "kwargs_example(a = 'abe')\n",
    "kwargs_example(a = 'abe', b ='cab')"
   ]
  },
  {
   "cell_type": "code",
   "execution_count": null,
   "metadata": {},
   "outputs": [],
   "source": [
    "def kwargs_example(**kwargs):\n",
    "    # since kwargs is a dictionary, we can iterate using items() function. \n",
    "    for key, value in kwargs.items():\n",
    "        print(key, value)\n",
    "\n",
    "kwargs_example(a = 7, b = -5, c = 3, d = -10)"
   ]
  },
  {
   "cell_type": "code",
   "execution_count": null,
   "metadata": {},
   "outputs": [],
   "source": [
    "'''\n",
    "In-class activity: define a function that takes a word and prints \n",
    "characters from the word. Call the function and pass a word.\n",
    "'''"
   ]
  },
  {
   "cell_type": "code",
   "execution_count": null,
   "metadata": {},
   "outputs": [],
   "source": [
    "'''\n",
    "In-class activity: define a function that converts Fahrenheit into \n",
    "Celsius. The formula is C = (F - 32)*(5.0/9). Use sys in the code and \n",
    "pass the value when running the program from the command line \n",
    "(if Windows) or terminal (if MAC).\n",
    "'''"
   ]
  },
  {
   "cell_type": "code",
   "execution_count": null,
   "metadata": {},
   "outputs": [],
   "source": []
  }
 ],
 "metadata": {
  "kernelspec": {
   "display_name": "Python 3",
   "language": "python",
   "name": "python3"
  },
  "language_info": {
   "codemirror_mode": {
    "name": "ipython",
    "version": 3
   },
   "file_extension": ".py",
   "mimetype": "text/x-python",
   "name": "python",
   "nbconvert_exporter": "python",
   "pygments_lexer": "ipython3",
   "version": "3.5.2"
  },
  "widgets": {
   "state": {},
   "version": "1.1.2"
  }
 },
 "nbformat": 4,
 "nbformat_minor": 1
}
