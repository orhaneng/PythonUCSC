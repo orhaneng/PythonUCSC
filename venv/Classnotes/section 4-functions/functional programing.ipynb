{
 "cells": [
  {
   "cell_type": "markdown",
   "metadata": {
    "collapsed": true
   },
   "source": [
    "In this notebook we will discuss:\n",
    "    \n",
    "filter()\n",
    "\n",
    "map()\n",
    "\n",
    "reduce()\n",
    "\n",
    "lambda function"
   ]
  },
  {
   "cell_type": "markdown",
   "metadata": {},
   "source": [
    "Functional programming is a programming paradigm that evaluates an expression \n",
    "without changing state and data.  \n",
    "\n",
    "What does this mean?\n",
    "\n",
    "1) For a given input, functions will always give the same output regardless of how many times the operation is evaluated.  \n",
    "\n",
    "2) Functions transform input into output without intermediate representation of the current state.  \n",
    "\n",
    "3) Functions will return a new data as the output leaving the original input intact. "
   ]
  },
  {
   "cell_type": "markdown",
   "metadata": {},
   "source": [
    "filter() takes two inputs- a function and an iterable. filter returns a list of values that satisfies the condition, in this case it returns all the values between 2 and 9 that are NOT divisible by 2."
   ]
  },
  {
   "cell_type": "code",
   "execution_count": null,
   "metadata": {},
   "outputs": [],
   "source": [
    "# Get all odd numbers between 2 and 10\n",
    "a = range(2, 10)\n",
    "print(a)\n",
    "\n",
    "def f(x): \n",
    "    return x % 2 != 0\n",
    "\n",
    "b = filter(f, a) \n",
    "print(b)\n",
    "\n",
    "for items in b:\n",
    "    print(items)"
   ]
  },
  {
   "cell_type": "markdown",
   "metadata": {},
   "source": [
    "The lambda function, also known as anonymous function is used \n",
    "when the function is a throw away function or is not used more than once. \n",
    "\n",
    "Syntax for lambda function:\n",
    "\n",
    "lambda inputs : output\n",
    "\n",
    "Let us consider an example\n",
    "\n",
    "lambda x: x%2 !=0 \n",
    "\n",
    "can be interpreted as follows:\n",
    "x to the left of the : is the argument to \n",
    "the function. The expression x%2!=0 to the right of : is the \n",
    "operation being performed inside the function and also the value \n",
    "being returned by the function."
   ]
  },
  {
   "cell_type": "code",
   "execution_count": null,
   "metadata": {},
   "outputs": [],
   "source": [
    "# Get all odd numbers between 2 and 10 using LAMBDA FUNCTIONS\n",
    "a = range(2,10)\n",
    "b = filter(lambda x : x%2!=0, a) \n",
    "print(b)\n",
    "for items in b:\n",
    "    print(items)"
   ]
  },
  {
   "cell_type": "markdown",
   "metadata": {},
   "source": [
    "map() takes a function and iterable(s). In this case one input is \n",
    "the function and other input is the values. Map returns a list which is the output of the function. In this case it returns the squares of the values from 1 to 4. Map takes a set of values and returns another set of values based on the function."
   ]
  },
  {
   "cell_type": "code",
   "execution_count": null,
   "metadata": {},
   "outputs": [],
   "source": [
    "def squared(x): \n",
    "    return x*x\n",
    "\n",
    "print(map(squared, range(1, 5)))\n",
    "for items in map(squared, range(1, 5)):\n",
    "    print(items)"
   ]
  },
  {
   "cell_type": "code",
   "execution_count": null,
   "metadata": {
    "scrolled": false
   },
   "outputs": [],
   "source": [
    "'''\n",
    "lambda function that is similar to the squared function \n",
    "'''\n",
    "print(map(lambda x:x*x, range(1, 5)))\n",
    "for items in map(lambda x:x*x, range(1, 5)):\n",
    "    print(items)"
   ]
  },
  {
   "cell_type": "code",
   "execution_count": null,
   "metadata": {},
   "outputs": [],
   "source": [
    "'''\n",
    "You can also give a name to the lambda function. \n",
    "'''\n",
    "lambdasq = lambda x:x*x\n",
    "print(map(lambdasq, range(1, 5)))"
   ]
  },
  {
   "cell_type": "code",
   "execution_count": null,
   "metadata": {
    "scrolled": true
   },
   "outputs": [],
   "source": [
    "a = [1,2,3]\n",
    "b = [4,5,6]\n",
    "def add(a1, b1): \n",
    "    return a1+b1\n",
    "# here map takes two lists and adds them element-by-element\n",
    "print(map(add, a, b))"
   ]
  },
  {
   "cell_type": "markdown",
   "metadata": {},
   "source": [
    "reduce() is used to shrink an iterable to a single value."
   ]
  },
  {
   "cell_type": "code",
   "execution_count": null,
   "metadata": {},
   "outputs": [],
   "source": [
    "# Find the sum of all elements in a list\n",
    "import functools\n",
    "a = [1,2,5]\n",
    "print(functools.reduce(lambda x,y: x+y, a))"
   ]
  },
  {
   "cell_type": "code",
   "execution_count": null,
   "metadata": {},
   "outputs": [],
   "source": [
    "import functools\n",
    "a = [1,2,5]\n",
    "print(functools.reduce(lambda x,y: x*y , a))"
   ]
  }
 ],
 "metadata": {
  "kernelspec": {
   "display_name": "Python 3",
   "language": "python",
   "name": "python3"
  },
  "language_info": {
   "codemirror_mode": {
    "name": "ipython",
    "version": 3
   },
   "file_extension": ".py",
   "mimetype": "text/x-python",
   "name": "python",
   "nbconvert_exporter": "python",
   "pygments_lexer": "ipython3",
   "version": "3.5.2"
  },
  "widgets": {
   "state": {},
   "version": "1.1.2"
  }
 },
 "nbformat": 4,
 "nbformat_minor": 1
}
