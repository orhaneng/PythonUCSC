{
 "cells": [
  {
   "cell_type": "markdown",
   "metadata": {},
   "source": [
    "A regular expression is a text matching pattern that is described in a \n",
    "specialized syntax. The pattern has instructions, which are executed with a \n",
    "string as an input to produce a matching subset. The Python module to perform \n",
    "regular expression is re. Typically, re is used to match or find strings.\n",
    "\n",
    "Visit the following sites to learn more\n",
    "\n",
    "http://pymotw.com/2/re/\n",
    "    \n",
    "http://www.thegeekstuff.com/2014/07/python-regex-examples/\n",
    "    \n",
    "http://www.diveintopython.net/regular_expressions/\n",
    "    \n",
    "https://docs.python.org/2/library/re.html"
   ]
  },
  {
   "cell_type": "code",
   "execution_count": null,
   "metadata": {},
   "outputs": [],
   "source": [
    "import re"
   ]
  },
  {
   "cell_type": "code",
   "execution_count": null,
   "metadata": {},
   "outputs": [],
   "source": [
    "patterns = 'and'\n",
    "text = 'Python is a dynamically typed language and also has a simple syntax'\n",
    "print(re.search(patterns, text))\n",
    "if re.search(patterns, text):\n",
    "    print('There is a match')\n",
    "else:\n",
    "    print('Found no match')\n",
    "    "
   ]
  },
  {
   "cell_type": "code",
   "execution_count": null,
   "metadata": {},
   "outputs": [],
   "source": [
    "patterns = 'or'\n",
    "text = 'Python is a dynamically typed language and also has a simple syntax'\n",
    "print(re.search(patterns, text))\n",
    "if re.search(patterns, text):\n",
    "    print('There is a match')\n",
    "else:\n",
    "    print('Found no match')"
   ]
  },
  {
   "cell_type": "code",
   "execution_count": null,
   "metadata": {},
   "outputs": [],
   "source": [
    "patterns = ['and', 'or']\n",
    "text = 'Python is a dynamically typed language and also has a simple syntax'\n",
    "\n",
    "for pattern in patterns:\n",
    "    print('Trying to find a match for \"%s\" in \"%s\" - ' %(pattern,text))\n",
    "    \n",
    "    if re.search(pattern, text):\n",
    "        print('There is a match')\n",
    "    else:\n",
    "        print('Found no match')"
   ]
  },
  {
   "cell_type": "code",
   "execution_count": null,
   "metadata": {},
   "outputs": [],
   "source": [
    "pattern = 'and'\n",
    "text = 'Python is a dynamically typed language and also has a simple syntax'\n",
    "\n",
    "compare = re.search(pattern,text)\n",
    "\n",
    "s = compare.start() # start() returns the starting position of the match\n",
    "e = compare.end() # end() returns the ending position of the match\n",
    "\n",
    "print('Found \"%s\" in \"%s\"  from %d to %d ' %(pattern,text,s,e))"
   ]
  },
  {
   "cell_type": "code",
   "execution_count": null,
   "metadata": {},
   "outputs": [],
   "source": [
    "mynumber = 1034567810378103\n",
    "pattern = 10\n",
    "mynumber_str = str(mynumber)\n",
    "pattern_str = str(pattern)\n",
    "# findall() function finds all the substrings of the input that match the \n",
    "# pattern without overlapping syntax re.findall(pattern, string)\n",
    "print(re.findall(pattern_str,mynumber_str))\n",
    "count = len(re.findall(pattern_str,mynumber_str))\n",
    "print('In the given text, %d occured  %d times' %(pattern, count))"
   ]
  },
  {
   "cell_type": "code",
   "execution_count": null,
   "metadata": {},
   "outputs": [],
   "source": [
    "# finditer() returns an iterator that produces match instances instead of the \n",
    "# strings returned by findall\n",
    "# syntax re.finditer(pattern, string)\n",
    "\n",
    "text = '1034567810378103'\n",
    "pattern = '78'\n",
    "count = 0\n",
    "print(re.finditer(pattern,text))\n",
    "for match in re.finditer(pattern,text):\n",
    "    s = match.start() \n",
    "    e = match.end() \n",
    "    count = count + 1\n",
    "    print('The pattern \"%s\" starts at %d and ends at %d ' %(pattern, s, e))\n",
    "print('In the given text, \"%s\" occured  %d times' %(pattern, count))"
   ]
  },
  {
   "cell_type": "markdown",
   "metadata": {},
   "source": [
    "The group() returns the substring that was matched by the re. Adding groups \n",
    "to a pattern lets you isolate parts of the matching text, expanding those\n",
    "capabilites to create a parser. "
   ]
  },
  {
   "cell_type": "code",
   "execution_count": null,
   "metadata": {},
   "outputs": [],
   "source": [
    "strval1 = 'Barack Obama, Michelle Obama, Joe Biden, Jill Biden'\n",
    "list1 = strval1.split(',')\n",
    "print(list1)\n",
    "\n",
    "for items in list1:\n",
    "    firstname = re.match(r'(.*)Obama',items)\n",
    "    if firstname:\n",
    "        # command below returns every element in the list \n",
    "        # that has Obama in it\n",
    "        print(firstname.group(0))\n",
    "        \n",
    "        # command below returns first name of the element in the \n",
    "        # list that has Obama in it\n",
    "        print(firstname.group(1) )\n",
    "        "
   ]
  },
  {
   "cell_type": "code",
   "execution_count": null,
   "metadata": {},
   "outputs": [],
   "source": [
    "strval = 'San Francisco, San Jose, San Carlos, Sunnyvale, Cupertino'\n",
    "strval_list = strval.strip().split(',') # converting strval into a list\n",
    "\n",
    "b = []\n",
    "for items in strval_list:\n",
    "    allnames = re.match(r'San(.*)', items.strip()) \n",
    "    # returns a subset of the list which starts with San \n",
    "    if allnames:\n",
    "        b.append(allnames.group(1))\n",
    "print(b)"
   ]
  },
  {
   "cell_type": "markdown",
   "metadata": {},
   "source": [
    "re.compile() function is used to compile pattern into pattern objects, \n",
    "which have methods for various operations such as searching for pattern \n",
    "matches or performing string substitutions. \n",
    "syntax:\n",
    "```\n",
    "re.compile(pattern)\n",
    "```"
   ]
  },
  {
   "cell_type": "code",
   "execution_count": null,
   "metadata": {},
   "outputs": [],
   "source": [
    "strval = 'San Francisco, San Jose, San Carlos, Sunnyvale, Cupertino'\n",
    "rec = re.compile('San')\n",
    "print(re.findall(rec,strval))"
   ]
  },
  {
   "cell_type": "code",
   "execution_count": null,
   "metadata": {},
   "outputs": [],
   "source": [
    "# Returns an iterator\n",
    "for items in re.finditer(rec,strval):\n",
    "    print(items)"
   ]
  },
  {
   "cell_type": "code",
   "execution_count": null,
   "metadata": {},
   "outputs": [],
   "source": [
    "# Returns an iterator\n",
    "for items in re.finditer(rec,strval):\n",
    "    print(items.start(),items.end())"
   ]
  },
  {
   "cell_type": "markdown",
   "metadata": {},
   "source": [
    "First method to find and replace:\n",
    "\n",
    "The replace() function will replace substrings.\n",
    "\n",
    "syntax \n",
    "```\n",
    "input_text.replace('pattern', 'replacement') \n",
    "```"
   ]
  },
  {
   "cell_type": "code",
   "execution_count": null,
   "metadata": {},
   "outputs": [],
   "source": [
    "a = strval.replace('San','S.')\n",
    "print(strval)\n",
    "print(a)"
   ]
  },
  {
   "cell_type": "markdown",
   "metadata": {},
   "source": [
    "Second method to find and replace:\n",
    "    \n",
    "The re.sub() function can be used to replace substrings.\n",
    "\n",
    "syntax\n",
    "```\n",
    "re.sub(pattern, replacement, string) \n",
    "```"
   ]
  },
  {
   "cell_type": "code",
   "execution_count": null,
   "metadata": {},
   "outputs": [],
   "source": [
    "strval1 = re.sub('San','S.',strval)\n",
    "print(strval1)"
   ]
  },
  {
   "cell_type": "code",
   "execution_count": null,
   "metadata": {},
   "outputs": [],
   "source": [
    "t = 'It\\'s a dog\\n'\n",
    "print(t)\n",
    "\n",
    "t = r'It\\'s a dog\\n'\n",
    "print(t)"
   ]
  },
  {
   "cell_type": "markdown",
   "metadata": {},
   "source": [
    "Cheat sheet for re\n",
    "\n",
    "\\w - Matches characters from A-Z, a-z, 0-9 or _ also writen as A-Za-z0-9_\n",
    "\\W - Matches nonword characters.\n",
    "\\s - Matches whitespace. Equivalent to [ \\t\\n\\r\\f].\n",
    "\\S - Matches nonwhitespace.\n",
    "\\d - Matches digits. Equivalent to [0-9].\n",
    "\\D - Matches nondigits.\n",
    "^ start of string, or line\n",
    "\\A  Start of string\n",
    "\\b  Match empty string at word (\\w+) boundary\n",
    "\\B  Match empty string not at word boundary\n",
    "\\Z  End of string\n",
    "\n",
    "{m}     Exactly m repetitions\n",
    "{m,n}   From m (default 0) to n (default infinity)\n",
    "*       0 or more. Same as {,}\n",
    "+       1 or more. Same as {1,}\n",
    "?       0 or 1. Same as {,1}\n",
    "\n",
    "Reference \n",
    "https://github.com/tartley/python-regex-cheatsheet/blob/master/cheatsheet.rst"
   ]
  },
  {
   "cell_type": "code",
   "execution_count": null,
   "metadata": {},
   "outputs": [],
   "source": [
    "# in this example we want to make sure that the user enters valid email address\n",
    "import re\n",
    "\n",
    "email_check = re.compile(r'(\\w+@\\w+\\.(com|net|org|edu))')\n",
    "while True:\n",
    "    email = input(\"Please, enter your email: \")\n",
    "    if email_check.search(email):\n",
    "        print('You entered a valid email')\n",
    "        break\n",
    "    else:\n",
    "        print(\"Please enter your email correctly!\")"
   ]
  },
  {
   "cell_type": "code",
   "execution_count": null,
   "metadata": {},
   "outputs": [],
   "source": [
    "# The re.search() method takes a regular expression pattern and a string and\n",
    "# searches for that pattern within the string. \n",
    "# The syntax is re.search(pattern, string)\n",
    "import re\n",
    "name = 'Roosovelt, Eleanor'\n",
    "a = re.search('(\\w+), (\\w+)',name)\n",
    "# (\\w+) matches multiple occurrances of A-Za-z0-9_\n",
    "print(a.group(0))\n",
    "print(a.group(1))\n",
    "print(a.group(2))"
   ]
  },
  {
   "cell_type": "code",
   "execution_count": null,
   "metadata": {},
   "outputs": [],
   "source": [
    "name = 'Roosovelt, Eleanor'\n",
    "a = re.search('(?P<lastname>\\w+), (?P<firstname>\\w+)',name)\n",
    "'''\n",
    "?P<lastname>\\w+ finds pattern that has characters A-Za-z0-9_ and assigns \n",
    "it to lastname\n",
    "'''\n",
    "\n",
    "print(a.group(0))\n",
    "print(a.group('lastname'))\n",
    "print(a.group('firstname'))"
   ]
  },
  {
   "cell_type": "code",
   "execution_count": null,
   "metadata": {},
   "outputs": [],
   "source": [
    "# There is only one space after , \n",
    "strval = 'Elizabeth Warren, 65'\n",
    "a = re.search('(?P<firstname>\\w+) (?P<lastname>\\w+), (?P<age>\\d+)',strval)\n",
    "print(a.group(1))\n",
    "print(a.group('age'))"
   ]
  },
  {
   "cell_type": "code",
   "execution_count": null,
   "metadata": {},
   "outputs": [],
   "source": [
    "# What happens if there are more spaces after , ? \n",
    "strval = 'Elizabeth Warren,           65'\n",
    "a = re.search('(?P<firstname>\\w+) (?P<lastname>\\w+), \\s+(?P<age>\\d+)',strval)\n",
    "print(a)#.group(0)\n",
    "print(a.group('age'))"
   ]
  },
  {
   "cell_type": "code",
   "execution_count": null,
   "metadata": {},
   "outputs": [],
   "source": [
    "'''\n",
    "In-class activity: In the below paragraph, find the number of occurances of \n",
    "words - of, the and food.\n",
    "\n",
    "Coral reefs are some of the most biologically rich and economically valuable \n",
    "ecosystems on Earth. They provide food, jobs, income, and protection to \n",
    "billions of people worldwide. However, coral reefs and the magnificent creatures \n",
    "that call them home are in danger of disappearing if actions are not taken \n",
    "to protect them. They are threatened by an increasing range of impacts including \n",
    "pollution, invasive species, diseases, bleaching, and global climate change. \n",
    "\n",
    "The rapid decline and loss of these valuable, ancient, and complex ecosystems \n",
    "have significant social, economic, and environmental consequences in the \n",
    "United States and around the world.\n",
    "'''"
   ]
  },
  {
   "cell_type": "code",
   "execution_count": null,
   "metadata": {},
   "outputs": [],
   "source": [
    "'''\n",
    "In-class activity: \n",
    "In the below paragraph, there are typos. The spelling mistakes are in the \n",
    "words: tping, componts, programy and binare. Create a dictionary with the key \n",
    "being the incorrect word and the value is the correct word. Then replace the \n",
    "incorrect word with the correct word and print the corrected text.\n",
    "\n",
    "'''\n",
    "\n",
    "myText = '''Python is an interpreted, object-oriented, high-level programming \n",
    "language with dynamic semantics. Its high-level built in data structures, \n",
    "combined with dynamic tping and dynamic binding, make it very attractive for \n",
    "Rapid Application Development, as well as for use as a scripting or glue \n",
    "language to connect existing componts together. Python's simple, easy to learn \n",
    "syntax emphasizes readability and therefore reduces the cost of program \n",
    "maintenance. Python supports modules and packages, which encourages programy \n",
    "modularity and code reuse. The Python interpreter and the extensive standard \n",
    "library are available in source or binare form without charge for all major \n",
    "platforms, and can be freely distributed.'''"
   ]
  },
  {
   "cell_type": "code",
   "execution_count": null,
   "metadata": {},
   "outputs": [],
   "source": [
    "# extracting year from a text file using regex\n",
    "import re\n",
    "pattern = re.compile(\"(\\d+)\")\n",
    "\n",
    "for i, line in enumerate(open('modify.txt')):\n",
    "   #print i, line, re.finditer(pattern, line)\n",
    "   for m in re.finditer(pattern, line):\n",
    "       year = m.group(1)\n",
    "       print('The year is ', year)"
   ]
  },
  {
   "cell_type": "code",
   "execution_count": null,
   "metadata": {
    "scrolled": true
   },
   "outputs": [],
   "source": [
    "# extracting data from a text file using regex\n",
    "import re\n",
    "\n",
    "parts = [\n",
    "    r'(?P<host>\\S+)',                   # host %h\n",
    "    r'\\S+',                             # indent %l (unused)\n",
    "    r'(?P<user>\\S+)',                   # user %u\n",
    "    r'\\[(?P<time>.+)\\]',                # time %t\n",
    "    r'\"(?P<request>.+)\"',               # request \"%r\"\n",
    "    r'(?P<status>[0-9]+)',              # status %>s\n",
    "    r'(?P<size>\\S+)',                   # size %b (careful, can be '-')\n",
    "]\n",
    "pattern = re.compile(r'\\s+'.join(parts)+r'\\s*\\Z')\n",
    "status1 = []\n",
    "\n",
    "fo = open(\"apache50log.txt\")\n",
    "for line in fo.readlines():\n",
    "    m = pattern.match(line)\n",
    "    res = m.groupdict()\n",
    "    print(res)\n",
    "    status1.append(res['status'])\n",
    "\n",
    "print(status1)\n",
    "statusdict = {}\n",
    "statusset = set(status1)\n",
    "for item in statusset:\n",
    "    statusdict[item] = status1.count(item)\n",
    "    \n",
    "print(statusdict)"
   ]
  },
  {
   "cell_type": "code",
   "execution_count": null,
   "metadata": {},
   "outputs": [],
   "source": []
  }
 ],
 "metadata": {
  "kernelspec": {
   "display_name": "Python 3",
   "language": "python",
   "name": "python3"
  },
  "language_info": {
   "codemirror_mode": {
    "name": "ipython",
    "version": 3
   },
   "file_extension": ".py",
   "mimetype": "text/x-python",
   "name": "python",
   "nbconvert_exporter": "python",
   "pygments_lexer": "ipython3",
   "version": "3.5.2"
  },
  "widgets": {
   "state": {},
   "version": "1.1.2"
  }
 },
 "nbformat": 4,
 "nbformat_minor": 1
}
