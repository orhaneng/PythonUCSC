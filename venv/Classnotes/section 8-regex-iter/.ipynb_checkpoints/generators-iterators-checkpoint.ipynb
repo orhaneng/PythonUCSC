{
 "cells": [
  {
   "cell_type": "markdown",
   "metadata": {
    "collapsed": false
   },
   "source": [
    "Creating generators - so far we have see functions that return a single value. \n",
    "But sometimes we might want functions that yield a series of values. In an \n",
    "ordinary function, a return statement will return the control of execution \n",
    "to the point where the function was called. An yield statement means that \n",
    "the transfer of control is temporary and voluntary, and our function expects \n",
    "to regain it in the future.\n",
    "\n",
    "Reference\n",
    "http://www.jeffknupp.com/blog/2013/04/07/improve-your-python-yield-and-generators-explained/\n"
   ]
  },
  {
   "cell_type": "code",
   "execution_count": null,
   "metadata": {
    "collapsed": false
   },
   "outputs": [],
   "source": [
    "# Example of a simple generator\n",
    "def simple_generator():\n",
    "    yield 1\n",
    "    yield 2 \n",
    "\n",
    "for item in simple_generator():\n",
    "    print item"
   ]
  },
  {
   "cell_type": "code",
   "execution_count": null,
   "metadata": {
    "collapsed": false
   },
   "outputs": [],
   "source": [
    "# Check out the inner working of this using pythontutor.com\n",
    "def myiter(iters):\n",
    "    for i in iters:\n",
    "        print \"before \",i\n",
    "        yield i*i*i\n",
    "        # Statements after yield is executed\n",
    "        print \"after \",i\n",
    "        j = i+21\n",
    "        yield j\n",
    "        \n",
    "for items in myiter(xrange(2)):\n",
    "    print \"inside for-loop\",items"
   ]
  },
  {
   "cell_type": "code",
   "execution_count": null,
   "metadata": {
    "collapsed": false
   },
   "outputs": [],
   "source": [
    "def squared_generator(listofnumbers):\n",
    "    for items in listofnumbers:\n",
    "        yield items*items\n",
    "        \n",
    "print squared_generator([5, 6, 7, 8])\n",
    "\n",
    "for items in squared_generator([5, 6, 7, 8]):\n",
    "    print items,"
   ]
  },
  {
   "cell_type": "markdown",
   "metadata": {},
   "source": [
    "Generator expressions (some refer to it as generator comprehension) \n",
    "are high performance, memory efficient generalization of list comprehensions \n",
    "and generators."
   ]
  },
  {
   "cell_type": "code",
   "execution_count": null,
   "metadata": {
    "collapsed": false
   },
   "outputs": [],
   "source": [
    "gen = (x*x for x in range(1,16))\n",
    "print gen\n",
    "\n",
    "for i in gen:\n",
    "    print i,"
   ]
  },
  {
   "cell_type": "markdown",
   "metadata": {
    "collapsed": true
   },
   "source": [
    "Iterator is a generalization of a generator. Hence a generator is a iterator but not all iterators are generators. \n",
    "\n",
    "Syntactically, a generator uses yield keyword inside any function while an \n",
    "iterator uses ```__iter__() ``` function.  The ```__iter__()``` is called \n",
    "when the objects is called in a loop. The ```__iter__()``` function may or may not use yield keyword to return."
   ]
  },
  {
   "cell_type": "code",
   "execution_count": null,
   "metadata": {
    "collapsed": false
   },
   "outputs": [],
   "source": [
    "class SquareIter(object):\n",
    "    def __init__(self, iterobj):\n",
    "        self.iterobj = iterobj\n",
    "        self.count = 0\n",
    "        \n",
    "    def __iter__(self):\n",
    "        return self\n",
    "    \n",
    "    # In Python 3, use __next__()\n",
    "    def next(self):        \n",
    "        if self.count >= len(self.iterobj):\n",
    "            raise StopIteration\n",
    "        else:\n",
    "            val = self.iterobj[self.count]\n",
    "            self.count += 1\n",
    "            return val*val\n",
    "       \n",
    "si = SquareIter([5, 6, 7, 8])\n",
    "for i in si:\n",
    "    print i,\n"
   ]
  },
  {
   "cell_type": "code",
   "execution_count": null,
   "metadata": {
    "collapsed": false
   },
   "outputs": [],
   "source": [
    "'''\n",
    "In-class activity - \n",
    "\n",
    "dict1 = {1:'a',2:'c',3:'d'}\n",
    "define a generator so that we get the following output \n",
    "\n",
    "(1, 'a')\n",
    "(2, 'c')\n",
    "(3, 'd')\n",
    "\n",
    "'''"
   ]
  },
  {
   "cell_type": "code",
   "execution_count": null,
   "metadata": {
    "collapsed": true
   },
   "outputs": [],
   "source": []
  }
 ],
 "metadata": {
  "kernelspec": {
   "display_name": "Python 2",
   "language": "python",
   "name": "python2"
  },
  "language_info": {
   "codemirror_mode": {
    "name": "ipython",
    "version": 2
   },
   "file_extension": ".py",
   "mimetype": "text/x-python",
   "name": "python",
   "nbconvert_exporter": "python",
   "pygments_lexer": "ipython2",
   "version": "2.7.11"
  }
 },
 "nbformat": 4,
 "nbformat_minor": 0
}
