{
 "metadata": {
  "name": "",
  "signature": "sha256:e02f76997a2c9927ef7b508c5a65763e3fbeb704470653edabe2641da2f6c8a9"
 },
 "nbformat": 3,
 "nbformat_minor": 0,
 "worksheets": [
  {
   "cells": [
    {
     "cell_type": "code",
     "collapsed": false,
     "input": [
      "# http://pymotw.com/2/multiprocessing/\n",
      "# https://docs.python.org/2/library/multiprocessing.html\n",
      "\n",
      "# Open activity monitor in mac or resource monitor in windows or top on Linux and watch the new \n",
      "# threads being created.\n",
      "\n",
      "import multiprocessing\n",
      "import time\n",
      "\n",
      "# This is the worker function. Each thread will call this function\n",
      "def worker(num):\n",
      "    print 'Worker: ', num\n",
      "    time.sleep(20)\n",
      "    print 'Worker %d completed'%(num)\n",
      "    return\n",
      "\n",
      "if __name__ == '__main__':\n",
      "    jobs = []\n",
      "    for i in range(5):\n",
      "        p = multiprocessing.Process(target=worker, args=(i,))\n",
      "        jobs.append(p)\n",
      "        p.start()\n",
      "    print jobs"
     ],
     "language": "python",
     "metadata": {},
     "outputs": [
      {
       "output_type": "stream",
       "stream": "stdout",
       "text": [
        "[<Process(Process-1, started)>, <Process(Process-2, started)>, <Process(Process-3, started)>, <Process(Process-4, started)>, <Process(Process-5, started)>]\n"
       ]
      }
     ],
     "prompt_number": 1
    },
    {
     "cell_type": "code",
     "collapsed": false,
     "input": [
      "import multiprocessing\n",
      "import time\n",
      "\n",
      "def slow_worker():\n",
      "    print 'Starting worker'\n",
      "    time.sleep(0.1)\n",
      "    print 'Finished worker'\n",
      "\n",
      "if __name__ == '__main__':\n",
      "    p = multiprocessing.Process(target=slow_worker)\n",
      "    print 'BEFORE:', p, p.is_alive()\n",
      "    \n",
      "    p.start()\n",
      "    print 'DURING:', p, p.is_alive()\n",
      "    \n",
      "    p.terminate()\n",
      "    print 'TERMINATED:', p, p.is_alive()\n",
      "\n",
      "    p.join()\n",
      "    print 'JOINED:', p, p.is_alive()"
     ],
     "language": "python",
     "metadata": {},
     "outputs": [
      {
       "output_type": "stream",
       "stream": "stdout",
       "text": [
        "BEFORE: <Process(Process-6, initial)> False\n",
        "DURING: <Process(Process-6, started)> True\n",
        "TERMINATED: <Process(Process-6, started)> True\n",
        "JOINED: <Process(Process-6, stopped[SIGTERM])> False\n"
       ]
      }
     ],
     "prompt_number": 2
    },
    {
     "cell_type": "code",
     "collapsed": false,
     "input": [],
     "language": "python",
     "metadata": {},
     "outputs": []
    }
   ],
   "metadata": {}
  }
 ]
}