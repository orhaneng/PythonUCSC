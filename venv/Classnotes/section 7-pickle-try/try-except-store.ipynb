{
 "cells": [
  {
   "cell_type": "markdown",
   "metadata": {},
   "source": [
    "In this notebook we will discuss \n",
    "\n",
    "1. Error handling using try-except \n",
    "\n",
    "2. Creating custom exceptions \n",
    "\n",
    "3. Storing Python objects using \n",
    "\n",
    "    a. Pickle\n",
    "    \n",
    "    b. Shelve "
   ]
  },
  {
   "cell_type": "markdown",
   "metadata": {},
   "source": [
    "What is an exception?\n",
    "\n",
    "An exception is raised when a program has an error. Error handling is used to take care of \n",
    "exceptions so that when there is no exception then the program runs smoothly and in case \n",
    "of an error, the error handler can fix the problem or handle it so that the program can \n",
    "be continued. \n",
    "\n",
    "try-except is a construct that handles exceptions.\n",
    "\n",
    "Check this link \n",
    "http://www.python-course.eu/exception_handling.php\n",
    "\n",
    "List of Python builtin exceptions can be found at\n",
    "https://docs.python.org/2/library/exceptions.html"
   ]
  },
  {
   "cell_type": "code",
   "execution_count": null,
   "metadata": {},
   "outputs": [],
   "source": [
    "a = 10\n",
    "b = 0\n",
    "c = a/b\n",
    "\n",
    "print(c)"
   ]
  },
  {
   "cell_type": "code",
   "execution_count": null,
   "metadata": {},
   "outputs": [],
   "source": [
    "'''\n",
    "Instead of quitting after encountering the ZeroDivisionError, in this \n",
    "case we are assigning a new value to c so that the program can continue.\n",
    "'''\n",
    "\n",
    "try:\n",
    "    c = a/b\n",
    "except ZeroDivisionError:\n",
    "    c = a\n",
    "\n",
    "# Instead of quitting after encountering the ZeroDivisionError, in this \n",
    "# case we are assigning a new value to c so that the program can continue.\n",
    "\n",
    "print(c)    "
   ]
  },
  {
   "cell_type": "code",
   "execution_count": null,
   "metadata": {},
   "outputs": [],
   "source": [
    "# Since the string can't be converted to an int, ValueError exception \n",
    "# will be raised\n",
    "a = int('92384g')\n",
    "print(a, type(a))"
   ]
  },
  {
   "cell_type": "code",
   "execution_count": null,
   "metadata": {},
   "outputs": [],
   "source": [
    "try:\n",
    "    a = int('92384g')\n",
    "    b = 0\n",
    "    c = a/b\n",
    "except:\n",
    "    print('The error message is - Not a number.')\n",
    "    print('The error message is - Cannot divide by zero.')"
   ]
  },
  {
   "cell_type": "code",
   "execution_count": null,
   "metadata": {},
   "outputs": [],
   "source": [
    "try:\n",
    "    a = int('92384g')\n",
    "    b = 12\n",
    "    c = 0\n",
    "    d = b/c\n",
    "except ValueError as v:\n",
    "    print('Not a number.  The error message is', v)\n",
    "except ZeroDivisionError as z:\n",
    "    print('Cannot divide by zero.  The error message is', z)"
   ]
  },
  {
   "cell_type": "code",
   "execution_count": null,
   "metadata": {},
   "outputs": [],
   "source": [
    "try:\n",
    "    a = int('92384g')\n",
    "except ValueError as v:\n",
    "    print('Not a number.  The error message is', v)\n",
    "    \n",
    "b = 12\n",
    "c = 0\n",
    "try:   \n",
    "    d = b/c\n",
    "except ZeroDivisionError as z:\n",
    "    print('Cannot divide by zero.  The error message is',z)"
   ]
  },
  {
   "cell_type": "markdown",
   "metadata": {},
   "source": [
    "try-except-else: the else clause has to placed after all the exceptions and \n",
    "else clause will be executed when the try clause doesn't raise any exceptions\n",
    "\n",
    "syntax\n",
    "```\n",
    "try:\n",
    "    execute try statements\n",
    "    \n",
    "except exception1:\n",
    "    If there is exception1, then execute this block\n",
    "\n",
    "except exception2:\n",
    "    If there is exception2, then execute this block\n",
    "    \n",
    "else:\n",
    "    If there is no exception, then execute this block\n",
    "```"
   ]
  },
  {
   "cell_type": "code",
   "execution_count": null,
   "metadata": {},
   "outputs": [],
   "source": [
    "try:\n",
    "    a = int('92')\n",
    "except ValueError:\n",
    "    a = 10\n",
    "    print('a is not a number. Gave a new value = ', a)\n",
    "else:\n",
    "    print('Is a number')\n",
    "finally:\n",
    "    print(\"I am all done\")"
   ]
  },
  {
   "cell_type": "markdown",
   "metadata": {},
   "source": [
    "To enforce clean-up or termination clauses there is try-finally or \n",
    "try-except-finally. Finally clause will be executed no matter whether an \n",
    "exception occurs or not.\n",
    "\n",
    "syntax\n",
    "```\n",
    "try:\n",
    "    execute statements\n",
    "    \n",
    "    if an exception occurs, then this may be skipped\n",
    "    \n",
    "except e1:\n",
    "    statement to execute if there is an exception\n",
    "\n",
    "else:\n",
    "    statements to execute if no exceptions are not raised\n",
    "    \n",
    "finally:\n",
    "        this will always be executed no matter whether an exception is \n",
    "        raised or not\n",
    "```"
   ]
  },
  {
   "cell_type": "code",
   "execution_count": null,
   "metadata": {},
   "outputs": [],
   "source": [
    "try:\n",
    "    f = open(\"test1.txt\",\"r\")\n",
    "    f.readlines()\n",
    "    \n",
    "except IOError:\n",
    "    print(\"File not found.\")\n",
    "    \n",
    "finally:\n",
    "    print(\"There is no file by this name.\")"
   ]
  },
  {
   "cell_type": "markdown",
   "metadata": {},
   "source": [
    "Note - the major difference between else clause and finally clause is that else clause will get executed only when no exceptions are raised. Whereas finally clause gets executed no matter whether an exception is raised or not. "
   ]
  },
  {
   "cell_type": "code",
   "execution_count": null,
   "metadata": {},
   "outputs": [],
   "source": [
    "a = 10\n",
    "b = 0\n",
    "try:\n",
    "    c = a/b\n",
    "except ZeroDivisionError:\n",
    "    c = a\n",
    "finally:\n",
    "    print(c)"
   ]
  },
  {
   "cell_type": "markdown",
   "metadata": {},
   "source": [
    "Custom Exceptions \n",
    "\n",
    "Custom exception has to be a class and it has to inherit from Python \n",
    "Exception class.\n",
    "\n",
    "Syntax for a simple custom exception without an error message\n",
    "\n",
    "```\n",
    "class exception_name(Exception):\n",
    "    pass\n",
    "```\n",
    "\n",
    "Syntax for a simple custom exception with an error message\n",
    "\n",
    "```\n",
    "class exception_name(Exception):\n",
    "    def __str__(self):\n",
    "        return \"custom message\"\n",
    "```"
   ]
  },
  {
   "cell_type": "code",
   "execution_count": null,
   "metadata": {},
   "outputs": [],
   "source": [
    "class TooSmallError(Exception):\n",
    "    pass\n",
    "\n",
    "class TooLargeError(Exception):\n",
    "    pass\n",
    "\n",
    "def checkval(val,limit):\n",
    "    if val < limit:\n",
    "        raise TooSmallError\n",
    "    else:\n",
    "        raise TooLargeError\n",
    "        \n",
    "\n",
    "limit = 100\n",
    "try:\n",
    "    a = 50\n",
    "    checkval(a,limit)\n",
    "except TooSmallError:\n",
    "    print(\"Too Small\")\n",
    "except TooLargeError:\n",
    "    print(\"Too Large\") "
   ]
  },
  {
   "cell_type": "code",
   "execution_count": null,
   "metadata": {},
   "outputs": [],
   "source": [
    "'''\n",
    "In-class activity for custom exception\n",
    "\n",
    "You should ask user to input coefficients of a quadratic as a tuple. \n",
    "Then you check to see if the first coefficient is zero. If it is, \n",
    "then you should raise a custom exception. So you should write a \n",
    "custom exception class called CoeffZeroError. \n",
    "'''"
   ]
  },
  {
   "cell_type": "markdown",
   "metadata": {},
   "source": [
    "Pickle module\n",
    "\n",
    "A pickle converts Python objects to bytes that can be stored or transmitted \n",
    "(not secure). The CPickle module implemented using C is faster than pickle \n",
    "that is implemented using Python. Pickle can handle unicode objects. \n",
    "A \"shelf\" is a persistent, dictionary-like object. \n",
    "\n",
    "Check out the following links to learn more \n",
    "https://freepythontips.wordpress.com/2013/08/02/what-is-pickle-in-python/\n"
   ]
  },
  {
   "cell_type": "code",
   "execution_count": null,
   "metadata": {},
   "outputs": [],
   "source": [
    "try:\n",
    "   import cPickle as pickle\n",
    "except:\n",
    "   import pickle"
   ]
  },
  {
   "cell_type": "code",
   "execution_count": null,
   "metadata": {},
   "outputs": [],
   "source": [
    "d1 = [ { 'a':'1', 'b':2, 'c':3 } ]\n",
    "d2 = {'d':4,'e':5}\n",
    "\n",
    "f = open('pickle.ck','wb')\n",
    "pickle.dump(d1,f) # this command dumps d1 into the file pickle.ck\n",
    "pickle.dump(d2,f) # this command dumps d2 into the file pickle.ck\n",
    "f.close()\n",
    "\n",
    "f = open('pickle.ck','rb')\n",
    "nd1 = pickle.load(f)\n",
    "nd2 = pickle.load(f)\n",
    "f.close()\n",
    "\n",
    "print('Read values are:')\n",
    "print(nd1)\n",
    "print(nd2)"
   ]
  },
  {
   "cell_type": "code",
   "execution_count": null,
   "metadata": {},
   "outputs": [],
   "source": [
    "f = open('pickle.ck','rb')\n",
    "n1 = pickle.load(f)\n",
    "print(n1)\n",
    "n2 = pickle.load(f)\n",
    "print(n2)\n",
    "\n",
    "'''\n",
    "We have read all the information that needs to be read.  \n",
    "The following will give an error.\n",
    "'''\n",
    "\n",
    "#nd3 = pickle.load(f) \n",
    "f.close()"
   ]
  },
  {
   "cell_type": "code",
   "execution_count": null,
   "metadata": {},
   "outputs": [],
   "source": [
    "tuple1 = (-2,4,10,)\n",
    "f = open('pickle.ck','wb')\n",
    "pickle.dump(tuple1,f)"
   ]
  },
  {
   "cell_type": "code",
   "execution_count": null,
   "metadata": {},
   "outputs": [],
   "source": [
    "f = open('pickle.ck','rb')\n",
    "new1 = pickle.load(f)\n",
    "print(new1)"
   ]
  },
  {
   "cell_type": "code",
   "execution_count": null,
   "metadata": {},
   "outputs": [],
   "source": [
    "'''\n",
    "In-class activity on pickle - create a class called studentcourse. The class \n",
    "has to take the information: student name, year in college \n",
    "(freshman, sophomore, junior or senior) and two \n",
    "courses. Now store the information in a pickle file. The open the pickle \n",
    "file and print the contents. \n",
    "'''"
   ]
  },
  {
   "cell_type": "markdown",
   "metadata": {},
   "source": [
    "Shelve module can be used to store and retrieve Python objects easily.\n",
    "Shelve uses anydbm to store the data. Check out the following link \n",
    "for more information.\n",
    "More reading material: \n",
    "http://pymotw.com/2/shelve/"
   ]
  },
  {
   "cell_type": "code",
   "execution_count": null,
   "metadata": {},
   "outputs": [],
   "source": [
    "import shelve\n",
    "d1 = { 'a':'1', 'b':2, 'c':3 }\n",
    "list1 = ['apple', 'mango', 'pineapple']\n",
    "s = shelve.open('fruit') # opens the shelve\n",
    "try:\n",
    "    s['first'] = d1\n",
    "    s['second'] = list1\n",
    "finally:\n",
    "    print(s)\n",
    "    s.close()"
   ]
  },
  {
   "cell_type": "code",
   "execution_count": null,
   "metadata": {},
   "outputs": [],
   "source": [
    "import shelve\n",
    "s = shelve.open('fruit','r')\n",
    "try:\n",
    "    newd = s['first']\n",
    "finally:\n",
    "    s.close()\n",
    "print(newd)"
   ]
  },
  {
   "cell_type": "code",
   "execution_count": null,
   "metadata": {},
   "outputs": [],
   "source": [
    "import shelve\n",
    "d3 = [ { 'a':'1', 'b':2, 'c':3 } ]\n",
    "# Write back uses in-memory cache. All items in cache are written to the shelve \n",
    "# when it is closed.\n",
    "s = shelve.open('fruit',writeback=True)\n",
    "try:\n",
    "    s['firstdict'] = d3\n",
    "finally:\n",
    "    s.close()"
   ]
  },
  {
   "cell_type": "code",
   "execution_count": null,
   "metadata": {},
   "outputs": [],
   "source": [
    "import shelve\n",
    "s = shelve.open('fruit')\n",
    "if 'second' in s: # we are checking if the key second exists\n",
    "    print(s['second'])"
   ]
  },
  {
   "cell_type": "code",
   "execution_count": null,
   "metadata": {},
   "outputs": [],
   "source": [
    "import shelve\n",
    "s = shelve.open('fruit')\n",
    "if 'firstdict' in s: # we are checking if the key firstdict exists\n",
    "    print(s['firstdict'])"
   ]
  },
  {
   "cell_type": "markdown",
   "metadata": {},
   "source": [
    "Note - the major difference between pickle and shelve is that pickle \n",
    "stores the objects one at a time and objects can only be retrieved in \n",
    "the order they were written. Whereas objects in shelve can be \n",
    "accessed in any order. "
   ]
  },
  {
   "cell_type": "code",
   "execution_count": null,
   "metadata": {},
   "outputs": [],
   "source": [
    "'''\n",
    "In-class activity on shelve - create a class called studentcourse. The \n",
    "class has to take the information: student name, year in college \n",
    "(freshman, sophomore, junior or senior) and two courses. Now store the \n",
    "information in a shelve file. The open the shelve file and print the \n",
    "contents. Use the code from the in-class activity for pickle and \n",
    "modify it.\n",
    "'''"
   ]
  },
  {
   "cell_type": "code",
   "execution_count": null,
   "metadata": {},
   "outputs": [],
   "source": []
  }
 ],
 "metadata": {
  "kernelspec": {
   "display_name": "Python 3",
   "language": "python",
   "name": "python3"
  },
  "language_info": {
   "codemirror_mode": {
    "name": "ipython",
    "version": 3
   },
   "file_extension": ".py",
   "mimetype": "text/x-python",
   "name": "python",
   "nbconvert_exporter": "python",
   "pygments_lexer": "ipython3",
   "version": "3.5.2"
  },
  "widgets": {
   "state": {},
   "version": "1.1.2"
  }
 },
 "nbformat": 4,
 "nbformat_minor": 1
}
