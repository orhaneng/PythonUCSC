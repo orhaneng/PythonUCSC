{
 "cells": [
  {
   "cell_type": "markdown",
   "metadata": {
    "collapsed": false
   },
   "source": [
    "In this notebook we will discuss Python data structures:\n",
    "\n",
    "1. List\n",
    "\n",
    "2. Dictionary\n",
    "\n",
    "3. tuples\n",
    "\n",
    "4. sets\n",
    "\n",
    "5. slicing lists and tuples\n",
    "\n",
    "6. List comprehension\n",
    "\n",
    "7. Dictionary comprehension \n",
    "\n",
    "https://docs.python.org/2/tutorial/datastructures.html"
   ]
  },
  {
   "cell_type": "markdown",
   "metadata": {},
   "source": [
    "Data structures are objects than can hold sequence of items. "
   ]
  },
  {
   "cell_type": "markdown",
   "metadata": {
    "collapsed": false
   },
   "source": [
    "# List\n",
    "\n",
    "A list is a collection of items separated by commas. A list is used when we need a sequence of items that can be modified at a later time. Since lists can be modified they are mutable. There are several methods that can be applied to lists. \n",
    "\n",
    "Syntax for list is n = [item1, item2, item3].  The items can be any \n",
    "Python object. The index of the list starts from zero."
   ]
  },
  {
   "cell_type": "code",
   "execution_count": null,
   "metadata": {
    "collapsed": false
   },
   "outputs": [],
   "source": [
    "fruits = ['apple', 'grapes', 'peach']\n",
    "\n",
    "print fruits"
   ]
  },
  {
   "cell_type": "code",
   "execution_count": null,
   "metadata": {
    "collapsed": false
   },
   "outputs": [],
   "source": [
    "# Syntax of the for statement\n",
    "# for each_item in something:\n",
    "#     execute statement(s) that are under this block\n",
    "for f in fruits:\n",
    "    print( 'we are printing one element at a time: ', f )"
   ]
  },
  {
   "cell_type": "markdown",
   "metadata": {
    "collapsed": false
   },
   "source": [
    "Function and methods that can be applied to lists\n",
    "\n",
    "len(A):           returns the number of items in A\n",
    "    \n",
    "A.insert(i,x1):   inserts x1 at index i\n",
    "    \n",
    "A.pop(i1):        removes item at index value i1 from A\n",
    "    \n",
    "A.remove(x3):     removes x3 from A\n",
    "    \n",
    "A.append(x4):     adds x4 to the end of A\n",
    "    \n",
    "A.extend(L):      appends items from L to the end of A\n",
    "    \n",
    "A.count(x):       returns the frequency of occurence of x in A\n",
    "    \n",
    "A.sort():         sorts the items in the list in ascending order, \n",
    "                  A.sort(reverse=Ture) will sort the list in descending \n",
    "                  order\n",
    "\n",
    "A.index(x5):      returns the index corresponding to item x5\n",
    "    \n",
    "A.reverse():      reverses the items in A in place\n"
   ]
  },
  {
   "cell_type": "code",
   "execution_count": null,
   "metadata": {
    "collapsed": true
   },
   "outputs": [],
   "source": [
    "# len(listA) will return the number of elements in the list 'listA'\n",
    "print len(fruits)"
   ]
  },
  {
   "cell_type": "code",
   "execution_count": null,
   "metadata": {
    "collapsed": false
   },
   "outputs": [],
   "source": [
    "# here we want to loop through the elements in fruits and get the index value \n",
    "# and the element at that index\n",
    "for i in range(len(fruits)):\n",
    "    print i,fruits[i]"
   ]
  },
  {
   "cell_type": "code",
   "execution_count": null,
   "metadata": {
    "collapsed": false
   },
   "outputs": [],
   "source": [
    "mylist = [1,2,\"CA\",[3,4]]  \n",
    "# mylist is a collection of numbers, string and a list\n",
    "print mylist\n"
   ]
  },
  {
   "cell_type": "code",
   "execution_count": null,
   "metadata": {
    "collapsed": false
   },
   "outputs": [],
   "source": [
    "# Accessing elements from a list\n",
    "# mylist[n] will return element at nth index in mylist\n",
    "print mylist[0] # this returns the first element in mylist"
   ]
  },
  {
   "cell_type": "markdown",
   "metadata": {
    "collapsed": false
   },
   "source": [
    "Elements in a list can be accessed from left to right with indicies starting from \n",
    "0 (0 indicates the first position in the list) and going up\n",
    "\n",
    "elements in a list can be accessed from right to left with indicies starting from \n",
    "-1 (-1 indiciates the last position in the list) and going down"
   ]
  },
  {
   "cell_type": "code",
   "execution_count": null,
   "metadata": {
    "collapsed": false
   },
   "outputs": [],
   "source": [
    "# this returns the last but one element in mylist\n",
    "print mylist[-2] "
   ]
  },
  {
   "cell_type": "code",
   "execution_count": null,
   "metadata": {
    "collapsed": false
   },
   "outputs": [],
   "source": [
    "print mylist[-1][-2] \n"
   ]
  },
  {
   "cell_type": "code",
   "execution_count": null,
   "metadata": {
    "collapsed": false
   },
   "outputs": [],
   "source": [
    "# mylist[a:b] will return elements with index starting from a up to b-1. \n",
    "# This process is called Slicing\n",
    "print mylist[0:2]\n"
   ]
  },
  {
   "cell_type": "code",
   "execution_count": null,
   "metadata": {
    "collapsed": false
   },
   "outputs": [],
   "source": [
    "# append() will add a value to the end of the list\n",
    "# current_list.append(x1) will add x1 to the end of current_list\n",
    "mylist.append(3.14) \n",
    "print mylist"
   ]
  },
  {
   "cell_type": "code",
   "execution_count": null,
   "metadata": {
    "collapsed": false
   },
   "outputs": [],
   "source": [
    "# pop() removes an element at the given index\n",
    "print mylist.pop(2)\n",
    "print mylist"
   ]
  },
  {
   "cell_type": "code",
   "execution_count": null,
   "metadata": {
    "collapsed": false
   },
   "outputs": [],
   "source": [
    "# Insert adds an element at the given index\n",
    "mylist.insert(2,\"MN\")\n",
    "print mylist\n"
   ]
  },
  {
   "cell_type": "code",
   "execution_count": null,
   "metadata": {
    "collapsed": false
   },
   "outputs": [],
   "source": [
    "print mylist[1]\n"
   ]
  },
  {
   "cell_type": "markdown",
   "metadata": {},
   "source": [
    "sort() sorts elements in place, that means sorted elements are stored \n",
    "back in the orginal list."
   ]
  },
  {
   "cell_type": "code",
   "execution_count": null,
   "metadata": {
    "collapsed": false
   },
   "outputs": [],
   "source": [
    "# can't perfrom sort() and assignment in one line\n",
    "mylist = ['couple','3','3a',1,5,2,2.4,'c','0'] # note '3' is a string\n",
    "a = mylist.sort()\n",
    "print a \n",
    "print mylist "
   ]
  },
  {
   "cell_type": "code",
   "execution_count": null,
   "metadata": {
    "collapsed": true
   },
   "outputs": [],
   "source": [
    "mylist = ['couple','3','3a',1,5,2,2.4,'c','0'] \n",
    "mylist.sort()\n",
    "a = mylist\n",
    "print a \n",
    "print mylist "
   ]
  },
  {
   "cell_type": "markdown",
   "metadata": {},
   "source": [
    "A simple ascending sort can be done using sorted(listname)\n",
    "sorted() is not in place."
   ]
  },
  {
   "cell_type": "code",
   "execution_count": null,
   "metadata": {
    "collapsed": false
   },
   "outputs": [],
   "source": [
    "mylist = ['couple','3','3a',1,5,2,2.4,'c','0'] # note '3' is a string\n",
    "a = sorted(mylist) \n",
    "print a \n",
    "print mylist "
   ]
  },
  {
   "cell_type": "markdown",
   "metadata": {},
   "source": [
    "sort() function will sort the list in ascending order. \n",
    "If reverse = True is specified then it will sort the list in \n",
    "descending order"
   ]
  },
  {
   "cell_type": "code",
   "execution_count": null,
   "metadata": {
    "collapsed": false
   },
   "outputs": [],
   "source": [
    "mylist.sort(reverse=True)\n",
    "print mylist"
   ]
  },
  {
   "cell_type": "markdown",
   "metadata": {},
   "source": [
    "For list of lists, sort command sorts the lists with respect to the first \n",
    "element in the lists."
   ]
  },
  {
   "cell_type": "code",
   "execution_count": null,
   "metadata": {
    "collapsed": false
   },
   "outputs": [],
   "source": [
    "a = [[10,3],[5,2]]\n",
    "a.sort()\n",
    "print a"
   ]
  },
  {
   "cell_type": "code",
   "execution_count": null,
   "metadata": {
    "collapsed": false
   },
   "outputs": [],
   "source": [
    "b = [['q', 'a'], ['dog','cat']]\n",
    "b.sort()\n",
    "print b"
   ]
  },
  {
   "cell_type": "markdown",
   "metadata": {},
   "source": [
    "count will return the frequency of occurance of a particular value \n",
    "in the list."
   ]
  },
  {
   "cell_type": "code",
   "execution_count": null,
   "metadata": {
    "collapsed": false
   },
   "outputs": [],
   "source": [
    "mylist = [2,3,2,5,6,6,6]\n",
    "mylist.count(3) \n",
    "m = ['apple', 'cat', 'cat', 'sat']\n",
    "m.count('cat')"
   ]
  },
  {
   "cell_type": "code",
   "execution_count": null,
   "metadata": {
    "collapsed": true
   },
   "outputs": [],
   "source": [
    "# APPEND METHOD\n",
    "mylist = [1,2,3]\n",
    "newl = [4,5,6]\n",
    "mylist.append(newl)\n",
    "print mylist"
   ]
  },
  {
   "cell_type": "code",
   "execution_count": null,
   "metadata": {
    "collapsed": false
   },
   "outputs": [],
   "source": [
    "# EXTEND METHOD\n",
    "mylist = [1,2,3]\n",
    "newl = [4,5,6]\n",
    "mylist.extend(newl)\n",
    "print mylist"
   ]
  },
  {
   "cell_type": "markdown",
   "metadata": {
    "collapsed": true
   },
   "source": [
    "len(list1) will return the number of items in list1."
   ]
  },
  {
   "cell_type": "code",
   "execution_count": null,
   "metadata": {
    "collapsed": false
   },
   "outputs": [],
   "source": [
    "mylist = [1,2,3]\n",
    "bylist = mylist\n",
    "mylist.extend([4,5,6])\n",
    "print mylist\n",
    "print bylist\n",
    "#print \"mylist after extend: \", mylist\n",
    "#print \"length of mylist: \", len(mylist)\n",
    "#print \"bylist: \", bylist"
   ]
  },
  {
   "cell_type": "code",
   "execution_count": null,
   "metadata": {
    "collapsed": false
   },
   "outputs": [],
   "source": [
    "mylist = [1,2,3]\n",
    "mylist_copy = mylist\n",
    "print mylist\n",
    "print mylist_copy\n",
    "mylist_copy.append([4,5,6])\n",
    "print mylist, len(mylist)\n",
    "print mylist_copy, len(mylist_copy)"
   ]
  },
  {
   "cell_type": "markdown",
   "metadata": {
    "collapsed": false
   },
   "source": [
    "Note 1: mylist.append([4,5,6]) will add this list to the end of mylist. \n",
    "Whereas mylist.extend([4,5,6]) will add values 4, 5 and 6 to mylist.\n",
    "\n",
    "Note 2: mylist_copy1 is a copy of mylist. Any changes to mylist_copy1 \n",
    "will also affect mylist because the copy we made is a shallow copy."
   ]
  },
  {
   "cell_type": "markdown",
   "metadata": {},
   "source": [
    "Deep Copy\n",
    "\n",
    "A deep copy of a list can be done by using slicing [:]."
   ]
  },
  {
   "cell_type": "code",
   "execution_count": null,
   "metadata": {
    "collapsed": false
   },
   "outputs": [],
   "source": [
    "mylist = [5,9,3]\n",
    "mylist_copy2 = mylist[:]\n",
    "mylist_copy2.append([11,2,3])\n",
    "mylist.sort()\n",
    "#mylist_copy2.sort()\n",
    "print mylist\n",
    "print mylist_copy2\n",
    "#print \"mylist after append\", mylist_copy2\n",
    "#print mylist, len(mylist)"
   ]
  },
  {
   "cell_type": "markdown",
   "metadata": {
    "collapsed": false
   },
   "source": [
    "Note: mylist_copy2 is a deep copy of mylist so any changes to mylist_copy2 \n",
    "will not affect mylist and vice versa."
   ]
  },
  {
   "cell_type": "markdown",
   "metadata": {
    "collapsed": false
   },
   "source": [
    "#### LIST COMPREHENSION"
   ]
  },
  {
   "cell_type": "code",
   "execution_count": null,
   "metadata": {
    "collapsed": false
   },
   "outputs": [],
   "source": [
    "# traditional method\n",
    "squares = []\n",
    "for x in range(10):\n",
    "    squares.append(x**2)\n",
    "print squares"
   ]
  },
  {
   "cell_type": "code",
   "execution_count": null,
   "metadata": {
    "collapsed": false
   },
   "outputs": [],
   "source": [
    "# smart method using list comprehension\n",
    "squares = [x**2 for x in range(10)]\n",
    "print squares"
   ]
  },
  {
   "cell_type": "code",
   "execution_count": null,
   "metadata": {
    "collapsed": false
   },
   "outputs": [],
   "source": [
    "# an elaborate example of list comprehension which combines \n",
    "# two lists and returns a list of tuples\n",
    "combined = [(x, y) for x in [1, 2, 4] for y in [3, 1, 4] if x%2 == 0 and x>y]\n",
    "print combined"
   ]
  },
  {
   "cell_type": "markdown",
   "metadata": {
    "collapsed": false
   },
   "source": [
    "## Tuple\n",
    "\n",
    "Tuple is a collection of immutable Python elements. That means we cannot \n",
    "delete, add or modify elements in a tuple. The syntax for a tuple is \n",
    "a = (item1, item2, item3,).  "
   ]
  },
  {
   "cell_type": "code",
   "execution_count": null,
   "metadata": {
    "collapsed": false
   },
   "outputs": [],
   "source": [
    "T1 = 1,2,'String'\n",
    "# Here Python will automatically assumes T1 is a tuple\n",
    "print T1"
   ]
  },
  {
   "cell_type": "code",
   "execution_count": null,
   "metadata": {
    "collapsed": false
   },
   "outputs": [],
   "source": [
    "emptyTuple = ()\n",
    "print emptyTuple"
   ]
  },
  {
   "cell_type": "code",
   "execution_count": null,
   "metadata": {
    "collapsed": false
   },
   "outputs": [],
   "source": [
    "T2 = (1,)\n",
    "# without the comma, T2 will be of type integer and not tuple\n",
    "print T2, type(T2)"
   ]
  },
  {
   "cell_type": "code",
   "execution_count": null,
   "metadata": {
    "collapsed": false
   },
   "outputs": [],
   "source": [
    "T2 = T2+1 # Not allowed, as tuple cannot be modified\n",
    "print T2, type(T2)"
   ]
  },
  {
   "cell_type": "code",
   "execution_count": null,
   "metadata": {
    "collapsed": false
   },
   "outputs": [],
   "source": [
    "T3 = T1,T2 # T3 is a tuple of tuples\n",
    "print T3\n",
    "print T3[0]\n",
    "print T3[0][1] \n",
    "# 0 index indicates the first tuple and 1 index indicates the \n",
    "# second element in the first tuple"
   ]
  },
  {
   "cell_type": "code",
   "execution_count": null,
   "metadata": {
    "collapsed": false
   },
   "outputs": [],
   "source": [
    "T3[0][0]=2 # New values cannot be assigned"
   ]
  },
  {
   "cell_type": "code",
   "execution_count": null,
   "metadata": {
    "collapsed": false
   },
   "outputs": [],
   "source": [
    "t  = (1,2,3)\n",
    "print t,type(t)\n",
    "l = list(t)\n",
    "print l,type(l)\n",
    "t2 = tuple(l)\n",
    "print t2, type(t2)"
   ]
  },
  {
   "cell_type": "code",
   "execution_count": null,
   "metadata": {
    "collapsed": false
   },
   "outputs": [],
   "source": [
    "A = (2,4,5,8,10,11)\n",
    "B = ('CA', 'MN', 'TX')\n",
    "C = A + B # + operation concatenates the tuples\n",
    "print C"
   ]
  },
  {
   "cell_type": "code",
   "execution_count": null,
   "metadata": {
    "collapsed": false
   },
   "outputs": [],
   "source": [
    "# Basic tuple operations\n",
    "print len(A) \n",
    "print max(B)\n",
    "print min(B)"
   ]
  },
  {
   "cell_type": "code",
   "execution_count": null,
   "metadata": {
    "collapsed": false
   },
   "outputs": [],
   "source": [
    "# Basic tuple operations\n",
    "H = ('Hello',)\n",
    "print H*4 # * means repetition"
   ]
  },
  {
   "cell_type": "code",
   "execution_count": null,
   "metadata": {
    "collapsed": false
   },
   "outputs": [],
   "source": [
    "'''\n",
    "Inclass activity: Consider the tuple t1 = (2,4,8). \n",
    "1. Try to modify the first element of the tuple to 5. \n",
    "2. Convert the tuple into a list and modify the first element to 5.\n",
    "3. Use extend to add [1, 4, 7] to the list\n",
    "4. Pop the third item from the list and then print the list.\n",
    "5. Convert the list back to a tuple. \n",
    "'''"
   ]
  },
  {
   "cell_type": "markdown",
   "metadata": {
    "collapsed": false
   },
   "source": [
    "## Dictionary \n",
    "\n",
    "Dictionary is a collection of key-value pairs. \n",
    "\n",
    "Unlike sequences, which are indexed by a range of numbers, dictionaries are \n",
    "indexed by keys, which can be any immutable type; strings and numbers can \n",
    "always be keys. Tuples can be used as keys if they contain only strings, \n",
    "numbers, or tuples.\n",
    "\n",
    "Dictionaries are mutable that means they can be modified without changing their \n",
    "identity. \n",
    "\n",
    "Reference:\n",
    "\n",
    "https://docs.python.org/2/tutorial/datastructures.html#tuples-and-sequences"
   ]
  },
  {
   "cell_type": "markdown",
   "metadata": {},
   "source": [
    "\n",
    "Syntax for dictionary\n",
    "\n",
    "```\n",
    "D1 = {key1:value1, key2:value2}\n",
    "```\n"
   ]
  },
  {
   "cell_type": "code",
   "execution_count": null,
   "metadata": {
    "collapsed": false
   },
   "outputs": [],
   "source": [
    "# A simple dicitonary\n",
    "d1 = {26:'z', 24:'x'}\n",
    "print d1"
   ]
  },
  {
   "cell_type": "code",
   "execution_count": null,
   "metadata": {
    "collapsed": false
   },
   "outputs": [],
   "source": [
    "ziploc = {} # ziploc is an empty dictionary\n",
    "print ziploc"
   ]
  },
  {
   "cell_type": "code",
   "execution_count": null,
   "metadata": {
    "collapsed": false
   },
   "outputs": [],
   "source": [
    "print ziploc['95117']\n",
    "ziploc['95117'] = 'Santa Clara'\n",
    "print ziploc['95117']\n",
    "ziploc['95054'] = 'Santa Clara'\n",
    "print ziploc"
   ]
  },
  {
   "cell_type": "code",
   "execution_count": null,
   "metadata": {
    "collapsed": false
   },
   "outputs": [],
   "source": [
    "'''\n",
    "In this example for the key 95117, the value is San Jose, \n",
    "for the key 94086, the value is Sunnyvale etc.\n",
    "'''\n",
    "\n",
    "ziploc = {'95117': 'San Jose','94086':'Sunnyvale','95014': 'Cupertino'}\n",
    "print ziploc\n",
    "print ziploc.keys()\n",
    "print tuple(ziploc.keys())\n",
    "print ziploc.values()"
   ]
  },
  {
   "cell_type": "code",
   "execution_count": null,
   "metadata": {
    "collapsed": false
   },
   "outputs": [],
   "source": [
    "for keys in ziploc: \n",
    "    print keys,ziploc[keys]"
   ]
  },
  {
   "cell_type": "code",
   "execution_count": null,
   "metadata": {
    "collapsed": false
   },
   "outputs": [],
   "source": [
    "for keys,value in ziploc.iteritems(): # Use .items() for version 3.0+\n",
    "    print keys,value"
   ]
  },
  {
   "cell_type": "code",
   "execution_count": null,
   "metadata": {
    "collapsed": false
   },
   "outputs": [],
   "source": [
    "print ziploc['55421'] \n",
    "# This will give an error, as the dictionary does not have key 55421"
   ]
  },
  {
   "cell_type": "code",
   "execution_count": null,
   "metadata": {
    "collapsed": false
   },
   "outputs": [],
   "source": [
    "print '55421' in ziploc"
   ]
  },
  {
   "cell_type": "code",
   "execution_count": null,
   "metadata": {
    "collapsed": false
   },
   "outputs": [],
   "source": [
    "print ziploc.items() # dictname.items() returns a list of (key,value) tuple pairs"
   ]
  },
  {
   "cell_type": "code",
   "execution_count": null,
   "metadata": {
    "collapsed": false
   },
   "outputs": [],
   "source": [
    "ziploc.clear() # removes all the elements of the dictionary\n",
    "print ziploc"
   ]
  },
  {
   "cell_type": "code",
   "execution_count": null,
   "metadata": {
    "collapsed": false
   },
   "outputs": [],
   "source": [
    "# Dictionary comprehension \n",
    "squared = {x: x**2 for x in range(5)}\n",
    "print squared"
   ]
  },
  {
   "cell_type": "code",
   "execution_count": null,
   "metadata": {
    "collapsed": false
   },
   "outputs": [],
   "source": [
    "d = dict(a=1, b=2, e=1, d=2, c=1, g=2, f=3)\n",
    "print d\n"
   ]
  },
  {
   "cell_type": "code",
   "execution_count": null,
   "metadata": {
    "collapsed": false
   },
   "outputs": [],
   "source": [
    "for items in d.iteritems():\n",
    "    print items"
   ]
  },
  {
   "cell_type": "code",
   "execution_count": null,
   "metadata": {
    "collapsed": false
   },
   "outputs": [],
   "source": [
    "'''\n",
    "In-class activity: Create a dictionary with five key-value pairs, \n",
    "state as the key and it's capital city as the value. \n",
    "'''"
   ]
  },
  {
   "cell_type": "code",
   "execution_count": null,
   "metadata": {
    "collapsed": false
   },
   "outputs": [],
   "source": [
    "'''\n",
    "In-class activity: Create a dictionary with five key-value pairs, state \n",
    "as the key and it's capital city and the capital city's current \n",
    "temperature as the value using tuples or lists. \n",
    "'''"
   ]
  },
  {
   "cell_type": "markdown",
   "metadata": {
    "collapsed": false
   },
   "source": [
    "# Set\n",
    "\n",
    "A set is an unordered collection of unique items. Set is a mutable object. "
   ]
  },
  {
   "cell_type": "code",
   "execution_count": null,
   "metadata": {
    "collapsed": false
   },
   "outputs": [],
   "source": [
    "vegetables = ['tomatoes','eggplant','cauliflower','eggplant'] # A list\n",
    "vegetables_set = set(vegetables)\n",
    "# set command returns only unique items\n",
    "print vegetables,vegetables_set"
   ]
  },
  {
   "cell_type": "code",
   "execution_count": null,
   "metadata": {
    "collapsed": false
   },
   "outputs": [],
   "source": [
    "a = list(vegetables_set)\n",
    "# vegetables_set[0] # Not allowed as set cannot be indexed. \n",
    "# You can iterate through them.\n",
    "print a[0]"
   ]
  },
  {
   "cell_type": "code",
   "execution_count": null,
   "metadata": {
    "collapsed": false
   },
   "outputs": [],
   "source": [
    "for items in vegetables:\n",
    "    print items "
   ]
  },
  {
   "cell_type": "code",
   "execution_count": null,
   "metadata": {
    "collapsed": false
   },
   "outputs": [],
   "source": [
    "for items in vegetables_set:\n",
    "    print items "
   ]
  },
  {
   "cell_type": "code",
   "execution_count": null,
   "metadata": {
    "collapsed": false
   },
   "outputs": [],
   "source": [
    "# Membership check\n",
    "print 'Cauliflower' in vegetables_set "
   ]
  },
  {
   "cell_type": "code",
   "execution_count": null,
   "metadata": {
    "collapsed": false
   },
   "outputs": [],
   "source": [
    "finallistofveg = list(vegetables_set)\n",
    "print finallistofveg"
   ]
  },
  {
   "cell_type": "code",
   "execution_count": null,
   "metadata": {
    "collapsed": false
   },
   "outputs": [],
   "source": [
    "a = [1,1,4,5,7]\n",
    "print type(a), a\n",
    "b = set(a)\n",
    "c = list(b)\n",
    "print c\n",
    "\n",
    "print list(set(a))"
   ]
  },
  {
   "cell_type": "markdown",
   "metadata": {
    "collapsed": false
   },
   "source": [
    "From https://docs.python.org/2/library/sets.html, you can obtain a list \n",
    "of all operators that can be applied to sets\n",
    "\n",
    "len(s):                           cardinality of set s\n",
    "\n",
    "x in s:                           tests x for membership in s\n",
    "\n",
    "x not in s:                       tests x for non-membership in s\n",
    "\n",
    "s.issubset(t): <=     t:          test whether every element in s is in t\n",
    "\n",
    "s.issuperset(t): s >= t:          test whether every element in t is in s\n",
    "\n",
    "s.union(t): s | t :               new set with elements from both s and t\n",
    "\n",
    "s.intersection(t): s & t:         new set with elements common to s and t\n",
    "\n",
    "s.difference(t): s - t :          new set with elements in s but not in t\n",
    "\n",
    "s.symmetric_difference(t): s ^ t: new set with elements in either \n",
    "                                  s or t but not both\n",
    "                                  \n",
    "s.copy():                         new set with a shallow copy of s\n",
    "\n",
    "s.update(t):                      will add elements from t to s\n",
    "\n",
    "s.add(x1):                        will add x1 to s\n",
    "\n",
    "s.remove(x2):                     will remove x2 from s\n",
    "\n",
    "s.discard(x3):                    will discard x3 from s\n",
    "\n",
    "s.pop():                          will arbitrarily remove an element from s\n",
    "\n",
    "s.clear():                        will clear all elements in s"
   ]
  },
  {
   "cell_type": "code",
   "execution_count": null,
   "metadata": {
    "collapsed": false
   },
   "outputs": [],
   "source": [
    "list1 = [1,2,3,45,76]\n",
    "list2 = [5,12,45]\n",
    "set1 = set(list1)\n",
    "set2 = set(list2)\n",
    "print set1, set2"
   ]
  },
  {
   "cell_type": "code",
   "execution_count": null,
   "metadata": {
    "collapsed": false
   },
   "outputs": [],
   "source": [
    "print set1.union(set2)\n",
    "print set1.intersection(set2)\n",
    "print set1.difference(set2)\n",
    "print 1 in set1 # Check if an element exists in a set using in keyword\n",
    "print set1.issubset(set2) "
   ]
  },
  {
   "cell_type": "code",
   "execution_count": null,
   "metadata": {
    "collapsed": false
   },
   "outputs": [],
   "source": [
    "# update()\n",
    "# current_set.update(another_set) function will update current_set with \n",
    "# elements in another_set\n",
    "set1.update(set2)\n",
    "print set1"
   ]
  },
  {
   "cell_type": "code",
   "execution_count": null,
   "metadata": {
    "collapsed": false
   },
   "outputs": [],
   "source": [
    "# add()\n",
    "# current_set.add(x1) will add x1 to current_set\n",
    "set1.add(-11)\n",
    "print set1"
   ]
  },
  {
   "cell_type": "code",
   "execution_count": null,
   "metadata": {
    "collapsed": false
   },
   "outputs": [],
   "source": [
    "# remove()\n",
    "# current_set.remove(x2) will remove x2 from current_set\n",
    "set1.remove(2) \n",
    "print set1"
   ]
  },
  {
   "cell_type": "code",
   "execution_count": null,
   "metadata": {
    "collapsed": false
   },
   "outputs": [],
   "source": [
    "# discard()\n",
    "# current_set.discard(x3) will remove x3 from current_set\n",
    "'''\n",
    "A key difference between remove() and discard() is that if the element is \n",
    "not there then remove will raise an exception called 'KeyError' while discard() \n",
    "will silently fail\n",
    "'''\n",
    "\n",
    "set1.discard(3) \n",
    "print set1"
   ]
  },
  {
   "cell_type": "code",
   "execution_count": null,
   "metadata": {
    "collapsed": false
   },
   "outputs": [],
   "source": [
    "# pop()\n",
    "# current_set.pop() will arbitrarily removes an element from current_set\n",
    "set1.pop() \n",
    "print set1"
   ]
  },
  {
   "cell_type": "code",
   "execution_count": null,
   "metadata": {
    "collapsed": false
   },
   "outputs": [],
   "source": [
    "# clear()\n",
    "# current_set.clear() will remove all the elements from current_set\n",
    "set1.clear()\n",
    "print(set1)"
   ]
  },
  {
   "cell_type": "code",
   "execution_count": null,
   "metadata": {
    "collapsed": false
   },
   "outputs": [],
   "source": [
    "'''\n",
    "In-class activity:\n",
    "mylist = [2,3,2,5,6,6,6], create a dictionary with element in mylist as a key \n",
    "and its frequency of occurrence as its value. Use set to accomplish this.\n",
    "'''"
   ]
  }
 ],
 "metadata": {
  "kernelspec": {
   "display_name": "Python 2",
   "language": "python",
   "name": "python2"
  },
  "language_info": {
   "codemirror_mode": {
    "name": "ipython",
    "version": 2
   },
   "file_extension": ".py",
   "mimetype": "text/x-python",
   "name": "python",
   "nbconvert_exporter": "python",
   "pygments_lexer": "ipython2",
   "version": "2.7.11"
  }
 },
 "nbformat": 4,
 "nbformat_minor": 0
}
