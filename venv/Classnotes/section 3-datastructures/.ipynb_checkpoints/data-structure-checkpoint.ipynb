{
 "metadata": {
  "name": "",
  "signature": "sha256:3093f3ed85a9285ae8896d349526dafbd6242b2a5ca6e2547f8c1d046ad7b9bb"
 },
 "nbformat": 3,
 "nbformat_minor": 0,
 "worksheets": [
  {
   "cells": [
    {
     "cell_type": "code",
     "collapsed": false,
     "input": [
      "'''\n",
      "Data Structures\n",
      "\n",
      "1. List\n",
      "2. Dictionary\n",
      "3. tuples\n",
      "4. sets\n",
      "5. strings\n",
      "6. slicing lists and tuples\n",
      "7. List comprehension\n",
      "https://docs.python.org/2/tutorial/datastructures.html\n",
      "'''    "
     ],
     "language": "python",
     "metadata": {},
     "outputs": []
    },
    {
     "cell_type": "code",
     "collapsed": false,
     "input": [
      "# Syntax for list is n = [item1, item2, item3].  The items can be any Python object\n",
      "# the index of the list starts from zero\n",
      "mylist = [1,2,\"CA\",[3,4]]  # mylist is a collection of numbers, string and a list\n",
      "print mylist"
     ],
     "language": "python",
     "metadata": {},
     "outputs": []
    },
    {
     "cell_type": "code",
     "collapsed": false,
     "input": [
      "mylist[0] # this returns the first element in mylist"
     ],
     "language": "python",
     "metadata": {},
     "outputs": []
    },
    {
     "cell_type": "code",
     "collapsed": false,
     "input": [
      "mylist[-2] # this returns the last but one element in mylist"
     ],
     "language": "python",
     "metadata": {},
     "outputs": []
    },
    {
     "cell_type": "code",
     "collapsed": false,
     "input": [
      "mylist[-1][-2]"
     ],
     "language": "python",
     "metadata": {},
     "outputs": []
    },
    {
     "cell_type": "code",
     "collapsed": false,
     "input": [
      "# mylist[a:b] will return elements with index starting from a up to b-1. \n",
      "# This process is called Slicing\n",
      "mylist[0:2]"
     ],
     "language": "python",
     "metadata": {},
     "outputs": []
    },
    {
     "cell_type": "code",
     "collapsed": false,
     "input": [
      "print mylist[-1][1] #this is used to get elements from a list of list"
     ],
     "language": "python",
     "metadata": {},
     "outputs": []
    },
    {
     "cell_type": "code",
     "collapsed": false,
     "input": [
      "# append will add a value to the end of the list\n",
      "mylist.append(3.14) \n",
      "print mylist"
     ],
     "language": "python",
     "metadata": {},
     "outputs": []
    },
    {
     "cell_type": "code",
     "collapsed": false,
     "input": [
      "# Pop removes an element at the given index\n",
      "print mylist.pop(2)\n",
      "print mylist"
     ],
     "language": "python",
     "metadata": {},
     "outputs": []
    },
    {
     "cell_type": "code",
     "collapsed": false,
     "input": [
      "# Insert adds an element at the given index\n",
      "mylist.insert(2,\"MN\")\n",
      "print mylist"
     ],
     "language": "python",
     "metadata": {},
     "outputs": []
    },
    {
     "cell_type": "code",
     "collapsed": false,
     "input": [
      "print mylist[1]"
     ],
     "language": "python",
     "metadata": {},
     "outputs": []
    },
    {
     "cell_type": "code",
     "collapsed": false,
     "input": [
      "mylist = ['couple','3','3a',1,5,2,2.4,'c','0'] # note '3' is a string\n",
      "a = mylist.sort()\n",
      "# print a, mylist\n",
      "print a \n",
      "print mylist "
     ],
     "language": "python",
     "metadata": {},
     "outputs": []
    },
    {
     "cell_type": "code",
     "collapsed": false,
     "input": [
      "# sort() function will sort the list in ascending order. \n",
      "# If reverse = True is specified then it will sort the list on descending order\n",
      "mylist.sort(reverse=True)\n",
      "print mylist"
     ],
     "language": "python",
     "metadata": {},
     "outputs": []
    },
    {
     "cell_type": "code",
     "collapsed": false,
     "input": [
      "# for list of lists, sort command sorts the lists with respect to the first element \n",
      "# in the lists\n",
      "a = [[10,3],[5,2]]\n",
      "a.sort()\n",
      "print a"
     ],
     "language": "python",
     "metadata": {},
     "outputs": []
    },
    {
     "cell_type": "code",
     "collapsed": false,
     "input": [
      "b = [['q', 'a'], ['dog','cat']]\n",
      "b.sort()\n",
      "print b"
     ],
     "language": "python",
     "metadata": {},
     "outputs": []
    },
    {
     "cell_type": "code",
     "collapsed": false,
     "input": [
      "mylist = [2,3,2,5,6,6,6]\n",
      "mylist.count(3) \n",
      "m = ['apple', 'cat', 'cat', 'sat']\n",
      "m.count('cat')\n",
      "#count will return the frequency of occurance of a particular value in the list"
     ],
     "language": "python",
     "metadata": {},
     "outputs": []
    },
    {
     "cell_type": "code",
     "collapsed": false,
     "input": [
      "newlist = set(mylist)\n",
      "print newlist, type(newlist)\n",
      "newlist = list(set(mylist))\n",
      "print newlist"
     ],
     "language": "python",
     "metadata": {},
     "outputs": []
    },
    {
     "cell_type": "code",
     "collapsed": false,
     "input": [
      "d = dict(a=1, b=2, e=1, d=2, c=1, g=2, f=3)\n",
      "print d\n",
      "for items in d.iteritems():\n",
      "    print items\n",
      "a1 = {1:'a',2:'b'}\n",
      "print a1"
     ],
     "language": "python",
     "metadata": {},
     "outputs": []
    },
    {
     "cell_type": "code",
     "collapsed": false,
     "input": [
      "# EXTEND METHOD\n",
      "mylist = [1,2,3]\n",
      "newl = [4,5,6]\n",
      "#mylist.append(newl)\n",
      "mylist.extend(newl)\n",
      "print mylist"
     ],
     "language": "python",
     "metadata": {},
     "outputs": []
    },
    {
     "cell_type": "code",
     "collapsed": false,
     "input": [
      "mylist = [1,2,3]\n",
      "bylist = mylist\n",
      "mylist.extend([4,5,6])\n",
      "print mylist\n",
      "print bylist\n",
      "#print \"mylist extend\",mylist_copy1\n",
      "#print mylist,len(mylist)"
     ],
     "language": "python",
     "metadata": {},
     "outputs": []
    },
    {
     "cell_type": "code",
     "collapsed": false,
     "input": [
      "# What is wrong with the next two statements?\n",
      "mylist = [1,2,3]\n",
      "mylist_copy = mylist\n",
      "print mylist\n",
      "print mylist_copy\n",
      "mylist_copy.append([4,5,6])\n",
      "#print \"mylist append\",mylist_copy\n",
      "print mylist,len(mylist)\n",
      "print mylist_copy,len(mylist_copy)\n",
      "# len(object) will return the number of items of an object"
     ],
     "language": "python",
     "metadata": {},
     "outputs": []
    },
    {
     "cell_type": "code",
     "collapsed": false,
     "input": [
      "'''\n",
      "Note 1: mylist.append([4,5,6]) will add this list to the end of mylist. Whereas \n",
      "mylist.extend([4,5,6]) will add values 4, 5 and 6 to mylist.\n",
      "\n",
      "Note 2: mylist_copy1 is a copy of mylist. Any changes to mylist_copy1 will also \n",
      "affect mylist because the copy we made is a shallow copy.\n",
      "'''"
     ],
     "language": "python",
     "metadata": {},
     "outputs": []
    },
    {
     "cell_type": "code",
     "collapsed": false,
     "input": [
      "#### DEEP COPY\n",
      "mylist = [5,9,3]\n",
      "mylist_copy2 = mylist[:]\n",
      "mylist_copy2.append([11,2,3])\n",
      "mylist.sort()\n",
      "#mylist_copy2.sort()\n",
      "print mylist\n",
      "print mylist_copy2\n",
      "#print \"mylist append\", mylist_copy2\n",
      "#print mylist, len(mylist)"
     ],
     "language": "python",
     "metadata": {},
     "outputs": []
    },
    {
     "cell_type": "code",
     "collapsed": false,
     "input": [
      "'''\n",
      "Note: mylist_copy2 is a deep copy of mylist so any changes to mylist_copy2 will \n",
      "not affect mylist and vice versa.\n",
      "'''"
     ],
     "language": "python",
     "metadata": {},
     "outputs": []
    },
    {
     "cell_type": "raw",
     "metadata": {},
     "source": [
      "# filter(), map(), and reduce()"
     ]
    },
    {
     "cell_type": "code",
     "collapsed": false,
     "input": [
      "for i in range(2,10):\n",
      "    if i%2!=0:\n",
      "        print i"
     ],
     "language": "python",
     "metadata": {},
     "outputs": []
    },
    {
     "cell_type": "code",
     "collapsed": false,
     "input": [
      "# Get all odd numbers between 2 and 10\n",
      "a = range(2,10)\n",
      "print a\n",
      "\n",
      "def f(x): \n",
      "    return x % 2 != 0\n",
      "\n",
      "b = filter(f, a) \n",
      "# filter command takes two inputs one is a function and other one is iterable\n",
      "# filter returns a list of values that satisfies the condition, \n",
      "# in this case it returns all the values between 2 and 9 that \n",
      "# are NOT divisible by 2. \n",
      "print b"
     ],
     "language": "python",
     "metadata": {},
     "outputs": []
    },
    {
     "cell_type": "code",
     "collapsed": false,
     "input": [
      "# Get all odd numbers between 2 and 10 using LAMBDA FUNCTIONS\n",
      "a = range(2,10)\n",
      "b = filter(lambda x:x%2!=0, a) \n",
      "# We replaced the function f with a lambda function (also known as anonymous function)\n",
      "# The lambda function needs to be read as follows\n",
      "# The x to the left of the : is the argument to the function\n",
      "# The expression x%2!=0 to the right of : is the operation being performed inside the function\n",
      "# and also the value being returned by the function.\n",
      "print b"
     ],
     "language": "python",
     "metadata": {},
     "outputs": []
    },
    {
     "cell_type": "code",
     "collapsed": false,
     "input": [
      "def squared(x): \n",
      "    return x*x\n",
      "\n",
      "print map(squared, range(1, 5)) \n",
      "'''\n",
      "map command takes a function and iterable(s). In this case one input is \n",
      "the function and other input is the values. Map returns a list which is the \n",
      "output of the function. In this case it returns the squares of the values \n",
      "from 1 to 4. Map takes a set of values and returns another set of values \n",
      "based on the function.\n",
      "'''"
     ],
     "language": "python",
     "metadata": {},
     "outputs": []
    },
    {
     "cell_type": "code",
     "collapsed": false,
     "input": [
      "# LAMBDA function - anonymous functions\n",
      "# lambda (input1, input2) : output\n",
      "# An equivalent function is the squared function list above\n",
      "print map(lambda x:x*x, range(1, 5)) "
     ],
     "language": "python",
     "metadata": {},
     "outputs": []
    },
    {
     "cell_type": "code",
     "collapsed": false,
     "input": [
      "# You can also give a name to the lambda function\n",
      "lambdasq = lambda x:x*x\n",
      "print map(lambdasq, range(1, 5)) "
     ],
     "language": "python",
     "metadata": {},
     "outputs": []
    },
    {
     "cell_type": "code",
     "collapsed": false,
     "input": [
      "a = [1,2,3]\n",
      "b = [4,5,6]\n",
      "def add(a1, b1): return a1+b1\n",
      "map(add,a,b)\n",
      "# here map takes two lists and adds them"
     ],
     "language": "python",
     "metadata": {},
     "outputs": []
    },
    {
     "cell_type": "code",
     "collapsed": false,
     "input": [
      "# Reduce operation is used to shrink an iterable to a single value\n",
      "# Find the sum of all elements in a list\n",
      "a = [1,2,5]\n",
      "reduce(lambda x,y: x+y, a)"
     ],
     "language": "python",
     "metadata": {},
     "outputs": []
    },
    {
     "cell_type": "code",
     "collapsed": false,
     "input": [
      "a = [1,2,5]\n",
      "reduce(lambda x,y: x*y , a)"
     ],
     "language": "python",
     "metadata": {},
     "outputs": []
    },
    {
     "cell_type": "code",
     "collapsed": false,
     "input": [
      "## LIST COMPREHENSION"
     ],
     "language": "python",
     "metadata": {},
     "outputs": []
    },
    {
     "cell_type": "code",
     "collapsed": false,
     "input": [
      "# traditional method\n",
      "squares = []\n",
      "for x in range(10):\n",
      "    squares.append(x**2)\n",
      "print squares"
     ],
     "language": "python",
     "metadata": {},
     "outputs": []
    },
    {
     "cell_type": "code",
     "collapsed": false,
     "input": [
      "# smart method using list comprehension\n",
      "squares = [x**2 for x in range(10)]\n",
      "print squares"
     ],
     "language": "python",
     "metadata": {},
     "outputs": []
    },
    {
     "cell_type": "code",
     "collapsed": false,
     "input": [
      "# an elaborate example of list comprehension which combines two lists and \n",
      "# returns a list of tuples\n",
      "combined = [(x, y) for x in [1,2,3,4] for y in [3,1,4] if x != y and x>y]\n",
      "print combined"
     ],
     "language": "python",
     "metadata": {},
     "outputs": []
    },
    {
     "cell_type": "code",
     "collapsed": false,
     "input": [
      "'''\n",
      "Tuple is a collection of immutable Python elements. That means we cannot \n",
      "delete, add or modify elements in a tuple. The syntax for a tuple is \n",
      "a = (item1,item2,item3,).  \n",
      "'''"
     ],
     "language": "python",
     "metadata": {},
     "outputs": []
    },
    {
     "cell_type": "code",
     "collapsed": false,
     "input": [
      "T1 = 1,2,'String'\n",
      "# Here Python will automatically assumes T1 is a tuple\n",
      "print T1"
     ],
     "language": "python",
     "metadata": {},
     "outputs": []
    },
    {
     "cell_type": "code",
     "collapsed": false,
     "input": [
      "emptyTuple = ()\n",
      "print emptyTuple"
     ],
     "language": "python",
     "metadata": {},
     "outputs": []
    },
    {
     "cell_type": "code",
     "collapsed": false,
     "input": [
      "T2 = (1,2,)\n",
      "# without the comma, T2 will be of type integer and not tuple\n",
      "print T2,type(T2)"
     ],
     "language": "python",
     "metadata": {},
     "outputs": []
    },
    {
     "cell_type": "code",
     "collapsed": false,
     "input": [
      "T2 = T2+1 # Not allowed, as tuple cannot be modified\n",
      "print T2,type(T2)"
     ],
     "language": "python",
     "metadata": {},
     "outputs": []
    },
    {
     "cell_type": "code",
     "collapsed": false,
     "input": [
      "T3 = T1,T2 # T3 is a tuple of tuples\n",
      "print T3\n",
      "print T3[0]\n",
      "print T3[0][1] \n",
      "# 0 index indicates the first tuple and 1 index indicates the \n",
      "# second element in the first tuple"
     ],
     "language": "python",
     "metadata": {},
     "outputs": []
    },
    {
     "cell_type": "code",
     "collapsed": false,
     "input": [
      "T3[0][0]=2 # New values cannot be assigned"
     ],
     "language": "python",
     "metadata": {},
     "outputs": []
    },
    {
     "cell_type": "code",
     "collapsed": false,
     "input": [
      "t  = (1,2,3)\n",
      "def squared(x): return x*x\n",
      "map(squared, t) \n",
      "# map operation on a tuple. This returns a list. Note map function always \n",
      "# returns a list, even if the input is not a list. "
     ],
     "language": "python",
     "metadata": {},
     "outputs": []
    },
    {
     "cell_type": "code",
     "collapsed": false,
     "input": [
      "t  = (1,2,3)\n",
      "print t,type(t)\n",
      "l = list(t)\n",
      "print l,type(l)\n",
      "t2 = tuple(l)\n",
      "print t2, type(t2)"
     ],
     "language": "python",
     "metadata": {},
     "outputs": []
    },
    {
     "cell_type": "code",
     "collapsed": false,
     "input": [
      "B = (1,) # B is a tuple with one element\n",
      "B = (1,2,) # a new tuple named B is created which has two elements\n",
      "B = () # a new tuple named B is created with no elements\n",
      "print B"
     ],
     "language": "python",
     "metadata": {},
     "outputs": []
    },
    {
     "cell_type": "code",
     "collapsed": false,
     "input": [
      "A = (2,4,5,8,10,11)\n",
      "B = ('CA', 'MN', 'TX')\n",
      "C = A + B # + operation concatenates the tuples\n",
      "print C"
     ],
     "language": "python",
     "metadata": {},
     "outputs": []
    },
    {
     "cell_type": "code",
     "collapsed": false,
     "input": [
      "# Basic tuple operations\n",
      "print len(A) \n",
      "print max(B)\n",
      "print min(B)"
     ],
     "language": "python",
     "metadata": {},
     "outputs": []
    },
    {
     "cell_type": "code",
     "collapsed": false,
     "input": [
      "# Basic tuple operations\n",
      "H = ('Hello',)\n",
      "print H*4 # * means repetition"
     ],
     "language": "python",
     "metadata": {},
     "outputs": []
    },
    {
     "cell_type": "code",
     "collapsed": false,
     "input": [
      "# Basic tuple operations\n",
      "serial1 = ('Belize','Costa Rica','Guatemala')\n",
      "serial2 =['Ecuador', 'Belize','Nicaragua']\n",
      "print cmp(serial1,serial1)\n",
      "print cmp(serial1,serial2)\n",
      "print tuple(serial1)"
     ],
     "language": "python",
     "metadata": {},
     "outputs": []
    },
    {
     "cell_type": "code",
     "collapsed": false,
     "input": [
      "'''\n",
      "Inclass activity: Consider the tuple t1 = (2,4,8). \n",
      "1. Try to modify the first element of the tuple to 5. \n",
      "2. Convert the tuple into a list and append the number 5 to the list\n",
      "3. Use extend to add [1,4,5] to the list\n",
      "4. Pop the third item from the list and then print the list.\n",
      "5. Convert it back into a tuple. \n",
      "'''"
     ],
     "language": "python",
     "metadata": {},
     "outputs": []
    },
    {
     "cell_type": "code",
     "collapsed": false,
     "input": [
      "'''\n",
      "Dictionary is another useful data type built into Python is the dictionary \n",
      "(see Mapping Types \u2014 dict). Dictionaries are sometimes found in other languages \n",
      "as \u201cassociative memories\u201d or \u201cassociative arrays\u201d. Unlike sequences, which are \n",
      "indexed by a range of numbers, dictionaries are indexed by keys, \n",
      "which can be any immutable type; strings and numbers can always be keys. \n",
      "Tuples can be used as keys if they contain only strings, numbers, or tuples; \n",
      "if a tuple contains any mutable object either directly or indirectly, it cannot be \n",
      "used as a key. You can\u2019t use lists as keys, since lists can be modified in place \n",
      "using index assignments, slice assignments, or methods like append() and extend(). \n",
      "https://docs.python.org/2/tutorial/datastructures.html#tuples-and-sequences\n",
      "'''"
     ],
     "language": "python",
     "metadata": {},
     "outputs": []
    },
    {
     "cell_type": "code",
     "collapsed": false,
     "input": [
      "ziploc = {}\n",
      "print ziploc"
     ],
     "language": "python",
     "metadata": {},
     "outputs": []
    },
    {
     "cell_type": "code",
     "collapsed": false,
     "input": [
      "# syntax for a dictionary is dict = {'key1': 'value1', 'key2': 'value2'}\n",
      "# dict is a key-value pair\n",
      "ziploc = {'95117': 'San Jose','94086':'Sunnyvale','95014': 'Cupertino'}\n",
      "# in this example for key 95117, San Jose is the value, \n",
      "# for key 94086, Sunnyvale is the value\n",
      "print ziploc\n",
      "print ziploc.keys()\n",
      "print tuple(ziploc.keys())\n",
      "print ziploc.values()"
     ],
     "language": "python",
     "metadata": {},
     "outputs": []
    },
    {
     "cell_type": "code",
     "collapsed": false,
     "input": [
      "print ziploc['95117']\n",
      "ziploc['95117'] = 'Santa Clara'\n",
      "print ziploc['95117']\n",
      "ziploc['95054'] = 'Santa Clara'\n",
      "print ziploc"
     ],
     "language": "python",
     "metadata": {},
     "outputs": []
    },
    {
     "cell_type": "code",
     "collapsed": false,
     "input": [
      "for keys in ziploc:\n",
      "    print keys,ziploc[keys]"
     ],
     "language": "python",
     "metadata": {},
     "outputs": []
    },
    {
     "cell_type": "code",
     "collapsed": false,
     "input": [
      "for keys,value in ziploc.iteritems(): # Use .items() for version 3.0+\n",
      "    print keys,value"
     ],
     "language": "python",
     "metadata": {},
     "outputs": []
    },
    {
     "cell_type": "code",
     "collapsed": false,
     "input": [
      "ziploc['55421'] # Not allowed, as the dictionary does not have key 55421"
     ],
     "language": "python",
     "metadata": {},
     "outputs": []
    },
    {
     "cell_type": "code",
     "collapsed": false,
     "input": [
      "exists = False\n",
      "for k,v in ziploc.iteritems():\n",
      "    if k == '95117':\n",
      "        exists = True\n",
      "        break\n",
      "print exists"
     ],
     "language": "python",
     "metadata": {},
     "outputs": []
    },
    {
     "cell_type": "code",
     "collapsed": false,
     "input": [
      "'55421' in ziploc"
     ],
     "language": "python",
     "metadata": {},
     "outputs": []
    },
    {
     "cell_type": "code",
     "collapsed": false,
     "input": [
      "ziploc.items() # dict.items() returns a list of (key,value) tuple pairs"
     ],
     "language": "python",
     "metadata": {},
     "outputs": []
    },
    {
     "cell_type": "code",
     "collapsed": false,
     "input": [
      "ziploc.values() #dict.values() returns the dictionary values"
     ],
     "language": "python",
     "metadata": {},
     "outputs": []
    },
    {
     "cell_type": "code",
     "collapsed": false,
     "input": [
      "ziploc.clear() # removes all the elements of the dictionary\n",
      "print ziploc"
     ],
     "language": "python",
     "metadata": {},
     "outputs": []
    },
    {
     "cell_type": "code",
     "collapsed": false,
     "input": [
      "squared = {x: x**2 for x in range(5)}\n",
      "# we are using dictionary comprehension \n",
      "print squared"
     ],
     "language": "python",
     "metadata": {},
     "outputs": []
    },
    {
     "cell_type": "code",
     "collapsed": false,
     "input": [
      "mylist = [2,3,2,5,6,6,6]\n",
      "mylist.count(3) "
     ],
     "language": "python",
     "metadata": {},
     "outputs": []
    },
    {
     "cell_type": "code",
     "collapsed": false,
     "input": [
      "countdict = {}\n",
      "for items in newlist:\n",
      "    countdict[items] = mylist.count(items)\n",
      "print countdict"
     ],
     "language": "python",
     "metadata": {},
     "outputs": []
    },
    {
     "cell_type": "code",
     "collapsed": false,
     "input": [
      "'''\n",
      "Set - is a unordered collection of unique items\n",
      "'''"
     ],
     "language": "python",
     "metadata": {},
     "outputs": []
    },
    {
     "cell_type": "code",
     "collapsed": false,
     "input": [
      "vegetables = ['tomatoes','eggplant','cucumber','eggplant'] # A list\n",
      "vegetables_set = set(vegetables)\n",
      "# set command returns only unique items\n",
      "print vegetables,vegetables_set"
     ],
     "language": "python",
     "metadata": {},
     "outputs": []
    },
    {
     "cell_type": "code",
     "collapsed": false,
     "input": [
      "a = list(vegetables_set)\n",
      "# vegetables_set[0] # Not allowed as set cannot be indexed. You can iterate \n",
      "# through them.\n",
      "a[0]"
     ],
     "language": "python",
     "metadata": {},
     "outputs": []
    },
    {
     "cell_type": "code",
     "collapsed": false,
     "input": [
      "for items in vegetables:\n",
      "    print items "
     ],
     "language": "python",
     "metadata": {},
     "outputs": []
    },
    {
     "cell_type": "code",
     "collapsed": false,
     "input": [
      "for items in vegetables_set:\n",
      "    print items "
     ],
     "language": "python",
     "metadata": {},
     "outputs": []
    },
    {
     "cell_type": "code",
     "collapsed": false,
     "input": [
      "print 'Cucumber' in vegetables_set \n",
      "# the above statement checks whether Cucumber is in vegetables_set"
     ],
     "language": "python",
     "metadata": {},
     "outputs": []
    },
    {
     "cell_type": "code",
     "collapsed": false,
     "input": [
      "finallistofveg = list(vegetables_set)\n",
      "print finallistofveg"
     ],
     "language": "python",
     "metadata": {},
     "outputs": []
    },
    {
     "cell_type": "code",
     "collapsed": false,
     "input": [
      "a = [1,1,4,5,7]\n",
      "print type(a), a\n",
      "b = set(a)\n",
      "c = list(b)\n",
      "print c\n",
      "\n",
      "list(set(a))"
     ],
     "language": "python",
     "metadata": {},
     "outputs": []
    },
    {
     "cell_type": "code",
     "collapsed": false,
     "input": [
      "'''\n",
      "From https://docs.python.org/2/library/sets.html, you can obtain a list of all operators that can \n",
      "be applied to sets\n",
      "len(s): cardinality of set s\n",
      "x in s: tests x for membership in s\n",
      "x not in s: tests x for non-membership in s\n",
      "s.issubset(t): <= t: test whether every element in s is in t\n",
      "s.issuperset(t): s >= t: test whether every element in t is in s\n",
      "s.union(t): s | t : new set with elements from both s and t\n",
      "s.intersection(t): s & t : new set with elements common to s and t\n",
      "s.difference(t): s - t : new set with elements in s but not in t\n",
      "s.symmetric_difference(t) : s ^ t : new set with elements in either s or t but not both\n",
      "s.copy(): new set with a shallow copy of s\n",
      "'''"
     ],
     "language": "python",
     "metadata": {},
     "outputs": []
    },
    {
     "cell_type": "code",
     "collapsed": false,
     "input": [
      "list1 = [1,2,3,45,76]\n",
      "list2 = [2,3,45]\n",
      "set1 = set(list1)\n",
      "set2 = set(list2)\n",
      "print set1,set2\n",
      "\n",
      "print set1.union(set2)\n",
      "print set1.intersection(set2)\n",
      "print set1.difference(set2)\n",
      "print 1 in set1 # Check if an element exists in a set using in keyword\n",
      "print set1.issubset(set2) "
     ],
     "language": "python",
     "metadata": {},
     "outputs": []
    },
    {
     "cell_type": "code",
     "collapsed": false,
     "input": [],
     "language": "python",
     "metadata": {},
     "outputs": []
    }
   ],
   "metadata": {}
  }
 ]
}