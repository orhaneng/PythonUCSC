{
 "cells": [
  {
   "cell_type": "code",
   "execution_count": null,
   "metadata": {
    "collapsed": true
   },
   "outputs": [],
   "source": [
    "'''\n",
    "# filter(), map(), and reduce()\n",
    "'''"
   ]
  },
  {
   "cell_type": "code",
   "execution_count": null,
   "metadata": {
    "collapsed": true
   },
   "outputs": [],
   "source": [
    "# Get all odd numbers between 2 and 10\n",
    "a = range(2,10)\n",
    "print a\n",
    "\n",
    "def f(x): \n",
    "    return x % 2 != 0\n",
    "\n",
    "b = filter(f, a) \n",
    "'''\n",
    "filter command takes two inputs one is a function and other one is \n",
    "iterable filter returns a list of values that satisfies the condition, \n",
    "in this case it returns all the values between 2 and 9 that \n",
    "are NOT divisible by 2. \n",
    "'''\n",
    "print b"
   ]
  },
  {
   "cell_type": "code",
   "execution_count": null,
   "metadata": {
    "collapsed": true
   },
   "outputs": [],
   "source": [
    "# Get all odd numbers between 2 and 10 using LAMBDA FUNCTIONS\n",
    "a = range(2,10)\n",
    "b = filter(lambda x:x%2!=0, a) \n",
    "'''\n",
    "We replaced the function f with a lambda function \n",
    "(also known as anonymous function). The lambda function needs to \n",
    "be read as follows. The x to the left of the : is the argument to \n",
    "the function. The expression x%2!=0 to the right of : is the \n",
    "operation being performed inside the function and also the value \n",
    "being returned by the function.\n",
    "'''\n",
    "print b"
   ]
  },
  {
   "cell_type": "code",
   "execution_count": null,
   "metadata": {
    "collapsed": true
   },
   "outputs": [],
   "source": [
    "def squared(x): \n",
    "    return x*x\n",
    "\n",
    "print map(squared, range(1, 5)) \n",
    "'''\n",
    "map command takes a function and iterable(s). In this case one input is \n",
    "the function and other input is the values. Map returns a list which is the \n",
    "output of the function. In this case it returns the squares of the values \n",
    "from 1 to 4. Map takes a set of values and returns another set of values \n",
    "based on the function.\n",
    "'''"
   ]
  },
  {
   "cell_type": "code",
   "execution_count": null,
   "metadata": {
    "collapsed": true
   },
   "outputs": [],
   "source": [
    "'''\n",
    "LAMBDA function - anonymous functions\n",
    "lambda (input1, input2) : output\n",
    "An equivalent function is the squared function list above\n",
    "'''\n",
    "print map(lambda x:x*x, range(1, 5)) "
   ]
  },
  {
   "cell_type": "code",
   "execution_count": null,
   "metadata": {
    "collapsed": true
   },
   "outputs": [],
   "source": [
    "# You can also give a name to the lambda function\n",
    "lambdasq = lambda x:x*x\n",
    "print map(lambdasq, range(1, 5)) "
   ]
  },
  {
   "cell_type": "code",
   "execution_count": null,
   "metadata": {
    "collapsed": true
   },
   "outputs": [],
   "source": [
    "a = [1,2,3]\n",
    "b = [4,5,6]\n",
    "def add(a1, b1): \n",
    "    return a1+b1\n",
    "print map(add,a,b)\n",
    "# here map takes two lists and adds them"
   ]
  },
  {
   "cell_type": "code",
   "execution_count": null,
   "metadata": {
    "collapsed": true
   },
   "outputs": [],
   "source": [
    "# Reduce operation is used to shrink an iterable to a single value\n",
    "# Find the sum of all elements in a list\n",
    "a = [1,2,5]\n",
    "print reduce(lambda x,y: x+y, a)"
   ]
  },
  {
   "cell_type": "code",
   "execution_count": null,
   "metadata": {
    "collapsed": true
   },
   "outputs": [],
   "source": [
    "a = [1,2,5]\n",
    "print reduce(lambda x,y: x*y , a)"
   ]
  }
 ],
 "metadata": {
  "kernelspec": {
   "display_name": "Python 2",
   "language": "python",
   "name": "python2"
  },
  "language_info": {
   "codemirror_mode": {
    "name": "ipython",
    "version": 2
   },
   "file_extension": ".py",
   "mimetype": "text/x-python",
   "name": "python",
   "nbconvert_exporter": "python",
   "pygments_lexer": "ipython2",
   "version": "2.7.9"
  }
 },
 "nbformat": 4,
 "nbformat_minor": 0
}
