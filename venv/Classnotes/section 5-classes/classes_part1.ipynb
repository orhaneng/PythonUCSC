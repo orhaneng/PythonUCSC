{
 "cells": [
  {
   "cell_type": "markdown",
   "metadata": {},
   "source": [
    "### Content\n",
    "In this notebook we will dicuss:\n",
    "\n",
    "1) Object Oriented Programming - OOPS\n",
    "\n",
    "2) class variables\n",
    "\n",
    "3) instance methods and instance variables\n",
    "\n",
    "4) parent and derived classes by inheritance"
   ]
  },
  {
   "cell_type": "markdown",
   "metadata": {},
   "source": [
    "# Introduction\n",
    "\n",
    "To keep syntax simple, Python's classes implements functionality as needed to perform the task. It has all functionality that you find in object-oriented programming systems (OOPS) such as inheritance (from single and multiple base classes), method over-riding etc. \n",
    "\n",
    "Unlike C++, programmer does not have to explicitily destroy objects. They are removed dynamically by the Garbage Collector.\n",
    "\n",
    "All class members are public by default. Private variables are created by \n",
    "using __ such as __filename.  \n",
    "\n",
    "More reading material:\n",
    "    \n",
    "http://www.tutorialspoint.com/python/python_classes_objects.htm\n",
    "\n",
    "http://www.jeffknupp.com/blog/2014/06/18/improve-your-python-python\n",
    "-classes-and-object-oriented-programming/\n"
   ]
  },
  {
   "cell_type": "markdown",
   "metadata": {},
   "source": [
    "# Definition\n",
    "\n",
    "In this section, we will learn various terminologies such as Class, \n",
    "Class variable, Data member, function overloading, instance variable, \n",
    "inheritance, instance, method, object, operator overloading. \n",
    "Here is an explanation: \n",
    "\n",
    "Class: In object-oriented programming, a class is an extensible \n",
    "program-code-template for creating objects, providing initial values for \n",
    "state (member variables) and implementations of behavior \n",
    "(member functions or methods)  - Wikipedia\n",
    "\n",
    "The class is the definition of the functionality that is programmed. \n",
    "\n",
    "Instance: An individual object of a certain class. An object obj \n",
    "that belongs to a class Circle, for example, is an instance of the \n",
    "class Circle.\n",
    "\n",
    "Instantiation: The creation of an instance of a class.\n",
    "\n",
    "Object :  The programmer has to create an instance of the class known as\n",
    "object/instance in order to use the functionality. The member variables \n",
    "specific to the object/instance are called instance variables. \n",
    "The member variables that are accessible across various instances of \n",
    "a class are called class variables. \n",
    "\n",
    "Instance variable: A variable that is defined inside a method and \n",
    "belongs only to the current instance of a class.\n",
    "\n",
    "Class variable: A variable that is shared by all instances of a class. \n",
    "Class variables are defined within a class but outside any of the \n",
    "class methods. Class variables are not used as frequently as \n",
    "instance variables are.\n",
    "\n",
    "Inheritance: The transfer of characteristics of a class to other \n",
    "classes that are derived from it.\n",
    "\n",
    "Operator overloading: The assignment of more than one function to a \n",
    "particular operator.\n"
   ]
  },
  {
   "cell_type": "markdown",
   "metadata": {},
   "source": [
    "Syntax for class\n",
    "\n",
    "\n",
    "class class_name(object):\n",
    "\n",
    "    '''Documentation for the class should be put here'''\n",
    "    \n",
    "    define all the methods and instance variables\n",
    "    \n",
    "A function inside a class is called a method.\n",
    "A class can have many methods and many instance/class variables \n",
    "or attributes."
   ]
  },
  {
   "cell_type": "code",
   "execution_count": null,
   "metadata": {},
   "outputs": [],
   "source": [
    "'''\n",
    "Variables such as name and balance are usable by more than one methods. \n",
    "Their values are also specific to that instance.\n",
    "Hence they need to be instance variable.\n",
    "'''\n",
    "class Customer():\n",
    "    \n",
    "    '''The attributes for this class are name and balance '''\n",
    "    \n",
    "    def __init__(self,name):\n",
    "        self.name = name\n",
    "        self.balance = 0.0\n",
    "        \n",
    "    # you must explicitly list self as the first argument for each method\n",
    "    # including __init__ method\n",
    "        \n",
    "    # withdraw is a method    \n",
    "    def withdraw(self, amount):\n",
    "        self.balance -=amount\n",
    "        return self.balance\n",
    "    \n",
    "    # deposit is a method\n",
    "    def deposit(self, amount):\n",
    "        self.balance +=amount\n",
    "        return self.balance\n",
    "        \n",
    "# creating an instance of the class named Customer  \n",
    "b = Customer(\"Leo\")  \n",
    "print(b.deposit(2000)) # calling deposit method and passing a value\n",
    "print(b.withdraw(500)) # calling withdraw method and passing a value\n",
    "print(\"Customer name %s and balance %0.2f \"%(b.name, b.balance))"
   ]
  },
  {
   "cell_type": "markdown",
   "metadata": {},
   "source": [
    "```__init__``` method is called immediately after an instance of the \n",
    "class is created."
   ]
  },
  {
   "cell_type": "markdown",
   "metadata": {},
   "source": [
    "Method overloading: The assignment of more than one behavior \n",
    "to a particular method. The operation performed varies by the types \n",
    "of objects or arguments involved."
   ]
  },
  {
   "cell_type": "code",
   "execution_count": null,
   "metadata": {},
   "outputs": [],
   "source": [
    "# A class with multiple initalizers\n",
    "class Customer():\n",
    "    def __init__(self,name, balance=None):\n",
    "        self.name = name\n",
    "        if balance is None:\n",
    "            balance = 0.0\n",
    "            \n",
    "        self.balance = balance \n",
    "    \n",
    "    def withdraw(self, amount):\n",
    "        self.balance -=amount\n",
    "        return self.balance\n",
    "    \n",
    "    def deposit(self, amount):\n",
    "        self.balance +=amount\n",
    "        return self.balance\n",
    "        \n",
    "\n",
    "# creating an instance of the class named Customer. The instance is called b.\n",
    "b = Customer(\"Leo\",10000) \n",
    "print(b)\n",
    "b.withdraw(500) # calling withdraw method and passing a value\n",
    "b.deposit(2000) # calling deposit method and passing a value\n",
    "print(\"Customer name %s and balance %0.2f \"%(b.name, b.balance))\n",
    "\n",
    "# Try calling \n",
    "b = Customer(\"Euler\")\n",
    "print(\"Customer name %s and balance %0.2f \"%(b.name, b.balance))"
   ]
  },
  {
   "cell_type": "code",
   "execution_count": null,
   "metadata": {},
   "outputs": [],
   "source": [
    "# creating another object for class Customer\n",
    "c = Customer(\"John\")\n",
    "c.withdraw(325)\n",
    "c.deposit(675)\n",
    "print(\"Customer name %s and balance %0.2f \"%(c.name, c.balance))"
   ]
  },
  {
   "cell_type": "markdown",
   "metadata": {},
   "source": [
    "Private Instance Variables are created by using __ (double underscore) \n",
    "before the instance variable will make the variable private for the class.\n",
    "\n",
    "In Python there are no true private or protected variables or methods. \n",
    "Private instance variables and methods are used mostly for internal \n",
    "purposes or to avoid namespace clashes.  "
   ]
  },
  {
   "cell_type": "code",
   "execution_count": null,
   "metadata": {},
   "outputs": [],
   "source": [
    "# An example of class with private variable\n",
    "class Customer():    \n",
    "    def __init__(self,name):\n",
    "        self.name = name\n",
    "        self.__balance = 0.0 \n",
    "        \n",
    "    def withdraw(self, amount):\n",
    "        self.__balance -=amount\n",
    "        return self.__balance\n",
    "    \n",
    "    def deposit(self, amount):\n",
    "        self.__balance +=amount\n",
    "        return self.__balance\n",
    "        \n",
    "    def get_balance(self):\n",
    "        return self.__balance\n",
    "    \n",
    "b = Customer(\"Leo\")  \n",
    "b.deposit(2000)\n",
    "b.withdraw(500)\n",
    "print(b.get_balance())\n",
    "#print(b.__balance) # this will fail as __balance is a private variable "
   ]
  },
  {
   "cell_type": "code",
   "execution_count": null,
   "metadata": {},
   "outputs": [],
   "source": [
    "'''\n",
    "In-class activity - To the Customer class, add a method called promotion. \n",
    "Ask the user if they want to know about promotional \n",
    "offers. Depending on their choice, show them the offer or say thank you.\n",
    "'''"
   ]
  },
  {
   "cell_type": "markdown",
   "metadata": {
    "collapsed": true
   },
   "source": [
    "Important things to remember when you are defining a class:\n",
    "    \n",
    "1) class class_name(object):\n",
    "\n",
    "2) it is ideal to have an \\__init\\__ method with attributes.\n",
    "\n",
    "3) self should be the first attribute in all the methods, \n",
    "   including \\__init\\__\n",
    "   \n",
    "4) in the \\__init\\__ method assign the instance attributes to \n",
    "   self.attribute_name. Use self.attribute_name for all subsequent \n",
    "   operations."
   ]
  },
  {
   "cell_type": "markdown",
   "metadata": {},
   "source": [
    "Private Methods - are created by using double underscore before the method  name when the method is defined. "
   ]
  },
  {
   "cell_type": "code",
   "execution_count": null,
   "metadata": {},
   "outputs": [],
   "source": [
    "class Class1:\n",
    "    def outside(self):\n",
    "        print(\"This is a public method\")\n",
    "        \n",
    "    # __inside is a private method\n",
    "    def __inside(self):\n",
    "        print(\"This is a private method\")\n",
    "        \n",
    "p = Class1()\n",
    "p.outside() # this will work\n",
    "#p.__inside() # this will not work as we are calling a private method"
   ]
  },
  {
   "cell_type": "markdown",
   "metadata": {},
   "source": [
    "The dir method gives a list of all the methods in a class including \n",
    "private methods (albeit with a weird naming convention)."
   ]
  },
  {
   "cell_type": "code",
   "execution_count": null,
   "metadata": {},
   "outputs": [],
   "source": [
    "print(dir(Class1))"
   ]
  },
  {
   "cell_type": "markdown",
   "metadata": {},
   "source": [
    "Roundabout way of accessing private methods.\n",
    "\n",
    "The following construct will allow us to call a private method\n",
    "\n",
    "instance._classname_privatemethod()"
   ]
  },
  {
   "cell_type": "code",
   "execution_count": null,
   "metadata": {},
   "outputs": [],
   "source": [
    "p._Class1__inside()"
   ]
  },
  {
   "cell_type": "code",
   "execution_count": null,
   "metadata": {},
   "outputs": [],
   "source": [
    "# We can use instance variables inside the private method just as you would for public methods\n",
    "\n",
    "class Class1(object):\n",
    "    def outside(self):\n",
    "        print(\"This is a public method\")\n",
    "        self.somevar = 10\n",
    "        \n",
    "    def __inside(self):\n",
    "        self.somevar = 20\n",
    "        print(\"This is a private method\")\n",
    "        \n",
    "p = Class1()\n",
    "p.outside() \n",
    "print(p.somevar)"
   ]
  },
  {
   "cell_type": "markdown",
   "metadata": {},
   "source": [
    "If we cannot call the private method, how do we use it?\n",
    "\n",
    "Private methods have to be called in a public method inside a class \n",
    "definition. Below we are calling __private method \n",
    "inside public method"
   ]
  },
  {
   "cell_type": "code",
   "execution_count": null,
   "metadata": {},
   "outputs": [],
   "source": [
    "class Class1(object):\n",
    "    def outside(self):\n",
    "        print(\"Inside public method\")\n",
    "        self.somevar = 10\n",
    "        print(\"somevar value before calling private method \",self.somevar)\n",
    "        self.__inside()\n",
    "        \n",
    "    # To create a private method, prefix __ (double underscore) to the \n",
    "    # method name\n",
    "    def __inside(self):\n",
    "        print(\"Inside private method\")\n",
    "        self.somevar = 20\n",
    "        \n",
    "p = Class1()\n",
    "p.outside() \n",
    "print(p.somevar)"
   ]
  },
  {
   "cell_type": "markdown",
   "metadata": {},
   "source": [
    "More about private methods and variables can be read at the following links:\n",
    "\n",
    "http://stackoverflow.com/questions/70528/why-are-pythons-private-\n",
    "methods-not-actually-private\n",
    "\n",
    "http://effbot.org/pyfaq/tutor-how-do-i-make-public-and-private-attributes-\n",
    "and-methods-in-my-classes.htm"
   ]
  },
  {
   "cell_type": "markdown",
   "metadata": {},
   "source": [
    "Class variable: A variable that is shared across all \n",
    "instances of a class. Class variables are defined within a class but \n",
    "outside any of the class methods. Class variables are not used as \n",
    "frequently as instance variables."
   ]
  },
  {
   "cell_type": "code",
   "execution_count": null,
   "metadata": {},
   "outputs": [],
   "source": [
    "class Employee():\n",
    "    empCount = 0 #Class variable. No self. prefix\n",
    "    className = 'Employee' #Class variable. No self. prefix\n",
    "    def __init__(self, name, salary):\n",
    "        self.name = name\n",
    "        self.salary = salary\n",
    "        Employee.empCount +=1\n",
    "        \n",
    "    def displayCount(self):\n",
    "        print(\"Total Employee %d\" %Employee.empCount)\n",
    "    \n",
    "    def displayEmployee(self):\n",
    "        print(\"Name:   \", self.name,  \", Salary:   \", self.salary)\n",
    "        \n",
    "emp1 = Employee(\"Tara\", 20000)\n",
    "emp2 = Employee(\"Zeera\", 7000)\n",
    "emp3 = Employee(\"Cara\", 5000)\n",
    "emp4 = Employee(\"John\",4000)\n",
    "emp2.displayEmployee()\n",
    "emp2.displayCount()\n",
    "#print(\"Total Employee %d\" % Employee.empCount)\n",
    "\n",
    "if(emp2.className == 'Employee'):\n",
    "    print(\"I have a Employee class\")"
   ]
  },
  {
   "cell_type": "code",
   "execution_count": null,
   "metadata": {},
   "outputs": [],
   "source": [
    "# Example of documentation in a class\n",
    "class SaveWater:\n",
    "    ''' This is a documentation of SaveWater'''    \n",
    "    def __init__(self,statename):\n",
    "        self.statename = statename\n",
    "        if self.statename.lower() == \"california\":\n",
    "            print(\"Use less water!\")\n",
    "        else:\n",
    "            print(\"Still use less water!\")\n",
    "        \n",
    "statename = input(\"Please enter name of your state \")\n",
    "s = SaveWater(statename)"
   ]
  },
  {
   "cell_type": "code",
   "execution_count": null,
   "metadata": {},
   "outputs": [],
   "source": [
    "print(s.__doc__)"
   ]
  },
  {
   "cell_type": "markdown",
   "metadata": {},
   "source": [
    "Built-in class attributes:\n",
    "\n",
    "```__dict__``` : Dictionary containing the class's namespace.\n",
    "\n",
    "```__doc__``` : Class documentation string or None if undefined.\n",
    "\n",
    "```__name__```: Class name.\n",
    "\n",
    "```__module__```: Module name in which the class is defined. This attribute is \n",
    "```__main__``` in interactive mode.\n",
    "\n",
    "```__bases__``` : A possibly empty tuple containing the base classes, in the \n",
    "order of their occurrence in the base class list."
   ]
  },
  {
   "cell_type": "code",
   "execution_count": null,
   "metadata": {},
   "outputs": [],
   "source": [
    "class Class1:  \n",
    "    def __init__(self,name):\n",
    "        self.name = name\n",
    "    def listname(self):\n",
    "        return self.name\n",
    "    def setname(self,name):\n",
    "        self.name = name\n",
    "\n",
    "obj1 = Class1('Rob')\n",
    "print(obj1.listname())\n",
    "print(obj1, type(obj1))\n",
    "\n",
    "print(obj1.__dict__)\n",
    "print(Class1.__doc__)\n",
    "print(Class1.__module__)\n",
    "print(Class1.__bases__)"
   ]
  },
  {
   "cell_type": "markdown",
   "metadata": {},
   "source": [
    "hasattr() can be used to check if an instance has a specific attribute. This returns True or False\n",
    "\n",
    "Syntax for hasattr:\n",
    "\n",
    "hasattr(instance_name, attribute_name)"
   ]
  },
  {
   "cell_type": "code",
   "execution_count": null,
   "metadata": {},
   "outputs": [],
   "source": [
    "print(hasattr(obj1, 'name'))  # Returns true if 'name' attribute exists"
   ]
  },
  {
   "cell_type": "markdown",
   "metadata": {},
   "source": [
    "getattr() is used to obtain value of a specific attribute for an instance.\n",
    "\n",
    "Syntax for getattr\n",
    "\n",
    "getattr(instance_name, attribute_name)"
   ]
  },
  {
   "cell_type": "code",
   "execution_count": null,
   "metadata": {},
   "outputs": [],
   "source": [
    "print(getattr(obj1, 'name'))    # Returns value of 'name' for obj1"
   ]
  },
  {
   "cell_type": "markdown",
   "metadata": {},
   "source": [
    "The following command can also be used to obtain the value of an attribute\n",
    "in an instance\n",
    "\n",
    "instance_name.attribute_name"
   ]
  },
  {
   "cell_type": "code",
   "execution_count": null,
   "metadata": {},
   "outputs": [],
   "source": [
    "# this is same as getattr(obj1, name)\n",
    "print(obj1.name)"
   ]
  },
  {
   "cell_type": "markdown",
   "metadata": {},
   "source": [
    "Below, we are resetting an attribute value without using any special \n",
    "functions."
   ]
  },
  {
   "cell_type": "code",
   "execution_count": null,
   "metadata": {},
   "outputs": [],
   "source": [
    "obj1.name = 'Robbie'\n",
    "print(obj1.name)"
   ]
  },
  {
   "cell_type": "markdown",
   "metadata": {},
   "source": [
    "setattr() can be used to reset an attribute value\n",
    "\n",
    "Syntax for setattr:\n",
    "\n",
    "setattr(instance_name, attribute_name, new_value)"
   ]
  },
  {
   "cell_type": "code",
   "execution_count": null,
   "metadata": {},
   "outputs": [],
   "source": [
    "setattr(obj1, 'name', 'Robbie') # Set attribute 'name' to Robbie"
   ]
  },
  {
   "cell_type": "markdown",
   "metadata": {
    "collapsed": true
   },
   "source": [
    "Deleting objects\n",
    "\n",
    "Deletion happens via Garbage collection.  One can also delete objects \n",
    "and its variables using``` __del__``` method.\n",
    "\n",
    "\n",
    "There are two ways to delete an object.  You do not have to use either,\n",
    "instead you let Python do garbage collection."
   ]
  },
  {
   "cell_type": "code",
   "execution_count": null,
   "metadata": {},
   "outputs": [],
   "source": [
    "class Class1(object):  \n",
    "    def __init__(self,name):\n",
    "        self.name = name\n",
    "    def listname(self):\n",
    "        return self.name\n",
    "    # the following method is executed during object deletion \n",
    "    def __del__(self):\n",
    "        print(self.name,\"destroyed\")\n",
    "obj1 = Class1('Darth Vader')\n",
    "\n",
    "# first method\n",
    "del obj1\n",
    "#obj1.name\n",
    "# second method\n",
    "obj1 =  None\n",
    "print(obj1)"
   ]
  },
  {
   "cell_type": "code",
   "execution_count": null,
   "metadata": {},
   "outputs": [],
   "source": [
    "class Class1(object):  \n",
    "    def __init__(self,name):\n",
    "        self.name = name # this is a instance variable\n",
    "    def listname(self):\n",
    "        return self.name\n",
    "    def __del__(self):\n",
    "        print(self.name,\"destroyed\")\n",
    "    # in the following method, a string is returned whenever the print \n",
    "    # is called with the object as input\n",
    "    def __str__(self):\n",
    "        return \"The name is %s \" %self.name\n",
    "    \n",
    "obj1 = Class1('Darth Vader')\n",
    "# This will call __str__ method, thus enabling a pretty printing of object\n",
    "print(obj1) \n",
    "del obj1"
   ]
  },
  {
   "cell_type": "markdown",
   "metadata": {
    "collapsed": true
   },
   "source": [
    "Note: ```__del__``` and ```__str__``` are magic methods."
   ]
  },
  {
   "cell_type": "markdown",
   "metadata": {},
   "source": [
    "Class Inheritance - The transfer of the characteristics of a class to \n",
    "other classes that are derived from it."
   ]
  },
  {
   "cell_type": "code",
   "execution_count": null,
   "metadata": {},
   "outputs": [],
   "source": [
    "# An example of an inherited class\n",
    "class Animal():\n",
    "    def say_something(self):\n",
    "        return \"I'm an animal!\"\n",
    "    \n",
    "'''\n",
    "Here Cat and Dog are child classes that are inheriting from Animal. \n",
    "The child class, say_something method overrides the behavior \n",
    "of the say_something of the parent class. This is called method overriding. \n",
    "'''\n",
    "\n",
    "class Cat(Animal):\n",
    "    def say_something(self):\n",
    "        return \"Meow\"\n",
    "    \n",
    "class Dog(Animal):\n",
    "    def say_something(self):\n",
    "        return \"Bow-wow\"\n",
    "    \n",
    "a = Animal()\n",
    "print(a.say_something())\n",
    "d = Dog()\n",
    "print(d.say_something())\n",
    "c = Cat()\n",
    "print(c.say_something())"
   ]
  },
  {
   "cell_type": "markdown",
   "metadata": {},
   "source": [
    "Sometimes you will have to call both the child class method and also the\n",
    "parent class (also called super class) method. You can do so by using \n",
    "super method."
   ]
  },
  {
   "cell_type": "code",
   "execution_count": null,
   "metadata": {},
   "outputs": [],
   "source": [
    "class Animal(): \n",
    "    def say_something(self):\n",
    "        return \"I'm an animal!\"\n",
    "    \n",
    "#child class or derived class\n",
    "class Cat(Animal):\n",
    "    def say_something(self):\n",
    "        # super().methodname()\n",
    "        # here methodname() should be the method that \n",
    "        # you want to call from the parent class\n",
    "        s = super().say_something()\n",
    "        return \"%s - %s\" %(s, \"Meow\")\n",
    "    \n",
    "class Dog(Animal):\n",
    "    def say_something(self):\n",
    "        s = super().say_something()\n",
    "        return \"%s - %s\" %(s, \"Bow-wow\")\n",
    "c = Cat()\n",
    "print(c.say_something())\n",
    "d = Dog()\n",
    "print(d.say_something())"
   ]
  },
  {
   "cell_type": "code",
   "execution_count": null,
   "metadata": {},
   "outputs": [],
   "source": [
    "print(Dog.__bases__) # Prints the list of base classes"
   ]
  },
  {
   "cell_type": "code",
   "execution_count": null,
   "metadata": {},
   "outputs": [],
   "source": [
    "# The name attribute in this class is a class variable.  \n",
    "# We will use this as a super class for the next cell.\n",
    "class Animal(object):\n",
    "    name = 'Animal'\n",
    "    def eat(self):\n",
    "        print(\"Animal eating\")\n",
    "    def drink(self):\n",
    "        print(\"Animal drinking\")\n",
    "a = Animal()        \n",
    "b = Animal()\n",
    "print(a.name, b.name)"
   ]
  },
  {
   "cell_type": "code",
   "execution_count": null,
   "metadata": {},
   "outputs": [],
   "source": [
    "# When there are two methods with the same name in a class then \n",
    "# only the last method definition is used.\n",
    "class Animal(object):\n",
    "    name = 'Animal'\n",
    "    def eat(self):\n",
    "        print(\"Animal eating\")\n",
    "      \n",
    "    def drink(self,name):\n",
    "        print(\"Animal %s drinking\" %(name))\n",
    "        \n",
    "    def drink(self, name = 'Dog'):\n",
    "        print(\"Latest method - Animal %s drinking: \" %(name))\n",
    "\n",
    "        \n",
    "a = Animal()        \n",
    "a.drink()\n",
    "b = Animal()\n",
    "b.drink('Cow')"
   ]
  },
  {
   "cell_type": "code",
   "execution_count": null,
   "metadata": {},
   "outputs": [],
   "source": [
    "# Method overriding between child and parent class.\n",
    "class Animal(object):\n",
    "    name = 'Animal' # class variable\n",
    "    def eat(self):\n",
    "        print(\"Animal eating\")\n",
    "    def drink(self):\n",
    "        print(\"Animal drinking\")\n",
    "        \n",
    "class Dog(Animal):\n",
    "    name = 'Dog' # class variable\n",
    "    def eat(self): \n",
    "        print(\"Dog eating\")\n",
    "        \n",
    "d = Dog()\n",
    "d.eat()\n",
    "print(d.name)\n",
    "d.drink()"
   ]
  },
  {
   "cell_type": "code",
   "execution_count": null,
   "metadata": {},
   "outputs": [],
   "source": [
    "# Method overriding\n",
    "class Animal(object):\n",
    "    name = 'Animal' # class variable\n",
    "    def eat(self):\n",
    "        print(\"Animal eating\")\n",
    "    def drink(self):\n",
    "        print(\"Animal drinking\")\n",
    "        \n",
    "class Dog(Animal):\n",
    "    name = 'Dog' # class variable\n",
    "    def eat(self): \n",
    "        print(\"Dog eating\")\n",
    "    def drink1(self):\n",
    "        print(\"Dog drinking\")\n",
    "    \n",
    "        \n",
    "d = Dog()\n",
    "d.eat()\n",
    "print(d.name)\n",
    "d.drink()\n",
    "d.drink1()"
   ]
  },
  {
   "cell_type": "code",
   "execution_count": null,
   "metadata": {},
   "outputs": [],
   "source": [
    "# multiple inheritance.  A child can have multiple parents.\n",
    "class Organism(object):\n",
    "    name = 'Organism'\n",
    "    def eat(self):\n",
    "        print('Organism eating')\n",
    "    def drink(self):\n",
    "        print('Organism drinking')\n",
    "        \n",
    "class Animal(object):\n",
    "    name = 'Animal'\n",
    "    def eat(self):        \n",
    "        print(\"Animal eating\")\n",
    "           \n",
    "class Dog(Organism,Animal):\n",
    "    #name = 'Dog'\n",
    "    def eat(self):\n",
    "        print(\"Dog eating\")\n",
    "        \n",
    "d = Dog()\n",
    "d.eat()\n",
    "print(d.name)\n",
    "d.drink()"
   ]
  },
  {
   "cell_type": "code",
   "execution_count": null,
   "metadata": {},
   "outputs": [],
   "source": [
    "# multiple inheritance\n",
    "'''\n",
    "When two parents have same method(s) then the method in the left most \n",
    "parent of the child class will be executed.\n",
    "'''\n",
    "\n",
    "class Organism(object):\n",
    "    name = 'Organism'\n",
    "    def eat(self):\n",
    "        print('Organism eating')\n",
    "    def drink(self):\n",
    "        print('Organism drinking')\n",
    "        \n",
    "class Animal(object):\n",
    "    name = 'Animal'\n",
    "    def eat(self):        \n",
    "        print(\"Animal eating\")\n",
    "    def drink(self):\n",
    "        print('Animal drinking')\n",
    " \n",
    "\n",
    "class Dog(Animal,Organism):\n",
    "    name = 'Dog'\n",
    "    def eat(self):\n",
    "        print(\"Dog eating\")\n",
    "        \n",
    "d = Dog()\n",
    "d.eat()\n",
    "print(d.name)\n",
    "d.drink()"
   ]
  },
  {
   "cell_type": "markdown",
   "metadata": {},
   "source": [
    "Diamond problem - \n",
    "\n",
    "Multi level Mutiple inheritance \n",
    "\n",
    "http://stackoverflow.com/questions/3277367/how-does-pythons-super-work-with\n",
    "-multiple-inheritance\n",
    "\n",
    "http://en.wikipedia.org/wiki/Multiple_inheritance#The_diamond_problem\n",
    "   "
   ]
  },
  {
   "cell_type": "code",
   "execution_count": null,
   "metadata": {},
   "outputs": [],
   "source": [
    "class LivingBeing(object):\n",
    "    name = 'Living Being'\n",
    "    def drink(self):\n",
    "        print(\"Living being drinking\")\n",
    "    def eat(self):\n",
    "        print(\"Living being eating\")\n",
    "\n",
    "class Organism(LivingBeing):\n",
    "    name = 'Organism'\n",
    "    #def eat(self):\n",
    "    #    print(\"Organism eating\")\n",
    "        \n",
    "class Animal(LivingBeing):\n",
    "    name = 'Animal'\n",
    "    def eat(self):        \n",
    "        print(\"Animal eating\")\n",
    "    def drink(self):\n",
    "        print('Animal drinking')\n",
    "        \n",
    "class Dog(Organism, Animal):\n",
    "    name = 'Dog'\n",
    "    def eat(self):\n",
    "        # Only the first super class eat function is called\n",
    "        super().eat()\n",
    "        print(\"Dog eating\")\n",
    "d = Dog()\n",
    "d.eat()"
   ]
  },
  {
   "cell_type": "code",
   "execution_count": null,
   "metadata": {},
   "outputs": [],
   "source": [
    "'''\n",
    "In-class activity: \n",
    "\n",
    "Create a class that takes name and age as input. If the person's age is \n",
    "greater than 18 then you should print that they are eligible to create \n",
    "a login otherwise you print that they can't create a login. Implement \n",
    "a method called compage to compare age with 18. Implement another \n",
    "method called printpermission to print the output of comparison. \n",
    "'''"
   ]
  },
  {
   "cell_type": "code",
   "execution_count": null,
   "metadata": {},
   "outputs": [],
   "source": []
  }
 ],
 "metadata": {
  "kernelspec": {
   "display_name": "Python 3",
   "language": "python",
   "name": "python3"
  },
  "language_info": {
   "codemirror_mode": {
    "name": "ipython",
    "version": 3
   },
   "file_extension": ".py",
   "mimetype": "text/x-python",
   "name": "python",
   "nbconvert_exporter": "python",
   "pygments_lexer": "ipython3",
   "version": "3.5.2"
  },
  "widgets": {
   "state": {},
   "version": "1.1.2"
  }
 },
 "nbformat": 4,
 "nbformat_minor": 1
}
