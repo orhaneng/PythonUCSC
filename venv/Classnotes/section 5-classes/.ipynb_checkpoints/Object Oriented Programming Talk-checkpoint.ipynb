{
 "cells": [
  {
   "cell_type": "markdown",
   "metadata": {
    "collapsed": false
   },
   "source": [
    "# In this talk we will discuss:\n",
    "\n",
    "1) Object Oriented Programming\n",
    "\n",
    "2) Uses of classes and how to define them\n",
    "\n",
    "3) instance methods and instance variables\n",
    "\n",
    "4) Class variables \n",
    "\n",
    "5) Inheritance"
   ]
  },
  {
   "cell_type": "markdown",
   "metadata": {},
   "source": [
    "## What are the uses of classes?\n",
    "\n",
    "Classes are used for: \n",
    "\n",
    "1) Encapsulating data and methods\n",
    "\n",
    "2) Reusability of code with little or no change\n",
    "\n",
    "3) Inheritance to extend the data and functionality of a class into another class or override"
   ]
  },
  {
   "cell_type": "markdown",
   "metadata": {
    "collapsed": false
   },
   "source": [
    "## Introduction\n",
    "To keep syntax simple, Python's classes implements functionality as \n",
    "needed to perform the task. It has all the functionality that you find in \n",
    "object-oriented programming systems (OOPS) such as inheritance \n",
    "(from single and multiple base classes), method over-riding etc. \n",
    "Unlike C++, programmer does not have to explicitily destroy objects.  \n",
    "They are removed dynamically by the Garbage Collector.\n",
    "\n",
    "All class members are public by default. Private variables are created by \n",
    "using \\__ such as \\__variable name.  \n",
    "\n",
    "More reading material:\n",
    "    \n",
    "http://www.tutorialspoint.com/python/python_classes_objects.htm\n",
    "\n",
    "http://www.jeffknupp.com/blog/2014/06/18/improve-your-python-python-classes-and-object-oriented-programming/"
   ]
  },
  {
   "cell_type": "markdown",
   "metadata": {},
   "source": [
    "## Definitions and Terminology\n",
    "\n",
    "In this section, we will learn various definitions such as Class, Class variable, instance variable, inheritance, instance method, object, operator overloading. \n",
    "\n",
    "Here are the definitions:\n",
    "\n",
    "Class: In object-oriented programming, a class is an extensible \n",
    "program-code-template for creating objects, providing initial values for \n",
    "state (member variables) and implementations of behavior \n",
    "(member functions or methods)  - Wikipedia\n",
    "\n",
    "The class is the definition of the functionality that is programmed. \n",
    "\n",
    "Class variable: A variable that is shared by all instances of a class. \n",
    "Class variables are defined within a class but outside any of the \n",
    "class methods. Class variables are not used as frequently. \n",
    "\n",
    "Instance variable: A variable that is defined inside a method and \n",
    "belongs only to the current instance of a class.\n",
    "\n",
    "Inheritance: The transfer of characteristics of a class to other \n",
    "classes that are derived from it.\n",
    "\n",
    "Instance: An individual object of a certain class. An object obj \n",
    "that belongs to a class Circle, for example, is an instance of the \n",
    "class Circle.\n",
    "\n",
    "Instantiation: The creation of an instance of a class.\n",
    "\n",
    "Object : The programmer has to create an instance of the class known as\n",
    "object/instance in order to use the functionality. The member variables \n",
    "specific to the object/instance are called instance variables. \n",
    "The member variables that are accessible across various instances of \n",
    "a class are called class variables. \n",
    "\n",
    "Operator overloading: The assignment of more than one function to a \n",
    "particular operator. "
   ]
  },
  {
   "cell_type": "markdown",
   "metadata": {
    "collapsed": false
   },
   "source": [
    "Syntax for class\n",
    "\n",
    "\n",
    "class class_name(object):\n",
    "\n",
    "    '''Documentation for the class should be put here'''\n",
    "    \n",
    "    define all the methods and instance variables\n",
    "    \n",
    "A function inside a class is called a method.\n",
    "A class can have many methods and many instance/class variables \n",
    "or attributes."
   ]
  },
  {
   "cell_type": "markdown",
   "metadata": {
    "collapsed": false
   },
   "source": [
    "## Initializer \n",
    "\n",
    "\\__init\\__ method is called immediately after an instance of the \n",
    "class is created."
   ]
  },
  {
   "cell_type": "code",
   "execution_count": 1,
   "metadata": {
    "collapsed": false
   },
   "outputs": [
    {
     "name": "stdout",
     "output_type": "stream",
     "text": [
      "2000.0\n",
      "1500.0\n",
      "Customer name Leo and balance 1500.00 \n"
     ]
    }
   ],
   "source": [
    "'''\n",
    "Variables such as name and balance are usable by more than one methods. \n",
    "Their values are also specific to that instance.\n",
    "Hence they need to be instance variable.\n",
    "'''\n",
    "class Customer(object):\n",
    "    \n",
    "    '''The attributes for this class are name and balance '''\n",
    "    \n",
    "    def __init__(self, name):\n",
    "        self.name = name\n",
    "        self.balance = 0.0\n",
    "        \n",
    "    # you must explicitly list self as the first argument for each method\n",
    "    # including __init__ method\n",
    "        \n",
    "    # withdraw is a method    \n",
    "    def withdraw(self, amount):\n",
    "        self.balance -=amount\n",
    "        return self.balance\n",
    "    \n",
    "    # deposit is a method\n",
    "    def deposit(self, amount):\n",
    "        self.balance +=amount\n",
    "        return self.balance\n",
    "        \n",
    "# creating an instance of the class named Customer  \n",
    "b = Customer(\"Leo\")  \n",
    "print(b.deposit(2000)) # calling deposit method and passing a value\n",
    "print(b.withdraw(500)) # calling withdraw method and passing a value\n",
    "print(\"Customer name %s and balance %0.2f \"%(b.name, b.balance))"
   ]
  },
  {
   "cell_type": "markdown",
   "metadata": {
    "collapsed": false
   },
   "source": [
    "## Method overloading\n",
    "\n",
    "The assignment of more than one behavior to a particular method. The operation performed varies by the types \n",
    "of objects or arguments involved."
   ]
  },
  {
   "cell_type": "code",
   "execution_count": 3,
   "metadata": {
    "collapsed": false
   },
   "outputs": [
    {
     "name": "stdout",
     "output_type": "stream",
     "text": [
      "<__main__.Customer object at 0x0000025AE56FD898>\n",
      "Customer name Leo and balance 11500.00 \n",
      "Customer name Euler and balance 0.00 \n"
     ]
    }
   ],
   "source": [
    "# A class with multiple initalizers\n",
    "class Customer(object):\n",
    "    def __init__(self,name, balance=None):\n",
    "        self.name = name\n",
    "        if balance is None:\n",
    "            balance = 0.0\n",
    "            \n",
    "        self.balance = balance \n",
    "    \n",
    "    def withdraw(self, amount):\n",
    "        self.balance -=amount\n",
    "        return self.balance\n",
    "    \n",
    "    def deposit(self, amount):\n",
    "        self.balance +=amount\n",
    "        return self.balance\n",
    "        \n",
    "# creating an instance of the class named Customer. The instance is called b \n",
    "b = Customer(\"Leo\",10000) \n",
    "print(b)\n",
    "b.withdraw(500) # calling withdraw method and passing a value\n",
    "b.deposit(2000) # calling deposit method and passing a value\n",
    "print(\"Customer name %s and balance %0.2f \"%(b.name, b.balance))\n",
    "\n",
    "# Try calling \n",
    "b = Customer(\"Euler\")\n",
    "print(\"Customer name %s and balance %0.2f \"%(b.name, b.balance))"
   ]
  },
  {
   "cell_type": "code",
   "execution_count": 4,
   "metadata": {
    "collapsed": false
   },
   "outputs": [
    {
     "name": "stdout",
     "output_type": "stream",
     "text": [
      "Customer name John and balance 350.00 \n"
     ]
    }
   ],
   "source": [
    "# creating another object for class Customer\n",
    "c = Customer(\"John\")\n",
    "c.withdraw(325)\n",
    "c.deposit(675)\n",
    "print(\"Customer name %s and balance %0.2f \"%(c.name, c.balance))"
   ]
  },
  {
   "cell_type": "markdown",
   "metadata": {},
   "source": [
    "## Private Instance Variables\n",
    "\n",
    "In Python there are no true private or protected variables or methods. \n",
    "Private instance variables and methods are used mostly for internal \n",
    "purposes or to avoid namespace clashes.  \n",
    "\n",
    "Private Instance Variables are created by using __ (double underscore) \n",
    "before the instance variable will make the variable private for the class."
   ]
  },
  {
   "cell_type": "code",
   "execution_count": 5,
   "metadata": {
    "collapsed": false
   },
   "outputs": [
    {
     "name": "stdout",
     "output_type": "stream",
     "text": [
      "1500.0\n"
     ]
    }
   ],
   "source": [
    "# An example of class with a private variable\n",
    "class Customer(object):    \n",
    "    def __init__(self,name):\n",
    "        self.name = name\n",
    "        self.__balance = 0.0 \n",
    "        \n",
    "    def withdraw(self, amount):\n",
    "        self.__balance -=amount\n",
    "        return self.__balance\n",
    "    \n",
    "    def deposit(self, amount):\n",
    "        self.__balance +=amount\n",
    "        return self.__balance\n",
    "        \n",
    "    def get_balance(self):\n",
    "        return self.__balance\n",
    "    \n",
    "b = Customer(\"Leo\")  \n",
    "b.deposit(2000)\n",
    "b.withdraw(500)\n",
    "print(b.get_balance())\n",
    "#print(b.__balance) # this will fail as __balance is a private variable "
   ]
  },
  {
   "cell_type": "markdown",
   "metadata": {
    "collapsed": true
   },
   "source": [
    "## Important things to remember when you are defining a class:\n",
    "    \n",
    "1) class class_name(object):\n",
    "\n",
    "2) it is ideal to have an \\__init\\__ method with attributes.\n",
    "\n",
    "3) self should be the first attribute in all the methods, \n",
    "   including \\__init\\__\n",
    "   \n",
    "4) in the \\__init\\__ method assign the instance attributes to \n",
    "   self.attribute_name. Use self.attribute_name for all subsequent \n",
    "   operations."
   ]
  },
  {
   "cell_type": "markdown",
   "metadata": {
    "collapsed": false
   },
   "source": [
    "## Private Methods \n",
    "\n",
    "Are created by using double underscore before the method  name when the method is defined. "
   ]
  },
  {
   "cell_type": "code",
   "execution_count": 9,
   "metadata": {
    "collapsed": false
   },
   "outputs": [
    {
     "name": "stdout",
     "output_type": "stream",
     "text": [
      "This is a public method\n"
     ]
    }
   ],
   "source": [
    "class Class1:\n",
    "    def outside(self):\n",
    "        print(\"This is a public method\")\n",
    "        \n",
    "    # __inside is a private method\n",
    "    def __inside(self):\n",
    "        print(\"This is a private method\")\n",
    "        \n",
    "p = Class1()\n",
    "p.outside() # this will work\n",
    "#p.__inside() # this will not work as we are calling a private method"
   ]
  },
  {
   "cell_type": "markdown",
   "metadata": {},
   "source": [
    "## Roundabout way of accessing private methods\n",
    "\n",
    "The following construct will allow us to call a private method\n",
    "\n",
    "instance._classname_privatemethod()"
   ]
  },
  {
   "cell_type": "code",
   "execution_count": null,
   "metadata": {
    "collapsed": false
   },
   "outputs": [],
   "source": [
    "print(p._Class1__inside())"
   ]
  },
  {
   "cell_type": "code",
   "execution_count": 12,
   "metadata": {
    "collapsed": false
   },
   "outputs": [
    {
     "name": "stdout",
     "output_type": "stream",
     "text": [
      "This is a public method\n",
      "10\n"
     ]
    }
   ],
   "source": [
    "# We can use instance variables inside the private method just as you would for public methods\n",
    "\n",
    "class Class1(object):\n",
    "    def outside(self):\n",
    "        print(\"This is a public method\")\n",
    "        self.somevar = 10\n",
    "        \n",
    "    def __inside(self):\n",
    "        self.somevar = 20\n",
    "        print(\"This is a private method\")\n",
    "        \n",
    "p = Class1()\n",
    "p.outside() \n",
    "print(p.somevar)"
   ]
  },
  {
   "cell_type": "markdown",
   "metadata": {},
   "source": [
    "## If we cannot call the private method, how do we use it?\n",
    "\n",
    "Private methods have to be called in a public method inside a class \n",
    "definition. Below we are calling __private method \n",
    "inside public method"
   ]
  },
  {
   "cell_type": "code",
   "execution_count": 14,
   "metadata": {
    "collapsed": false
   },
   "outputs": [
    {
     "name": "stdout",
     "output_type": "stream",
     "text": [
      "Inside public method\n",
      "somevar value before calling private method  10\n",
      "Inside private method\n",
      "20\n"
     ]
    }
   ],
   "source": [
    "class Class1(object):\n",
    "    def outside(self):\n",
    "        print(\"Inside public method\")\n",
    "        self.somevar = 10\n",
    "        print(\"somevar value before calling private method \",self.somevar)\n",
    "        self.__inside()\n",
    "        \n",
    "    # To create a private method, prefix __ (double underscore) to the method name\n",
    "    def __inside(self):\n",
    "        print(\"Inside private method\")\n",
    "        self.somevar = 20\n",
    "        \n",
    "p = Class1()\n",
    "p.outside() \n",
    "print(p.somevar)"
   ]
  },
  {
   "cell_type": "markdown",
   "metadata": {
    "collapsed": false
   },
   "source": [
    "More about private methods and variables can be read at the following links:\n",
    "\n",
    "http://stackoverflow.com/questions/70528/why-are-pythons-private-methods-not-actually-private\n",
    "\n",
    "http://effbot.org/pyfaq/tutor-how-do-i-make-public-and-private-attributes-and-methods-in-my-classes.htm"
   ]
  },
  {
   "cell_type": "markdown",
   "metadata": {},
   "source": [
    "## Class Variable\n",
    "\n",
    "A variable that is shared across all instances of a class. Class variables are defined within a class but \n",
    "outside any of the class methods. Class variables are not used as frequently as instance variables."
   ]
  },
  {
   "cell_type": "code",
   "execution_count": 1,
   "metadata": {
    "collapsed": false
   },
   "outputs": [
    {
     "name": "stdout",
     "output_type": "stream",
     "text": [
      "Name:    Zeera , Salary:    7000\n",
      "Total Employee 4\n",
      "I have a Employee class\n"
     ]
    }
   ],
   "source": [
    "class Employee(object):\n",
    "    empCount = 0 # Class variable. No self. prefix\n",
    "    className = 'Employee' # Class variable. No self. prefix\n",
    "    \n",
    "    def __init__(self, name, salary):\n",
    "        self.name = name\n",
    "        self.salary = salary\n",
    "        Employee.empCount +=1\n",
    "        \n",
    "    def displayCount(self):\n",
    "        print(\"Total Employee %d\" %Employee.empCount)\n",
    "    \n",
    "    def displayEmployee(self):\n",
    "        print(\"Name:   \", self.name,  \", Salary:   \", self.salary)\n",
    "        \n",
    "emp1 = Employee(\"Tara\", 20000)\n",
    "emp2 = Employee(\"Zeera\", 7000)\n",
    "emp3 = Employee(\"Cara\", 5000)\n",
    "emp4 = Employee(\"John\",4000)\n",
    "emp2.displayEmployee()\n",
    "emp2.displayCount()\n",
    "#print \"Total Employee %d\" % Employee.empCount\n",
    "\n",
    "if(emp2.className == 'Employee'):\n",
    "    print(\"I have a Employee class\")"
   ]
  },
  {
   "cell_type": "markdown",
   "metadata": {},
   "source": [
    "## Documentation in a class should be included right after the class definition."
   ]
  },
  {
   "cell_type": "code",
   "execution_count": 17,
   "metadata": {
    "collapsed": false
   },
   "outputs": [
    {
     "name": "stdout",
     "output_type": "stream",
     "text": [
      "Please enter name of your state Texas\n",
      "Still use less water!\n"
     ]
    }
   ],
   "source": [
    "# Example of documentation in a class\n",
    "class SaveWater:\n",
    "    ''' This is a documentation of SaveWater'''    \n",
    "    def __init__(self,statename):\n",
    "        self.statename = statename\n",
    "        if self.statename.lower() == \"california\":\n",
    "            print(\"Use less water!\")\n",
    "        else:\n",
    "            print(\"Still use less water!\")\n",
    "        \n",
    "statename = input(\"Please enter name of your state \")\n",
    "s = SaveWater(statename)"
   ]
  },
  {
   "cell_type": "code",
   "execution_count": null,
   "metadata": {
    "collapsed": false
   },
   "outputs": [],
   "source": [
    "print(s.__doc__)"
   ]
  },
  {
   "cell_type": "markdown",
   "metadata": {
    "collapsed": false
   },
   "source": [
    "## Class Inheritance \n",
    "\n",
    "The transfer of the characteristics of a class to \n",
    "other classes that are derived from it."
   ]
  },
  {
   "cell_type": "code",
   "execution_count": 5,
   "metadata": {
    "collapsed": false
   },
   "outputs": [
    {
     "name": "stdout",
     "output_type": "stream",
     "text": [
      "I'm an animal!\n",
      "Bow-wow\n",
      "Meow\n"
     ]
    }
   ],
   "source": [
    "# An example of an inherited class\n",
    "class Animal:\n",
    "    def say_something(self):\n",
    "        return \"I'm an animal!\"\n",
    "    \n",
    "'''\n",
    "Here Cat and Dog are child classes that are inheriting from Animal. \n",
    "The child class, say_something method overrides the behavior \n",
    "of the say_something of the parent class. This is called method overriding. \n",
    "'''\n",
    "\n",
    "class Cat(Animal):\n",
    "    def say_something(self):\n",
    "        return \"Meow\"\n",
    "    \n",
    "class Dog(Animal):\n",
    "    def say_something(self):\n",
    "        return \"Bow-wow\"\n",
    "    \n",
    "a = Animal()\n",
    "print(a.say_something())\n",
    "d = Dog()\n",
    "print(d.say_something())\n",
    "c = Cat()\n",
    "print(c.say_something())"
   ]
  },
  {
   "cell_type": "markdown",
   "metadata": {},
   "source": [
    "## Super function call\n",
    "\n",
    "Sometimes you will have to call both the child class method and also the\n",
    "parent class (also called super class) method. You can do so by using \n",
    "super method."
   ]
  },
  {
   "cell_type": "code",
   "execution_count": 7,
   "metadata": {
    "collapsed": false
   },
   "outputs": [
    {
     "name": "stdout",
     "output_type": "stream",
     "text": [
      "I'm an animal! - Meow\n",
      "I'm an animal! - Bow-wow\n"
     ]
    }
   ],
   "source": [
    "class Animal: \n",
    "    def say_something(self):\n",
    "        return \"I'm an animal!\"\n",
    "    \n",
    "#child class or derived class\n",
    "class Cat(Animal):\n",
    "    def say_something(self):\n",
    "        # super(child_class_name,self).methodname()\n",
    "        # here methodname() should be the method that \n",
    "        # you want to call from the parent class\n",
    "        s = super(Cat, self).say_something()\n",
    "        return \"%s - %s\" %(s, \"Meow\")\n",
    "    \n",
    "class Dog(Animal):\n",
    "    def say_something(self):\n",
    "        s = super(Dog,self).say_something()\n",
    "        return \"%s - %s\" %(s, \"Bow-wow\")\n",
    "c = Cat()\n",
    "print(c.say_something())\n",
    "d = Dog()\n",
    "print(d.say_something())"
   ]
  },
  {
   "cell_type": "markdown",
   "metadata": {},
   "source": [
    "## Method overriding between child and parent class."
   ]
  },
  {
   "cell_type": "code",
   "execution_count": 8,
   "metadata": {
    "collapsed": false
   },
   "outputs": [
    {
     "name": "stdout",
     "output_type": "stream",
     "text": [
      "Dog eating\n",
      "Dog\n",
      "Animal drinking\n"
     ]
    }
   ],
   "source": [
    "class Animal(object):\n",
    "    name = 'Animal' # class variable\n",
    "    def eat(self):\n",
    "        print(\"Animal eating\")\n",
    "    def drink(self):\n",
    "        print(\"Animal drinking\")\n",
    "        \n",
    "class Dog(Animal):\n",
    "    name = 'Dog' # class variable\n",
    "    def eat(self): \n",
    "        print(\"Dog eating\")\n",
    "        \n",
    "d = Dog()\n",
    "d.eat()\n",
    "print(d.name)\n",
    "d.drink()"
   ]
  },
  {
   "cell_type": "code",
   "execution_count": 32,
   "metadata": {
    "collapsed": false
   },
   "outputs": [
    {
     "name": "stdout",
     "output_type": "stream",
     "text": [
      "Dog eating\n",
      "Organism\n",
      "Organism drinking\n"
     ]
    }
   ],
   "source": [
    "# multiple inheritance.  A child can have multiple parents.\n",
    "class Organism(object):\n",
    "    name = 'Organism'\n",
    "    def eat(self):\n",
    "        print('Organism eating')\n",
    "    def drink(self):\n",
    "        print('Organism drinking')\n",
    "        \n",
    "class Animal(object):\n",
    "    name = 'Animal'\n",
    "    def eat(self):        \n",
    "        print(\"Animal eating\")\n",
    "           \n",
    "class Dog(Organism, Animal):\n",
    "    #name = 'Dog'\n",
    "    def eat(self):\n",
    "        print(\"Dog eating\")\n",
    "        \n",
    "d = Dog()\n",
    "d.eat()\n",
    "print(d.name)\n",
    "d.drink()"
   ]
  },
  {
   "cell_type": "markdown",
   "metadata": {},
   "source": [
    "## Multiple inheritance\n",
    "\n",
    "When two parents have same method(s) then the method in the left most \n",
    "parent of the child class will be executed."
   ]
  },
  {
   "cell_type": "code",
   "execution_count": 9,
   "metadata": {
    "collapsed": false
   },
   "outputs": [
    {
     "name": "stdout",
     "output_type": "stream",
     "text": [
      "Dog eating\n",
      "Dog\n",
      "Animal drinking\n"
     ]
    }
   ],
   "source": [
    "class Organism:\n",
    "    name = 'Organism'\n",
    "    def eat(self):\n",
    "        print('Organism eating')\n",
    "    def drink(self):\n",
    "        print('Organism drinking')\n",
    "        \n",
    "class Animal:\n",
    "    name = 'Animal'\n",
    "    def eat(self):        \n",
    "        print(\"Animal eating\")\n",
    "    def drink(self):\n",
    "        print('Animal drinking')\n",
    " \n",
    "class Dog(Animal, Organism):\n",
    "    name = 'Dog'\n",
    "    def eat(self):\n",
    "        print(\"Dog eating\")\n",
    "        \n",
    "d = Dog()\n",
    "d.eat()\n",
    "print(d.name)\n",
    "d.drink()"
   ]
  },
  {
   "cell_type": "markdown",
   "metadata": {},
   "source": [
    "## Diamond problem \n",
    "\n",
    "Multi level Mutiple inheritance \n",
    "\n",
    "http://stackoverflow.com/questions/3277367/how-does-pythons-super-work-with-multiple-inheritance\n",
    "\n",
    "http://en.wikipedia.org/wiki/Multiple_inheritance#The_diamond_problem   "
   ]
  },
  {
   "cell_type": "code",
   "execution_count": 36,
   "metadata": {
    "collapsed": false
   },
   "outputs": [
    {
     "name": "stdout",
     "output_type": "stream",
     "text": [
      "Animal eating\n",
      "Dog eating\n"
     ]
    }
   ],
   "source": [
    "class LivingBeing(object):\n",
    "    name = 'Living Being'\n",
    "    def drink(self):\n",
    "        print(\"Living being drinking\")\n",
    "    def eat(self):\n",
    "        print(\"Living being eating\")\n",
    "\n",
    "class Organism(LivingBeing):\n",
    "    name = 'Organism'\n",
    "    #def eat(self):\n",
    "    #    print(\"Organism eating\")\n",
    "        \n",
    "class Animal(LivingBeing):\n",
    "    name = 'Animal'\n",
    "    def eat(self):        \n",
    "        print(\"Animal eating\")\n",
    "    def drink(self):\n",
    "        print('Animal drinking')\n",
    "        \n",
    "class Dog(Organism, Animal):\n",
    "    name = 'Dog'\n",
    "    def eat(self):\n",
    "        # Only the first super class eat function is called\n",
    "        super(Dog,self).eat()\n",
    "        print(\"Dog eating\")\n",
    "d = Dog()\n",
    "d.eat()"
   ]
  },
  {
   "cell_type": "markdown",
   "metadata": {
    "collapsed": false
   },
   "source": [
    "## Best Practices:\n",
    "\n",
    "1) Always use \\__init\\__ to initialize data.\n",
    "\n",
    "2) If you have to get user input then make sure to obtain the user input outside the instance method so that the class is generic and can be used with no change in multiple places. \n",
    "\n",
    "3) Use self keyword as the first argument for the instance or bound methods. \n",
    "\n",
    "4) Use inheritence whenever you can to use the functionalities of an already defined class. \n",
    "\n",
    "5) Use PEP8 naming convention for class names, methods and variables. "
   ]
  },
  {
   "cell_type": "code",
   "execution_count": null,
   "metadata": {
    "collapsed": true
   },
   "outputs": [],
   "source": []
  }
 ],
 "metadata": {
  "kernelspec": {
   "display_name": "Python 3",
   "language": "python",
   "name": "python3"
  },
  "language_info": {
   "codemirror_mode": {
    "name": "ipython",
    "version": 3
   },
   "file_extension": ".py",
   "mimetype": "text/x-python",
   "name": "python",
   "nbconvert_exporter": "python",
   "pygments_lexer": "ipython3",
   "version": "3.6.0"
  }
 },
 "nbformat": 4,
 "nbformat_minor": 0
}
