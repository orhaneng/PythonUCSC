{
 "cells": [
  {
   "cell_type": "markdown",
   "metadata": {},
   "source": [
    "### Content\n",
    "\n",
    "In this notebook we will discuss the following:\n",
    "\n",
    "1) Operator overloading\n",
    "\n",
    "2) Abstract classes\n",
    "\n",
    "3) class method\n",
    "\n",
    "4) static method\n",
    "\n",
    "5) Proxy design pattern\n",
    "\n",
    "6) Factory design pattern"
   ]
  },
  {
   "cell_type": "markdown",
   "metadata": {},
   "source": [
    "Operator overloading: The assignment of more than one function to a \n",
    "particular operator.\n",
    "\n",
    "More reading material:\n",
    "    \n",
    "https://docs.python.org/2/library/operator.html\n",
    "    \n",
    "http://thepythonguru.com/python-operator-overloading/"
   ]
  },
  {
   "cell_type": "markdown",
   "metadata": {},
   "source": [
    "Question - Let us say we have two vectors (5, 8) and (5, -2) and we want to add them. The answer should be (10, 6). Can we use the addition operator '+' to do this?"
   ]
  },
  {
   "cell_type": "code",
   "execution_count": null,
   "metadata": {},
   "outputs": [],
   "source": [
    "'''\n",
    "When we try (5, 8) + (5, -2) we get a tuple (5, 8, 5, -2). which is not what \n",
    "we were expecting. \n",
    "'''\n",
    "a = (5, 8)\n",
    "b = (5, -2) \n",
    "c = a + b\n",
    "print(c)  # here + gives us a new tuple. Which is not our desired result."
   ]
  },
  {
   "cell_type": "markdown",
   "metadata": {},
   "source": [
    "Solution - To perform above vector addition, we need to give a new meaning to the addition operator. For this, we define an \\__add\\__ method in the class that will automatically get called when instances of the class have to be added using the add, (+) operator. "
   ]
  },
  {
   "cell_type": "code",
   "execution_count": null,
   "metadata": {},
   "outputs": [],
   "source": [
    "class Vector(object):\n",
    "    def __init__(self, a, b):\n",
    "        self.a = a\n",
    "        self.b = b\n",
    "\n",
    "    def __str__(self):\n",
    "        return 'Vector (%d, %d)' % (self.a, self.b)\n",
    "   \n",
    "    def __add__(self,other):\n",
    "        return Vector(self.a + other.a, self.b + other.b)\n",
    "    \n",
    "\n",
    "v1 = Vector(5,8)\n",
    "v2 = Vector(5,-2)\n",
    "# when Python interpreter sees + it looks if there is a ___add__ defined in \n",
    "# the class and if it, then that method will be used. \n",
    "print(v1+v2)"
   ]
  },
  {
   "cell_type": "markdown",
   "metadata": {},
   "source": [
    "Question - How can we notify a class if it fails to implement an important method?\n",
    "\n",
    "Solution - how about we have a parent class that raises a flag whenever a method is not impleremented in the child class? This is a reasonable solution. "
   ]
  },
  {
   "cell_type": "markdown",
   "metadata": {},
   "source": [
    "Abstract classes are used to define a signature that will be implemented \n",
    "by all the classes that inherit it. For example, let us say that two \n",
    "programming groups have to read and write into files but how they read and \n",
    "write methods may differ. In such cases we can have read and write method\n",
    "signature in the abstract class and the two groups can inherit from the \n",
    "abstract class and create their own concrete classes.\n",
    "\n",
    "Below is an example of an abstract class without importing any special \n",
    "module.\n",
    "\n",
    "Here the abstract class AbstractImage has the methods that consist of \n",
    "signature that all the child classes will inherit. We are raising not \n",
    "implemented error to say that the methods by themselves are not doing \n",
    "anything until implemented by a child class. "
   ]
  },
  {
   "cell_type": "code",
   "execution_count": null,
   "metadata": {},
   "outputs": [],
   "source": [
    "class AbstractImage(object):\n",
    "    def read(self):\n",
    "        raise NotImplementedError()\n",
    "    def write(self):\n",
    "        raise NotImplementedError()\n",
    "\n",
    "ai = AbstractImage()\n",
    "print(ai)\n",
    "ai.read()"
   ]
  },
  {
   "cell_type": "code",
   "execution_count": null,
   "metadata": {},
   "outputs": [],
   "source": [
    "class AbstractDicom(object):   \n",
    "    def read(self):\n",
    "        raise NotImplementedError()\n",
    "    def write(self):\n",
    "        raise NotImplementedError()\n",
    "    \n",
    "class Dicom(AbstractDicom):\n",
    "    def read(self):\n",
    "        print(\"reading file in the child class\")\n",
    "        \n",
    "d = Dicom()\n",
    "print(d)\n",
    "d.read() # Makes the call to Dicom child class"
   ]
  },
  {
   "cell_type": "markdown",
   "metadata": {},
   "source": [
    "What will happen if make a call to write() method? \n",
    "\n",
    "d.write() \n",
    "\n",
    "First Python makes the call to Dicom child class. But since 'write' method \n",
    "is not implemented in the child class the write method in the parent class \n",
    "will be called and 'NotImplementedError' will be raised. Let's check."
   ]
  },
  {
   "cell_type": "code",
   "execution_count": null,
   "metadata": {},
   "outputs": [],
   "source": [
    "# d.write() "
   ]
  },
  {
   "cell_type": "code",
   "execution_count": null,
   "metadata": {},
   "outputs": [],
   "source": [
    "class AbstractDicom(object):\n",
    "    def read(self):\n",
    "        raise NotImplementedError()\n",
    "    def write(self):\n",
    "        raise NotImplementedError()\n",
    "    \n",
    "class Dicom(AbstractDicom):\n",
    "    def read(self):\n",
    "        print(\"reading file\")\n",
    "    def write(self):\n",
    "        print(\"writing file\")\n",
    "        \n",
    "d = Dicom()\n",
    "print(d)\n",
    "d.read() # Makes the call to Dicom child class\n",
    "d.write() # Makes the call to Dicom child class"
   ]
  },
  {
   "cell_type": "code",
   "execution_count": null,
   "metadata": {},
   "outputs": [],
   "source": [
    "'''\n",
    "Create an abstract class called 'InterestCal'. Create a child class called \n",
    "'CICal'. The 'CICal' class will inherit the abstract class and implement compound \n",
    "interesst calculator. The formula is finalval = P*(1+(r/n)**(years*n))\n",
    "where n is the number of times the amount is compounded annually.\n",
    "\n",
    "This child class will have three methods:\n",
    "1) __init__ method\n",
    "2) a method called compcal that computes the compound interest \n",
    "3) a method called compout that prints the compounded value.\n",
    "\n",
    "\n",
    "Once all classes have been defined, then call to calculate and print the \n",
    "amount. The user should pass the attributes Principal, years, \n",
    "interestrate, n when the class is instanstiated. \n",
    "\n",
    "Follow the code below:\n",
    "\n",
    "c = CICal(1000,5,6,2) \n",
    "c.compcal()\n",
    "print(c.compout())\n",
    "\n",
    "In the above code, the principal amount is 1000, the number of years is 5, \n",
    "the interest rate is 6%, and n = 2. \n",
    "'''"
   ]
  },
  {
   "cell_type": "markdown",
   "metadata": {
    "collapsed": true
   },
   "source": [
    "Abstract base classes can be implemented by using a module called abc. \n",
    "Please check these links to learn more:\n",
    "\n",
    "https://pymotw.com/2/abc/\n",
    "\n",
    "https://docs.python.org/2/library/abc.html"
   ]
  },
  {
   "cell_type": "markdown",
   "metadata": {
    "collapsed": true
   },
   "source": [
    "Class methods are methods that are bound to the class itself and not \n",
    "to any object(s).  \n",
    "Class method takes the class itself as the first argument. \n",
    "\n",
    "syntax for class method\n",
    "```\n",
    "@classmethod\n",
    "def name_of_the_method(cls):\n",
    "    statements\n",
    "```\n",
    " \n",
    "Note 1: @classmethod is a decorator. A decorator is a function that takes \n",
    "another function and extends the behavior of the latter function without \n",
    "explicitly modifying it. Decorators provide a simple syntax for calling \n",
    "higher-order functions. The method classmethod takes name_of_the_method as \n",
    "an input and modifies it's behavior.\n",
    "\n",
    "Note 2: cls is analogous to self keyword in instance methods. Here cls is \n",
    "a label for the class itself."
   ]
  },
  {
   "cell_type": "code",
   "execution_count": null,
   "metadata": {},
   "outputs": [],
   "source": [
    "class Cylinder(object):\n",
    "    radius = 42\n",
    "    @classmethod\n",
    "    def print_radius(cls):\n",
    "        print(\"The radius is: \", cls.radius)\n",
    "        # since we want to print the value of radius we have to say \n",
    "        # cls.radius or Cylinder.radius\n",
    "        return True\n",
    "b = Cylinder.print_radius()\n",
    "print(b)\n",
    "\n",
    "p = Cylinder()\n",
    "print(p.print_radius())"
   ]
  },
  {
   "cell_type": "code",
   "execution_count": null,
   "metadata": {},
   "outputs": [],
   "source": [
    "import random\n",
    "\n",
    "class Vector(object):\n",
    "    def __init__(self, a, b):\n",
    "        self.a = a\n",
    "        self.b = b\n",
    "        \n",
    "    @classmethod\n",
    "    def createvec(cls):\n",
    "        return cls(random.randint(1,10), random.randint(1,10))\n",
    "    \n",
    "    def __str__(self):\n",
    "        return 'Vector (%d, %d)' % (self.a, self.b)\n",
    "   \n",
    "    def __add__(self,other):\n",
    "        return Vector(self.a + other.a, self.b + other.b)  \n",
    "\n",
    "v1 = Vector.createvec()\n",
    "v2 = Vector.createvec()\n",
    "print(v1+v2)"
   ]
  },
  {
   "cell_type": "markdown",
   "metadata": {
    "collapsed": true
   },
   "source": [
    "Staticmethod doesn't take the class (cls) or self as arguments. It is used \n",
    "to define functions that logically belong to the class and are accessible \n",
    "to all the instances of the class."
   ]
  },
  {
   "cell_type": "code",
   "execution_count": 3,
   "metadata": {},
   "outputs": [
    {
     "name": "stdout",
     "output_type": "stream",
     "text": [
      "We can compute area and volume of the cylinder using methods compArea and compVolume\n",
      "314.1592653589793\n",
      "6283.185307179587\n"
     ]
    }
   ],
   "source": [
    "import math\n",
    "class Cylinder(object):\n",
    "    \n",
    "    @staticmethod\n",
    "    def youChoose():\n",
    "        return \"We can compute area and volume of the cylinder using methods compArea and compVolume\"\n",
    "    \n",
    "    def compArea(self, radius):\n",
    "        Area = math.pi *radius*radius\n",
    "        return Area\n",
    "    \n",
    "    def compVolume(self, radius, height):\n",
    "        volume = math.pi*radius*radius*height\n",
    "        return volume\n",
    "\n",
    "b = Cylinder()\n",
    "print(b.youChoose())\n",
    "\n",
    "print(b.compArea(10))\n",
    "print(b.compVolume(10, 20))"
   ]
  },
  {
   "cell_type": "markdown",
   "metadata": {
    "collapsed": true
   },
   "source": [
    "Accessing a missing attribute:\n",
    "    \n",
    "When we make a call to an attribute that is not defined for an instance then \n",
    "Python will throw an 'AttributeError'."
   ]
  },
  {
   "cell_type": "code",
   "execution_count": 4,
   "metadata": {},
   "outputs": [
    {
     "ename": "AttributeError",
     "evalue": "'United' object has no attribute 'age'",
     "output_type": "error",
     "traceback": [
      "\u001b[0;31m---------------------------------------------------------------------------\u001b[0m",
      "\u001b[0;31mAttributeError\u001b[0m                            Traceback (most recent call last)",
      "\u001b[0;32m<ipython-input-4-8d07cedf0834>\u001b[0m in \u001b[0;36m<module>\u001b[0;34m()\u001b[0m\n\u001b[1;32m      5\u001b[0m \u001b[0;34m\u001b[0m\u001b[0m\n\u001b[1;32m      6\u001b[0m \u001b[0mu1\u001b[0m \u001b[0;34m=\u001b[0m \u001b[0mUnited\u001b[0m\u001b[0;34m(\u001b[0m\u001b[0;34m\"Joy\"\u001b[0m\u001b[0;34m)\u001b[0m\u001b[0;34m\u001b[0m\u001b[0m\n\u001b[0;32m----> 7\u001b[0;31m \u001b[0mu1\u001b[0m\u001b[0;34m.\u001b[0m\u001b[0mage\u001b[0m\u001b[0;34m\u001b[0m\u001b[0m\n\u001b[0m",
      "\u001b[0;31mAttributeError\u001b[0m: 'United' object has no attribute 'age'"
     ]
    }
   ],
   "source": [
    "# An example of accessing a missing attribute\n",
    "class United(object):\n",
    "    def __init__(self, name):\n",
    "        self.name = name\n",
    "        \n",
    "u1 = United(\"Joy\")\n",
    "u1.age"
   ]
  },
  {
   "cell_type": "code",
   "execution_count": 5,
   "metadata": {},
   "outputs": [
    {
     "name": "stdout",
     "output_type": "stream",
     "text": [
      "Joy\n",
      "25\n"
     ]
    }
   ],
   "source": [
    "# Solution - define the attribute in the class so that we don't get an exception\n",
    "\n",
    "class United(object):\n",
    "    def __init__(self, name, age):\n",
    "        self.name = name\n",
    "        self.age = age\n",
    "            \n",
    "u1 = United(\"Joy\", 25)\n",
    "print(u1.name)\n",
    "print(u1.age)"
   ]
  },
  {
   "cell_type": "markdown",
   "metadata": {},
   "source": [
    "Can we safely access attributes that are not defined? Yes, we can by using the magic method \\__getattr\\__."
   ]
  },
  {
   "cell_type": "code",
   "execution_count": 6,
   "metadata": {},
   "outputs": [
    {
     "name": "stdout",
     "output_type": "stream",
     "text": [
      "Joy\n",
      "Joy\n",
      "['__class__', '__delattr__', '__dict__', '__dir__', '__doc__', '__eq__', '__format__', '__ge__', '__getattr__', '__getattribute__', '__gt__', '__hash__', '__init__', '__le__', '__lt__', '__module__', '__ne__', '__new__', '__reduce__', '__reduce_ex__', '__repr__', '__setattr__', '__sizeof__', '__str__', '__subclasshook__', '__weakref__']\n",
      "Joy\n"
     ]
    }
   ],
   "source": [
    "class United(object):\n",
    "    def __init__(self, name):\n",
    "        self.name = name\n",
    "        \n",
    "    #def printOut(self):\n",
    "    #    return \"The name is: \", self.name\n",
    "    \n",
    "    def __getattr__(self, attr):\n",
    "        return self.name\n",
    "    \n",
    "u2 = United(\"Joy\")\n",
    "print(u2.name)\n",
    "print(u2.age)\n",
    "print(dir(United))\n",
    "print(u2.printOut)"
   ]
  },
  {
   "cell_type": "markdown",
   "metadata": {},
   "source": [
    "Design Pattern is a general repeatable solution to a commonly occurring \n",
    "problem in software design. It is a description or template for how to \n",
    "solve a problem that can be used in many different situations.\n",
    "https://sourcemaking.com/design_patterns\n",
    "\n",
    "Two design patters that we will consider are:\n",
    "    Proxy pattern\n",
    "    Factory pattern"
   ]
  },
  {
   "cell_type": "markdown",
   "metadata": {},
   "source": [
    "Proxy pattern is used when we want to shield access to an object from the\n",
    "outside world. For proxy to work, in addition to the class that you want to \n",
    "shield, you also have to create a proxy class, which will internally create \n",
    "an instance of the shielded class when a certain requirement is satisfied \n",
    "or a request is made.\n",
    "\n",
    "The syntax for Proxy pattern is \n",
    "```\n",
    "class Proxy:\n",
    "    def __init__(self,subject):\n",
    "        self.__subject = subject\n",
    "    def __getattr__(self,name):\n",
    "        return getattr( self.__subject, name )   \n",
    "```"
   ]
  },
  {
   "cell_type": "code",
   "execution_count": null,
   "metadata": {},
   "outputs": [],
   "source": [
    "# Proxy Pattern is used when an object has to be shielded from its clients.\n",
    "\n",
    "class Maintenance:\n",
    "    def visitpage(self):\n",
    "        print(\"Our site is under maintenance, please visit us later.\")\n",
    "        \n",
    "class NonMaintenance:\n",
    "    def visitpage(self):\n",
    "        print(\"Welcome to the site\")\n",
    "\n",
    "class Proxy:\n",
    "    def __init__(self, maintenanceBool):\n",
    "        if maintenanceBool:\n",
    "            self.implementation = Maintenance()\n",
    "        else:\n",
    "            self.implementation = NonMaintenance()\n",
    "    def __getattr__(self, name):\n",
    "        print(name, type(name))\n",
    "        return getattr(self.implementation, name)\n",
    "\n",
    "MAINTENANCE = False\n",
    "p = Proxy(MAINTENANCE)\n",
    "p.visitpage()"
   ]
  },
  {
   "cell_type": "code",
   "execution_count": null,
   "metadata": {},
   "outputs": [],
   "source": [
    "# Factory pattern\n",
    "\n",
    "class Menu(object):\n",
    "    @staticmethod   \n",
    "    # @staticmethod is an decorator\n",
    "    def factory(objtype):\n",
    "        if objtype == 1: \n",
    "            return Burger()\n",
    "        if objtype == 2: \n",
    "            return Fries()\n",
    "        print(\"Bad menu choice: \")\n",
    "    \n",
    "class Burger(Menu):\n",
    "    def listitem(self): print(\"Burger\")\n",
    "\n",
    "class Fries(Menu):\n",
    "    def listitem(self): print(\"Fries\")\n",
    "\n",
    "print(\"Choose a menu item\")\n",
    "print(\"1: Burger, 2: Fries\")\n",
    "\n",
    "choice = int(input('Enter your choice number :'))\n",
    "         \n",
    "f = Menu.factory(choice)\n",
    "f.listitem()\n",
    "print(type(f))"
   ]
  },
  {
   "cell_type": "code",
   "execution_count": null,
   "metadata": {},
   "outputs": [],
   "source": []
  }
 ],
 "metadata": {
  "kernelspec": {
   "display_name": "Python 3",
   "language": "python",
   "name": "python3"
  },
  "language_info": {
   "codemirror_mode": {
    "name": "ipython",
    "version": 3
   },
   "file_extension": ".py",
   "mimetype": "text/x-python",
   "name": "python",
   "nbconvert_exporter": "python",
   "pygments_lexer": "ipython3",
   "version": "3.5.2"
  },
  "widgets": {
   "state": {},
   "version": "1.1.2"
  }
 },
 "nbformat": 4,
 "nbformat_minor": 1
}
