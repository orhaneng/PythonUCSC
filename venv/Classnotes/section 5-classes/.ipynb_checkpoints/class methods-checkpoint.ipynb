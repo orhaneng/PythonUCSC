{
 "cells": [
  {
   "cell_type": "code",
   "execution_count": 8,
   "metadata": {
    "collapsed": false
   },
   "outputs": [
    {
     "name": "stdout",
     "output_type": "stream",
     "text": [
      "The radius is:  42\n"
     ]
    }
   ],
   "source": [
    "'''\n",
    "Class methods are methods that are bound to the class itself and not to any object(s). \n",
    "\n",
    "'''\n",
    "class Pizza(object):\n",
    "    radius = 42\n",
    "    @classmethod\n",
    "    def get_radius(cls):\n",
    "        print \"The radius is: \", cls.radius\n",
    "        return cls.radius\n",
    "\n",
    "b = Pizza.get_radius()"
   ]
  },
  {
   "cell_type": "code",
   "execution_count": 19,
   "metadata": {
    "collapsed": false
   },
   "outputs": [
    {
     "name": "stdout",
     "output_type": "stream",
     "text": [
      "The area is: 2827.433388\n",
      "The volume is: 56548.667765\n"
     ]
    }
   ],
   "source": [
    "import math\n",
    "class Pizza(object):\n",
    "    def __init__(self, radius, height):\n",
    "        self.radius = radius\n",
    "        self.height = height\n",
    " \n",
    "    @staticmethod\n",
    "    def compute_area(radius):\n",
    "        c = math.pi * (radius ** 2)\n",
    "        print \"The area is: %0.2f\" %c\n",
    "        return c\n",
    " \n",
    "    @classmethod\n",
    "    def compute_volume(cls, height, radius):\n",
    "        d = height * cls.compute_area(radius)\n",
    "        print \"The volume is: %0.2f\" %d\n",
    "        #return d\n",
    " \n",
    "    def get_volume(self):\n",
    "        \n",
    "        return self.compute_volume(self.height, self.radius)\n",
    "\n",
    "b = Pizza.compute_volume(20,30)"
   ]
  },
  {
   "cell_type": "code",
   "execution_count": null,
   "metadata": {
    "collapsed": true
   },
   "outputs": [],
   "source": []
  }
 ],
 "metadata": {
  "kernelspec": {
   "display_name": "Python 2",
   "language": "python",
   "name": "python2"
  },
  "language_info": {
   "codemirror_mode": {
    "name": "ipython",
    "version": 2
   },
   "file_extension": ".py",
   "mimetype": "text/x-python",
   "name": "python",
   "nbconvert_exporter": "python",
   "pygments_lexer": "ipython2",
   "version": "2.7.9"
  }
 },
 "nbformat": 4,
 "nbformat_minor": 0
}
