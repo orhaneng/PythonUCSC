{
 "cells": [
  {
   "cell_type": "markdown",
   "metadata": {},
   "source": [
    "### Content \n",
    "\n",
    "In this notebook we will discuss:\n",
    "1. File IO\n",
    "\n",
    "    a. using module csv\n",
    "    \n",
    "    b. using module xlrd\n",
    "    \n",
    "2. walking a directory and all its sub-directories\n",
    "\n",
    "    a. glob\n",
    "    \n",
    "    b. os \n",
    "    \n",
    "3. creating custom modules"
   ]
  },
  {
   "cell_type": "code",
   "execution_count": null,
   "metadata": {},
   "outputs": [],
   "source": [
    "import csv\n",
    "with open('exgrade.csv', 'r') as fo:\n",
    "    alllines = csv.reader(fo,delimiter=',')\n",
    "    for lines in alllines:\n",
    "        print(lines)"
   ]
  },
  {
   "cell_type": "code",
   "execution_count": null,
   "metadata": {},
   "outputs": [],
   "source": [
    "import csv\n",
    "with open('animals.csv', 'w') as fo:\n",
    "    wo = csv.writer(fo)\n",
    "    lines = [['Zebra', 10], ['Giraffe', 17]]\n",
    "    wo.writerows(lines)"
   ]
  },
  {
   "cell_type": "code",
   "execution_count": null,
   "metadata": {},
   "outputs": [],
   "source": [
    "import csv\n",
    "with open('animals.csv', 'r') as fo:\n",
    "    alllines = csv.reader(fo,delimiter=',')\n",
    "    for lines in alllines:\n",
    "        print(lines)"
   ]
  },
  {
   "cell_type": "markdown",
   "metadata": {},
   "source": [
    "Module xlrd is used for reading data from xls and xlsx files.\n",
    "\n",
    "To learn more check the following links:\n",
    "\n",
    "http://www.python-excel.org/\n",
    "\n",
    "http://www.youlikeprogramming.com/2012/03/examples-reading-excel-xls-documents-using-pythons-xlrd/"
   ]
  },
  {
   "cell_type": "code",
   "execution_count": null,
   "metadata": {},
   "outputs": [],
   "source": [
    "# Open an excel file and get all the sheet names\n",
    "import xlrd\n",
    "wb = xlrd.open_workbook('exgrade.xls')\n",
    "print(wb.sheet_names())"
   ]
  },
  {
   "cell_type": "code",
   "execution_count": null,
   "metadata": {},
   "outputs": [],
   "source": [
    "# In sheet 1, get the number of rows\n",
    "ws = wb.sheet_by_name('Sheet1')\n",
    "print(ws.nrows)"
   ]
  },
  {
   "cell_type": "code",
   "execution_count": null,
   "metadata": {},
   "outputs": [],
   "source": [
    "print(ws.row(0)) # Get the content of first row as a list\n",
    "print(ws.row(0)[1]) # Get the second element of the first row list "
   ]
  },
  {
   "cell_type": "markdown",
   "metadata": {},
   "source": [
    "Module xlwt is used to write data to xls files. "
   ]
  },
  {
   "cell_type": "code",
   "execution_count": null,
   "metadata": {},
   "outputs": [],
   "source": [
    "# xlwt module is used to write into excel file.\n",
    "# If you do not have it, lets install.\n",
    "import xlwt\n",
    "workbook = xlwt.Workbook() \n",
    "sheet = workbook.add_sheet(\"Sheet 1\") \n",
    "\n",
    "#sheet.write(0, 0, 'Adam') # row, column, value\n",
    "\n",
    "g = [['Name', 'Security code'], \n",
    "     ['Adam', ' 10034'],\n",
    "     ['Nitin', ' 10043'],\n",
    "     ['Rob', ' 10134'],\n",
    "     ['Sheela', ' 10045']]\n",
    "\n",
    "for i,v in enumerate(g):\n",
    "    print(i, v, len(v))\n",
    "    if len(v) >= 2:\n",
    "        sheet.write(i,0,v[0])\n",
    "        sheet.write(i,1,v[1])\n",
    "        \n",
    "workbook.save('Xcel1.xls')"
   ]
  },
  {
   "cell_type": "markdown",
   "metadata": {},
   "source": [
    "Module sqlite3 is used to write data to and read data from databases."
   ]
  },
  {
   "cell_type": "code",
   "execution_count": null,
   "metadata": {},
   "outputs": [],
   "source": [
    "import sqlite3\n",
    "\n",
    "# Create a connection to sqlite\n",
    "conn = sqlite3.connect('test.db')\n",
    "\n",
    "# Open a cursor\n",
    "c = conn.cursor()\n",
    "\n",
    "# Execute any SQL statement\n",
    "# Create table named \"stocks\" if it does not already exist.\n",
    "c.execute(\"create table if not exists stocks \\\n",
    "           (date text, trans text,symbol text, qty real, price real)\")\n",
    "\n",
    "# Add entries\n",
    "c.execute(\"insert into stocks values ('2006-02-05','SELL','RHAT',50,50.25)\")\n",
    "c.execute(\"insert into stocks values ('2006-03-15','BUY','GOOG',1000,350.13)\")\n",
    "c.execute(\"insert into stocks values ('2006-10-05','BUY','GOOG',100000,400.14)\")\n",
    "conn.commit()\n",
    "\n",
    "# Query all the entries in the database\n",
    "alllines = c.execute(\"select * from stocks\")\n",
    "print(alllines)\n",
    "\n",
    "# Print it\n",
    "for lines in alllines:\n",
    "    print(lines)\n",
    "\n",
    "c.close()"
   ]
  },
  {
   "cell_type": "code",
   "execution_count": null,
   "metadata": {},
   "outputs": [],
   "source": [
    "'''\n",
    "In-class activity - Create a database and call it 'UserSignUp.' In the \n",
    "database create a table called 'FirstSignUp' with columns Name, Country, \n",
    "Date, Type. Date should contain information on first login date and type \n",
    "should be paid or free user. Add five entries. Then print out the rows. \n",
    "'''"
   ]
  },
  {
   "cell_type": "markdown",
   "metadata": {},
   "source": [
    "Module os provides operating system dependent functionalities. \n",
    "\n",
    "https://docs.python.org/2/library/os.html"
   ]
  },
  {
   "cell_type": "code",
   "execution_count": null,
   "metadata": {},
   "outputs": [],
   "source": [
    "import os\n",
    "# gives a list of folders and files that are in \n",
    "# the current working directory\n",
    "os.listdir(\".\")"
   ]
  },
  {
   "cell_type": "markdown",
   "metadata": {},
   "source": [
    "Module glob can be used to finds all the pathnames matching a specified \n",
    "pattern according to the rules used by the Unix shell.\n",
    "\n",
    "glob.glob(_directory_name) will return all the files in a particular \n",
    "directory or folder"
   ]
  },
  {
   "cell_type": "code",
   "execution_count": null,
   "metadata": {},
   "outputs": [],
   "source": [
    "import glob\n",
    "\n",
    "# will return a list of files that are in the current working directory \n",
    "print(glob.glob(\"*.*\"))"
   ]
  },
  {
   "cell_type": "code",
   "execution_count": null,
   "metadata": {},
   "outputs": [],
   "source": [
    "# in this example it will return all the ipython notebook files in the \n",
    "# current directory\n",
    "print(glob.glob(\"*.ipynb\"))"
   ]
  },
  {
   "cell_type": "code",
   "execution_count": null,
   "metadata": {},
   "outputs": [],
   "source": [
    "import os\n",
    "# os.walk returns three values - root, directories and files and they are \n",
    "# passed to the variables root, dirs and files respectively.\n",
    "for root, dirs, files in os.walk(\".\"):\n",
    "    # print(root, dirs, files)\n",
    "    for file in files:\n",
    "        if file.endswith(\".py\"):\n",
    "             print(os.path.join(root, file))"
   ]
  },
  {
   "cell_type": "code",
   "execution_count": null,
   "metadata": {},
   "outputs": [],
   "source": [
    "import os\n",
    "print(os.getcwd())"
   ]
  },
  {
   "cell_type": "markdown",
   "metadata": {},
   "source": [
    "Different ways of importing a module."
   ]
  },
  {
   "cell_type": "code",
   "execution_count": null,
   "metadata": {},
   "outputs": [],
   "source": [
    "# Import all functions in a given module.\n",
    "# We have to refer to the module name when \n",
    "# calling the function\n",
    "import math\n",
    "print(math.sin(math.pi/4))"
   ]
  },
  {
   "cell_type": "code",
   "execution_count": null,
   "metadata": {},
   "outputs": [],
   "source": [
    "# Import all functions in a given module.\n",
    "# We do not need to refer to the module name when \n",
    "# calling the function\n",
    "from math import *\n",
    "print(sin(pi/4))"
   ]
  },
  {
   "cell_type": "code",
   "execution_count": null,
   "metadata": {},
   "outputs": [],
   "source": [
    "# Give a shortcut name to the module. \n",
    "# Especially true for modules with long names such as matplotlib\n",
    "import math as ma\n",
    "print(ma.sin(ma.pi/4))"
   ]
  },
  {
   "cell_type": "code",
   "execution_count": null,
   "metadata": {},
   "outputs": [],
   "source": [
    "# Only import the necessary functions from a module\n",
    "# This is memory efficient\n",
    "from math import sin,pi\n",
    "print(sin(pi/4))"
   ]
  },
  {
   "cell_type": "markdown",
   "metadata": {},
   "source": [
    "Subprocess module is useful for making calls to the *nix operating system. \n",
    "Check documentation in https://docs.python.org/2/library/subprocess.html\n",
    "https://pymotw.com/2/subprocess/"
   ]
  },
  {
   "cell_type": "code",
   "execution_count": null,
   "metadata": {},
   "outputs": [],
   "source": [
    "'''\n",
    "You need to use the Popen function and pass the command\n",
    "The following piece of code can only be used on Mac or Linux. \n",
    "\n",
    "Invoking the system shell with shell = True can be a security hazard if \n",
    "combined with untrusted input\n",
    "'''\n",
    "\n",
    "import subprocess\n",
    "sp = subprocess.Popen('ls', stdout=subprocess.PIPE)\n",
    "s = sp.communicate() # Returns a tuple (stdout,stderr)\n",
    "print(s)\n",
    "\n",
    "# You can iterate through the tuple that is returned by the function\n",
    "for items in s:\n",
    "    print(items)"
   ]
  },
  {
   "cell_type": "code",
   "execution_count": null,
   "metadata": {},
   "outputs": [],
   "source": [
    "'''\n",
    "The following subprocess code can be used on Windows\n",
    "'''\n",
    "import subprocess\n",
    "sp = subprocess.Popen('dir', shell =True, stdout=subprocess.PIPE, stderr=subprocess.PIPE)\n",
    "#s = sp.communicate() # Returns a tuple (stdout,stderr)\n",
    "\n",
    "results = []\n",
    "# You can iterate through the tuple that is returned by the function\n",
    "for items in sp.stdout:\n",
    "    results.append(items)\n",
    "    \n",
    "print(results)"
   ]
  },
  {
   "cell_type": "markdown",
   "metadata": {},
   "source": [
    "Creating custom modules"
   ]
  },
  {
   "cell_type": "code",
   "execution_count": null,
   "metadata": {},
   "outputs": [],
   "source": [
    "# The file prog1.py is in the same folder as this IPython notebook\n",
    "import prog1\n",
    "print(prog1.increment(2,3))"
   ]
  },
  {
   "cell_type": "code",
   "execution_count": null,
   "metadata": {},
   "outputs": [],
   "source": [
    "# The file uprog1.py is in the folder \"ufolder\" which is \n",
    "# in the same location as this IPython notebook\n",
    "from ufolder import uprog1\n",
    "print(uprog1.increment(10))"
   ]
  },
  {
   "cell_type": "code",
   "execution_count": null,
   "metadata": {},
   "outputs": [],
   "source": [
    "import ufolder\n",
    "print(ufolder.uprog1.increment(16))"
   ]
  },
  {
   "cell_type": "code",
   "execution_count": null,
   "metadata": {},
   "outputs": [],
   "source": [
    "import ufolder as uf\n",
    "print(uf.uprog1.increment(20,3))"
   ]
  },
  {
   "cell_type": "markdown",
   "metadata": {},
   "source": [
    "Note: sometimes Jupyter (iPython) notebook might give an attribute error when you say - \n",
    "import usermodule_name. \n",
    "\n",
    "the best way to go around this is to say - \n",
    "from usermodule_name import userfile_name"
   ]
  },
  {
   "cell_type": "code",
   "execution_count": null,
   "metadata": {},
   "outputs": [],
   "source": [
    "'''\n",
    "In-class activity - create a folder and make it a Python importable folder. \n",
    "Write a program that returns a list of odd numbers from a given list and \n",
    "save it in that folder. Write a code in the iPython notebook that imports \n",
    "the folder and then make a function call and supply the list.\n",
    "'''"
   ]
  }
 ],
 "metadata": {
  "kernelspec": {
   "display_name": "Python 3",
   "language": "python",
   "name": "python3"
  },
  "language_info": {
   "codemirror_mode": {
    "name": "ipython",
    "version": 3
   },
   "file_extension": ".py",
   "mimetype": "text/x-python",
   "name": "python",
   "nbconvert_exporter": "python",
   "pygments_lexer": "ipython3",
   "version": "3.5.2"
  },
  "widgets": {
   "state": {},
   "version": "1.1.2"
  }
 },
 "nbformat": 4,
 "nbformat_minor": 1
}
